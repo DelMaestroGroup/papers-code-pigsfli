{
 "cells": [
  {
   "cell_type": "markdown",
   "metadata": {},
   "source": [
    "### 3-parameter exponential fitted $\\beta$-scaling"
   ]
  },
  {
   "cell_type": "markdown",
   "metadata": {},
   "source": [
    "Want to fit observable data as a function of $\\beta$ to the form:\n",
    "$$\n",
    "\\mathcal{O}(\\beta) = \\mathcal{O}_{\\beta\\to\\infty} + C_1 e^{-C_2 \\beta}\n",
    "$$"
   ]
  },
  {
   "cell_type": "markdown",
   "metadata": {},
   "source": [
    "where $\\mathcal{O}_{\\beta\\to\\infty}$,$C_1$, and $C_2$ are fitting parameters. The $\\mathcal{O}_{\\beta\\to\\infty}$ parameter will give a large $\\beta$ extrapolation of the observable in question. Here, we will focus on the second Rényi entanglement entropy $S_2$."
   ]
  },
  {
   "cell_type": "code",
   "execution_count": 323,
   "metadata": {},
   "outputs": [],
   "source": [
    "import numpy as np\n",
    "import matplotlib.pyplot as plt\n",
    "import scipy \n",
    "from scipy import optimize"
   ]
  },
  {
   "cell_type": "markdown",
   "metadata": {},
   "source": [
    "Define the exponential model"
   ]
  },
  {
   "cell_type": "code",
   "execution_count": 324,
   "metadata": {},
   "outputs": [],
   "source": [
    "def exponential(x, c1, c2, c3):\n",
    "    return c3 + c1*np.exp(-x*c2)"
   ]
  },
  {
   "cell_type": "code",
   "execution_count": 325,
   "metadata": {},
   "outputs": [],
   "source": [
    "# Array where extrapolated S2s will be saved to\n",
    "extrapolated_S2s = np.zeros(15)\n",
    "extrapolated_S2s_err = np.zeros(15)"
   ]
  },
  {
   "cell_type": "markdown",
   "metadata": {},
   "source": [
    "Feed data points (obtained from a separate script)"
   ]
  },
  {
   "cell_type": "code",
   "execution_count": 326,
   "metadata": {},
   "outputs": [],
   "source": [
    "U_list = np.array([0.500000,\n",
    "                0.730000,\n",
    "                1.065800,\n",
    "                1.556100, \n",
    "                2.272000, \n",
    "                3.300000, \n",
    "                4.843100, \n",
    "                7.071100,   \n",
    "                10.323900,\n",
    "                16.666667, \n",
    "                22.007100, \n",
    "                32.130800,\n",
    "                46.911700,\n",
    "                68.492100,\n",
    "                100.000000])"
   ]
  },
  {
   "cell_type": "code",
   "execution_count": 327,
   "metadata": {},
   "outputs": [],
   "source": [
    "# Define data points\n",
    "betas = np.array([1,2,4,8,16,32]) # betas"
   ]
  },
  {
   "cell_type": "code",
   "execution_count": 328,
   "metadata": {},
   "outputs": [
    {
     "data": {
      "text/plain": [
       "array([[1., 1., 1., 1., 1., 1., 1., 1., 1., 1., 1., 1., 1., 1., 1.],\n",
       "       [1., 1., 1., 1., 1., 1., 1., 1., 1., 1., 1., 1., 1., 1., 1.],\n",
       "       [1., 1., 1., 1., 1., 1., 1., 1., 1., 1., 1., 1., 1., 1., 1.],\n",
       "       [1., 1., 1., 1., 1., 1., 1., 1., 1., 1., 1., 1., 1., 1., 1.],\n",
       "       [1., 1., 1., 1., 1., 1., 1., 1., 1., 1., 1., 1., 1., 1., 1.],\n",
       "       [1., 1., 1., 1., 1., 1., 1., 1., 1., 1., 1., 1., 1., 1., 1.]])"
      ]
     },
     "execution_count": 328,
     "metadata": {},
     "output_type": "execute_result"
    }
   ],
   "source": [
    "data = np.ones((betas.size,15))\n",
    "data"
   ]
  },
  {
   "cell_type": "code",
   "execution_count": 329,
   "metadata": {},
   "outputs": [],
   "source": [
    "# Initialize arrays that will store S2 data (rows: betas, columns: U)\n",
    "data = np.ones((betas.size,15))\n",
    "data[0] = np.loadtxt(\"../ProcessedData/1D_256_256_128_Us_1.000000_1.000000_10001_S2.dat\")[:,1]\n",
    "data[1] = np.loadtxt(\"../ProcessedData/1D_256_256_128_Us_1.000000_2.000000_10001_S2.dat\")[:,1]\n",
    "data[2] = np.loadtxt(\"../ProcessedData/1D_256_256_128_Us_1.000000_4.000000_10001_S2.dat\")[:,1]\n",
    "data[3] = np.loadtxt(\"../ProcessedData/1D_256_256_128_Us_1.000000_8.000000_10001_S2.dat\")[:,1]\n",
    "data[4] = np.loadtxt(\"../ProcessedData/1D_256_256_128_Us_1.000000_16.000000_10001_S2.dat\")[:,1]\n",
    "data[5] = np.loadtxt(\"../ProcessedData/1D_256_256_128_Us_1.000000_32.000000_10001_S2.dat\")[:,1]\n",
    "\n",
    "errs = np.ones((betas.size,15))\n",
    "errs[0] = np.loadtxt(\"../ProcessedData/1D_256_256_128_Us_1.000000_1.000000_10001_S2.dat\")[:,2]\n",
    "errs[1] = np.loadtxt(\"../ProcessedData/1D_256_256_128_Us_1.000000_2.000000_10001_S2.dat\")[:,2]\n",
    "errs[2] = np.loadtxt(\"../ProcessedData/1D_256_256_128_Us_1.000000_4.000000_10001_S2.dat\")[:,2]\n",
    "errs[3] = np.loadtxt(\"../ProcessedData/1D_256_256_128_Us_1.000000_8.000000_10001_S2.dat\")[:,2]\n",
    "errs[4] = np.loadtxt(\"../ProcessedData/1D_256_256_128_Us_1.000000_16.000000_10001_S2.dat\")[:,2]\n",
    "errs[5] = np.loadtxt(\"../ProcessedData/1D_256_256_128_Us_1.000000_32.000000_10001_S2.dat\")[:,2]"
   ]
  },
  {
   "cell_type": "code",
   "execution_count": 330,
   "metadata": {},
   "outputs": [
    {
     "data": {
      "text/plain": [
       "array([3.33421679, 3.144057  , 2.96028472, 2.75322643, 2.58731177,\n",
       "       2.47266143])"
      ]
     },
     "execution_count": 330,
     "metadata": {},
     "output_type": "execute_result"
    }
   ],
   "source": [
    "data[:,0]"
   ]
  },
  {
   "cell_type": "code",
   "execution_count": 331,
   "metadata": {},
   "outputs": [
    {
     "data": {
      "text/plain": [
       "(6, 15)"
      ]
     },
     "execution_count": 331,
     "metadata": {},
     "output_type": "execute_result"
    }
   ],
   "source": [
    "data.shape"
   ]
  },
  {
   "cell_type": "code",
   "execution_count": 332,
   "metadata": {},
   "outputs": [],
   "source": [
    "c1_list = []\n",
    "c1Err_list = []\n",
    "\n",
    "c2_list = []\n",
    "c2Err_list = []\n",
    "\n",
    "c3_list = []\n",
    "c3Err_list = []"
   ]
  },
  {
   "cell_type": "code",
   "execution_count": 333,
   "metadata": {},
   "outputs": [
    {
     "name": "stdout",
     "output_type": "stream",
     "text": [
      "S2 (extrapolated) \n",
      "\n",
      "2.481146 +/- 0.034701\n"
     ]
    },
    {
     "data": {
      "image/png": "[encoded data removed]",
      "text/plain": [
       "<Figure size 432x288 with 1 Axes>"
      ]
     },
     "metadata": {
      "needs_background": "light"
     },
     "output_type": "display_data"
    }
   ],
   "source": [
    "# Obtained with entanglement_combiner.py for betas\n",
    "U = 0.500000\n",
    "y_array_exp = data[:,0]\n",
    "sigmas = errs[:,0]\n",
    "\n",
    "# Perform 3-parameter exponential fit\n",
    "popt_exponential, pcov_exponential = scipy.optimize.curve_fit(exponential, betas[2:], y_array_exp[2:],sigma=sigmas[2:],p0=[0.9,0.1,y_array_exp[-1]])\n",
    "\n",
    "# Extract fit parameters\n",
    "c1,c2,c3 = popt_exponential\n",
    "c1_err,c2_err,c3_err = np.sqrt(np.diag(pcov_exponential))\n",
    "\n",
    "# Save fit parameters for this interaction strength\n",
    "c1_list.append(c1)\n",
    "c1Err_list.append(c1_err)\n",
    "\n",
    "c2_list.append(c2)\n",
    "c2Err_list.append(c2_err)\n",
    "\n",
    "c3_list.append(c3)\n",
    "c3Err_list.append(c3_err)\n",
    "\n",
    "extrapolated_S2s[0] = c3\n",
    "extrapolated_S2s_err[0] = c3_err\n",
    "\n",
    "# Perform the fit\n",
    "betas_fit = np.linspace(min(betas),max(betas)*1,1000)\n",
    "y_fit = exponential(betas_fit,c1,c2,c3)\n",
    "\n",
    "plt.plot(betas_fit,y_fit,label='fit')\n",
    "plt.errorbar(betas,y_array_exp, yerr=sigmas,color='red',marker='o',label='data',fmt='.',\n",
    "            capsize=5)\n",
    "plt.ylabel(r\"$S_2$\")\n",
    "plt.xlabel(r\"$\\beta$\")\n",
    "plt.legend(frameon=False);\n",
    "\n",
    "print(\"S2 (extrapolated) \\n\")\n",
    "print(f\"{c3:0.6f} +/- {c3_err:0.6f}\")"
   ]
  },
  {
   "cell_type": "code",
   "execution_count": 334,
   "metadata": {},
   "outputs": [
    {
     "name": "stdout",
     "output_type": "stream",
     "text": [
      "S2 (extrapolated) \n",
      "\n",
      "2.368975 +/- 0.003893\n"
     ]
    },
    {
     "data": {
      "image/png": "[encoded data removed]",
      "text/plain": [
       "<Figure size 432x288 with 1 Axes>"
      ]
     },
     "metadata": {
      "needs_background": "light"
     },
     "output_type": "display_data"
    }
   ],
   "source": [
    "# Obtained with entanglement_combiner.py for betas\n",
    "U = 0.730000\n",
    "y_array_exp = data[:,1]\n",
    "sigmas = errs[:,1]\n",
    "\n",
    "# Perform 3-parameter exponential fit\n",
    "popt_exponential, pcov_exponential = scipy.optimize.curve_fit(exponential, betas[2:], y_array_exp[2:],sigma=sigmas[2:],p0=[0.9,0.1,y_array_exp[-1]])\n",
    "\n",
    "# Extract fit parameters\n",
    "c1,c2,c3 = popt_exponential\n",
    "c1_err,c2_err,c3_err = np.sqrt(np.diag(pcov_exponential))\n",
    "\n",
    "# Save fit parameters for this interaction strength\n",
    "c1_list.append(c1)\n",
    "c1Err_list.append(c1_err)\n",
    "\n",
    "c2_list.append(c2)\n",
    "c2Err_list.append(c2_err)\n",
    "\n",
    "c3_list.append(c3)\n",
    "c3Err_list.append(c3_err)\n",
    "\n",
    "extrapolated_S2s[1] = c3\n",
    "extrapolated_S2s_err[1] = c3_err\n",
    "\n",
    "# Perform the fit\n",
    "betas_fit = np.linspace(min(betas),max(betas)*1,1000)\n",
    "y_fit = exponential(betas_fit,c1,c2,c3)\n",
    "\n",
    "plt.plot(betas_fit,y_fit,label='fit')\n",
    "plt.errorbar(betas,y_array_exp, yerr=sigmas,color='red',marker='o',label='data',fmt='.',\n",
    "            capsize=5)\n",
    "plt.ylabel(r\"$S_2$\")\n",
    "plt.xlabel(r\"$\\beta$\")\n",
    "plt.legend(frameon=False);\n",
    "\n",
    "print(\"S2 (extrapolated) \\n\")\n",
    "print(f\"{c3:0.6f} +/- {c3_err:0.6f}\")"
   ]
  },
  {
   "cell_type": "code",
   "execution_count": 335,
   "metadata": {},
   "outputs": [
    {
     "name": "stdout",
     "output_type": "stream",
     "text": [
      "S2 (extrapolated) \n",
      "\n",
      "2.314380 +/- 0.022352\n"
     ]
    },
    {
     "data": {
      "image/png": "[encoded data removed]",
      "text/plain": [
       "<Figure size 432x288 with 1 Axes>"
      ]
     },
     "metadata": {
      "needs_background": "light"
     },
     "output_type": "display_data"
    }
   ],
   "source": [
    "# Obtained with entanglement_combiner.py for betas\n",
    "U = 1.0658\n",
    "y_array_exp = data[:,2]\n",
    "sigmas = errs[:,2]\n",
    "\n",
    "# Perform 3-parameter exponential fit\n",
    "popt_exponential, pcov_exponential = scipy.optimize.curve_fit(exponential, betas[2:], y_array_exp[2:],sigma=sigmas[2:],p0=[0.9,0.1,y_array_exp[-1]])\n",
    "\n",
    "# Extract fit parameters\n",
    "c1,c2,c3 = popt_exponential\n",
    "c1_err,c2_err,c3_err = np.sqrt(np.diag(pcov_exponential))\n",
    "\n",
    "# Save fit parameters for this interaction strength\n",
    "c1_list.append(c1)\n",
    "c1Err_list.append(c1_err)\n",
    "\n",
    "c2_list.append(c2)\n",
    "c2Err_list.append(c2_err)\n",
    "\n",
    "c3_list.append(c3)\n",
    "c3Err_list.append(c3_err)\n",
    "\n",
    "extrapolated_S2s[2] = c3\n",
    "extrapolated_S2s_err[2] = c3_err\n",
    "\n",
    "# Perform the fit\n",
    "betas_fit = np.linspace(min(betas),max(betas)*1,1000)\n",
    "y_fit = exponential(betas_fit,c1,c2,c3)\n",
    "\n",
    "plt.plot(betas_fit,y_fit,label='fit')\n",
    "plt.errorbar(betas,y_array_exp, yerr=sigmas,color='red',marker='o',label='data',fmt='.',\n",
    "            capsize=5)\n",
    "plt.ylabel(r\"$S_2$\")\n",
    "plt.xlabel(r\"$\\beta$\")\n",
    "plt.legend(frameon=False);\n",
    "\n",
    "print(\"S2 (extrapolated) \\n\")\n",
    "print(f\"{c3:0.6f} +/- {c3_err:0.6f}\")"
   ]
  },
  {
   "cell_type": "code",
   "execution_count": 336,
   "metadata": {},
   "outputs": [
    {
     "name": "stdout",
     "output_type": "stream",
     "text": [
      "S2 (extrapolated) \n",
      "\n",
      "2.192385 +/- 0.045942\n"
     ]
    },
    {
     "data": {
      "image/png": "[encoded data removed]",
      "text/plain": [
       "<Figure size 432x288 with 1 Axes>"
      ]
     },
     "metadata": {
      "needs_background": "light"
     },
     "output_type": "display_data"
    }
   ],
   "source": [
    "# Obtained with entanglement_combiner.py for betas\n",
    "U = 1.5561\n",
    "y_array_exp = data[:,3]\n",
    "sigmas = errs[:,3]\n",
    "\n",
    "# Perform 3-parameter exponential fit\n",
    "popt_exponential, pcov_exponential = scipy.optimize.curve_fit(exponential, betas[2:], y_array_exp[2:],sigma=sigmas[2:],p0=[0.9,0.1,y_array_exp[-1]])\n",
    "\n",
    "# Extract fit parameters\n",
    "c1,c2,c3 = popt_exponential\n",
    "c1_err,c2_err,c3_err = np.sqrt(np.diag(pcov_exponential))\n",
    "\n",
    "# Save fit parameters for this interaction strength\n",
    "c1_list.append(c1)\n",
    "c1Err_list.append(c1_err)\n",
    "\n",
    "c2_list.append(c2)\n",
    "c2Err_list.append(c2_err)\n",
    "\n",
    "c3_list.append(c3)\n",
    "c3Err_list.append(c3_err)\n",
    "\n",
    "extrapolated_S2s[3] = c3\n",
    "extrapolated_S2s_err[3] = c3_err\n",
    "\n",
    "# Perform the fit\n",
    "betas_fit = np.linspace(min(betas),max(betas)*1,1000)\n",
    "y_fit = exponential(betas_fit,c1,c2,c3)\n",
    "\n",
    "plt.plot(betas_fit,y_fit,label='fit')\n",
    "plt.errorbar(betas,y_array_exp, yerr=sigmas,color='red',marker='o',label='data',fmt='.',\n",
    "            capsize=5)\n",
    "plt.ylabel(r\"$S_2$\")\n",
    "plt.xlabel(r\"$\\beta$\")\n",
    "plt.legend(frameon=False);\n",
    "\n",
    "print(\"S2 (extrapolated) \\n\")\n",
    "print(f\"{c3:0.6f} +/- {c3_err:0.6f}\")"
   ]
  },
  {
   "cell_type": "code",
   "execution_count": 337,
   "metadata": {},
   "outputs": [
    {
     "name": "stdout",
     "output_type": "stream",
     "text": [
      "S2 (extrapolated) \n",
      "\n",
      "2.092556 +/- 0.024354\n"
     ]
    },
    {
     "data": {
      "image/png": "[encoded data removed]",
      "text/plain": [
       "<Figure size 432x288 with 1 Axes>"
      ]
     },
     "metadata": {
      "needs_background": "light"
     },
     "output_type": "display_data"
    }
   ],
   "source": [
    "# Obtained with entanglement_combiner.py for betas\n",
    "U = 2.272\n",
    "y_array_exp = data[:,4]\n",
    "sigmas = errs[:,4]\n",
    "\n",
    "# Perform 3-parameter exponential fit\n",
    "popt_exponential, pcov_exponential = scipy.optimize.curve_fit(exponential, betas[2:], y_array_exp[2:],sigma=sigmas[2:],p0=[0.9,0.1,y_array_exp[-1]])\n",
    "\n",
    "# Extract fit parameters\n",
    "c1,c2,c3 = popt_exponential\n",
    "c1_err,c2_err,c3_err = np.sqrt(np.diag(pcov_exponential))\n",
    "\n",
    "# Save fit parameters for this interaction strength\n",
    "c1_list.append(c1)\n",
    "c1Err_list.append(c1_err)\n",
    "\n",
    "c2_list.append(c2)\n",
    "c2Err_list.append(c2_err)\n",
    "\n",
    "c3_list.append(c3)\n",
    "c3Err_list.append(c3_err)\n",
    "\n",
    "extrapolated_S2s[4] = c3\n",
    "extrapolated_S2s_err[4] = c3_err\n",
    "\n",
    "# Perform the fit\n",
    "betas_fit = np.linspace(min(betas),max(betas)*1,1000)\n",
    "y_fit = exponential(betas_fit,c1,c2,c3)\n",
    "\n",
    "plt.plot(betas_fit,y_fit,label='fit')\n",
    "plt.errorbar(betas,y_array_exp, yerr=sigmas,color='red',marker='o',label='data',fmt='.',\n",
    "            capsize=5)\n",
    "plt.ylabel(r\"$S_2$\")\n",
    "plt.xlabel(r\"$\\beta$\")\n",
    "plt.legend(frameon=False);\n",
    "\n",
    "print(\"S2 (extrapolated) \\n\")\n",
    "print(f\"{c3:0.6f} +/- {c3_err:0.6f}\")"
   ]
  },
  {
   "cell_type": "code",
   "execution_count": 338,
   "metadata": {},
   "outputs": [
    {
     "name": "stdout",
     "output_type": "stream",
     "text": [
      "S2 (extrapolated) \n",
      "\n",
      "1.962563 +/- 0.023890\n"
     ]
    },
    {
     "data": {
      "image/png": "[encoded data removed]",
      "text/plain": [
       "<Figure size 432x288 with 1 Axes>"
      ]
     },
     "metadata": {
      "needs_background": "light"
     },
     "output_type": "display_data"
    }
   ],
   "source": [
    "# Obtained with entanglement_combiner.py for betas\n",
    "U = 3.3\n",
    "y_array_exp = data[:,5]\n",
    "sigmas = errs[:,5]\n",
    "\n",
    "# Perform 3-parameter exponential fit\n",
    "popt_exponential, pcov_exponential = scipy.optimize.curve_fit(exponential, betas[2:], y_array_exp[2:],sigma=sigmas[2:],p0=[0.9,0.1,y_array_exp[-1]])\n",
    "\n",
    "# Extract fit parameters\n",
    "c1,c2,c3 = popt_exponential\n",
    "c1_err,c2_err,c3_err = np.sqrt(np.diag(pcov_exponential))\n",
    "\n",
    "# Save fit parameters for this interaction strength\n",
    "c1_list.append(c1)\n",
    "c1Err_list.append(c1_err)\n",
    "\n",
    "c2_list.append(c2)\n",
    "c2Err_list.append(c2_err)\n",
    "\n",
    "c3_list.append(c3)\n",
    "c3Err_list.append(c3_err)\n",
    "\n",
    "extrapolated_S2s[5] = c3\n",
    "extrapolated_S2s_err[5] = c3_err\n",
    "\n",
    "# Perform the fit\n",
    "betas_fit = np.linspace(min(betas),max(betas)*1,1000)\n",
    "y_fit = exponential(betas_fit,c1,c2,c3)\n",
    "\n",
    "plt.plot(betas_fit,y_fit,label='fit')\n",
    "plt.errorbar(betas,y_array_exp, yerr=sigmas,color='red',marker='o',label='data',fmt='.',\n",
    "            capsize=5)\n",
    "plt.ylabel(r\"$S_2$\")\n",
    "plt.xlabel(r\"$\\beta$\")\n",
    "plt.legend(frameon=False);\n",
    "\n",
    "print(\"S2 (extrapolated) \\n\")\n",
    "print(f\"{c3:0.6f} +/- {c3_err:0.6f}\")"
   ]
  },
  {
   "cell_type": "code",
   "execution_count": 339,
   "metadata": {},
   "outputs": [
    {
     "name": "stdout",
     "output_type": "stream",
     "text": [
      "C3:  2.4401433684876905\n"
     ]
    },
    {
     "name": "stderr",
     "output_type": "stream",
     "text": [
      "/opt/anaconda3/lib/python3.8/site-packages/scipy/optimize/minpack.py:828: OptimizeWarning: Covariance of the parameters could not be estimated\n",
      "  warnings.warn('Covariance of the parameters could not be estimated',\n",
      "/opt/anaconda3/lib/python3.8/site-packages/scipy/optimize/minpack.py:828: OptimizeWarning: Covariance of the parameters could not be estimated\n",
      "  warnings.warn('Covariance of the parameters could not be estimated',\n",
      "/opt/anaconda3/lib/python3.8/site-packages/scipy/optimize/minpack.py:828: OptimizeWarning: Covariance of the parameters could not be estimated\n",
      "  warnings.warn('Covariance of the parameters could not be estimated',\n",
      "/opt/anaconda3/lib/python3.8/site-packages/scipy/optimize/minpack.py:828: OptimizeWarning: Covariance of the parameters could not be estimated\n",
      "  warnings.warn('Covariance of the parameters could not be estimated',\n",
      "/opt/anaconda3/lib/python3.8/site-packages/scipy/optimize/minpack.py:828: OptimizeWarning: Covariance of the parameters could not be estimated\n",
      "  warnings.warn('Covariance of the parameters could not be estimated',\n"
     ]
    },
    {
     "name": "stdout",
     "output_type": "stream",
     "text": [
      "S2 (extrapolated) \n",
      "\n",
      "2.062289 +/- inf\n"
     ]
    },
    {
     "data": {
      "image/png": "[encoded data removed]",
      "text/plain": [
       "<Figure size 333.549x206.145 with 1 Axes>"
      ]
     },
     "metadata": {
      "needs_background": "light"
     },
     "output_type": "display_data"
    }
   ],
   "source": [
    "#### To summarize extrapolations in SF (gapless) phase\n",
    "with plt.style.context('../IOP_large.mplstyle'):\n",
    "\n",
    "    # Obtained with entanglement_combiner.py for betas\n",
    "    U = 0.500000\n",
    "    y_array_exp = data[:,0]\n",
    "    sigmas = errs[:,0]\n",
    "\n",
    "    # Perform 3-parameter exponential fit\n",
    "    popt_exponential, pcov_exponential = scipy.optimize.curve_fit(exponential, betas[3:], y_array_exp[3:],sigma=sigmas[3:],p0=[0.9,0.1,y_array_exp[-1]])\n",
    "\n",
    "    # Extract fit parameters\n",
    "    c1,c2,c3 = popt_exponential\n",
    "    c1_err,c2_err,c3_err = np.sqrt(np.diag(pcov_exponential))\n",
    "    \n",
    "    print(\"C3: \",c3)\n",
    "\n",
    "    extrapolated_S2s[0] = c3\n",
    "    extrapolated_S2s_err[0] = c3_err\n",
    "\n",
    "    # Perform the fit\n",
    "    betas_fit = np.linspace(min(betas[3:]),max(betas[3:])*1,1000)\n",
    "    y_fit = exponential(betas_fit,c1,c2,c3)\n",
    "\n",
    "    plt.plot(np.exp(-betas_fit*c2),y_fit,label=None,alpha=1.0)\n",
    "    plt.errorbar(np.exp(-betas[3:]*c2),y_array_exp[3:], yerr=sigmas[3:],color='tab:blue',marker='o',label=r'$%.2f$'%U,fmt='.',\n",
    "                capsize=5,mfc='lightblue')\n",
    "    # plt.axhline(1.618707279824E+00 ,color='tab:blue',alpha=0.3,ls='--',zorder=-2)\n",
    "\n",
    "    U = 0.730000\n",
    "    y_array_exp = data[:,1]\n",
    "    sigmas = errs[:,1]\n",
    "\n",
    "    # Perform 3-parameter exponential fit\n",
    "    popt_exponential, pcov_exponential = scipy.optimize.curve_fit(exponential, betas[3:], y_array_exp[3:],sigma=sigmas[3:],p0=[0.9,0.1,y_array_exp[-1]])\n",
    "\n",
    "    # Extract fit parameters\n",
    "    c1,c2,c3 = popt_exponential\n",
    "    c1_err,c2_err,c3_err = np.sqrt(np.diag(pcov_exponential))\n",
    "\n",
    "    extrapolated_S2s[1] = c3\n",
    "    extrapolated_S2s_err[1] = c3_err\n",
    "\n",
    "    # Perform the fit\n",
    "    betas_fit = np.linspace(min(betas[3:]),max(betas[3:])*1,1000)\n",
    "    y_fit = exponential(betas_fit,c1,c2,c3)\n",
    "\n",
    "    plt.plot(np.exp(-betas_fit*c2),y_fit,label=None,alpha=1.0)\n",
    "    plt.errorbar(np.exp(-betas[3:]*c2),y_array_exp[3:], yerr=sigmas[3:],color='tab:orange',marker='o',label=r'$%.2f$'%U,fmt='.',\n",
    "                capsize=5,mfc='peachpuff')\n",
    "    # plt.axhline(1.564159771194E+00,color='tab:orange',alpha=0.3,ls='--',zorder=-2)\n",
    "\n",
    "    U = 1.0658\n",
    "    y_array_exp = data[:,2]\n",
    "    sigmas = errs[:,2]\n",
    "\n",
    "    # Perform 3-parameter exponential fit\n",
    "    popt_exponential, pcov_exponential = scipy.optimize.curve_fit(exponential, betas[3:], y_array_exp[3:],sigma=sigmas[3:],p0=[0.9,0.1,y_array_exp[-1]])\n",
    "\n",
    "    # Extract fit parameters\n",
    "    c1,c2,c3 = popt_exponential\n",
    "    c1_err,c2_err,c3_err = np.sqrt(np.diag(pcov_exponential))\n",
    "\n",
    "    extrapolated_S2s[2] = c3\n",
    "    extrapolated_S2s_err[2] = c3_err\n",
    "\n",
    "    # Perform the fit\n",
    "    betas_fit = np.linspace(min(betas[3:]),max(betas[3:])*1,1000)\n",
    "    y_fit = exponential(betas_fit,c1,c2,c3)\n",
    "\n",
    "    plt.plot(np.exp(-betas_fit*c2),y_fit,label=None,alpha=1.0)\n",
    "    plt.errorbar(np.exp(-betas[3:]*c2),y_array_exp[3:], yerr=sigmas[3:],color='tab:green',marker='o',label=r'$%.2f$'%U,fmt='.',\n",
    "                capsize=5,mfc='honeydew')\n",
    "    # plt.axhline(1.504274458981E+00,color='tab:green',alpha=0.3,ls='--',zorder=-2)\n",
    "\n",
    "    U = 1.5561\n",
    "    y_array_exp = data[:,3]\n",
    "    sigmas = errs[:,3]\n",
    "\n",
    "    # Perform 3-parameter exponential fit\n",
    "    popt_exponential, pcov_exponential = scipy.optimize.curve_fit(exponential, betas[3:], y_array_exp[3:],sigma=sigmas[3:],p0=[0.9,0.1,y_array_exp[-1]])\n",
    "\n",
    "    # Extract fit parameters\n",
    "    c1,c2,c3 = popt_exponential\n",
    "    c1_err,c2_err,c3_err = np.sqrt(np.diag(pcov_exponential))\n",
    "\n",
    "    extrapolated_S2s[3] = c3\n",
    "    extrapolated_S2s_err[3] = c3_err\n",
    "\n",
    "    # Perform the fit\n",
    "    betas_fit = np.linspace(min(betas[3:]),max(betas[3:])*1,1000)\n",
    "    y_fit = exponential(betas_fit,c1,c2,c3)\n",
    "\n",
    "    plt.plot(np.exp(-betas_fit*c2),y_fit,label=None,alpha=1.0)\n",
    "    plt.errorbar(np.exp(-betas[3:]*c2),y_array_exp[3:], yerr=sigmas[3:],color='tab:red',marker='o',label=r'$%.2f$'%U,fmt='.',\n",
    "                capsize=5,mfc='mistyrose')\n",
    "    # plt.axhline(1.436103011355E+00,color='tab:red',alpha=0.3,ls='--',zorder=-2)\n",
    "\n",
    "    U = 2.272\n",
    "    y_array_exp = data[:,4]\n",
    "    sigmas = errs[:,4]\n",
    "\n",
    "    # Perform 3-parameter exponential fit\n",
    "    popt_exponential, pcov_exponential = scipy.optimize.curve_fit(exponential, betas[3:], y_array_exp[3:],sigma=sigmas[3:],p0=[0.9,0.1,y_array_exp[-1]])\n",
    "\n",
    "    # Extract fit parameters\n",
    "    c1,c2,c3 = popt_exponential\n",
    "    c1_err,c2_err,c3_err = np.sqrt(np.diag(pcov_exponential))\n",
    "\n",
    "    extrapolated_S2s[4] = c3\n",
    "    extrapolated_S2s_err[4] = c3_err\n",
    "\n",
    "    # Perform the fit\n",
    "    betas_fit = np.linspace(min(betas[3:]),max(betas[3:])*1,1000)\n",
    "    y_fit = exponential(betas_fit,c1,c2,c3)\n",
    "\n",
    "    plt.plot(np.exp(-betas_fit*c2),y_fit,label=None,alpha=1.0)\n",
    "    plt.errorbar(np.exp(-betas[3:]*c2),y_array_exp[3:], yerr=sigmas[3:],color='tab:purple',marker='o',label=r'$%.2f$'%U,fmt='.',\n",
    "                capsize=5,mfc='lavenderblush')\n",
    "    # plt.axhline(1.352367674599E+00,color='tab:purple',alpha=0.3,ls='--',zorder=-2)\n",
    "\n",
    "#     U = 3.3\n",
    "#     y_array_exp = data[:,5]\n",
    "#     sigmas = errs[:,5]\n",
    "\n",
    "#     # Perform 3-parameter exponential fit\n",
    "#     popt_exponential, pcov_exponential = scipy.optimize.curve_fit(exponential, betas[3:], y_array_exp[3:],sigma=sigmas[3:],p0=[0.9,0.1,y_array_exp[-1]])\n",
    "\n",
    "#     # Extract fit parameters\n",
    "#     c1,c2,c3 = popt_exponential\n",
    "#     c1_err,c2_err,c3_err = np.sqrt(np.diag(pcov_exponential))\n",
    "\n",
    "#     extrapolated_S2s[5] = c3\n",
    "#     extrapolated_S2s_err[5] = c3_err\n",
    "\n",
    "#     # Perform the fit\n",
    "#     betas_fit = np.linspace(min(betas),max(betas)*1,1000)\n",
    "#     y_fit = exponential(betas_fit,c1,c2,c3)\n",
    "\n",
    "#     plt.plot(betas_fit,y_fit,label=None)\n",
    "#     plt.errorbar(betas[3:],y_array_exp[3:], yerr=sigmas[3:],color='red',marker='o',label=r'$U/t=$',fmt='.',\n",
    "#                 capsize=5)\n",
    "\n",
    "    plt.legend(frameon=False,ncol=1,handlelength=0.5,handleheight=0.01,\n",
    "              labelspacing=1.14,loc=(0.83,0.01),title=r\"$U/t$\")\n",
    "\n",
    "    plt.ylabel(r'$S_2$')\n",
    "    # plt.xlabel(r'$\\beta t$')\n",
    "    plt.xlabel(r'$x = e^{-\\beta t c_2}$')\n",
    "    \n",
    "    # plt.xlim(betas[0]-0.2,betas[-1]+0.2)\n",
    "    \n",
    "    plt.tick_params(direction='in',which='both')\n",
    "    \n",
    "    plt.annotate(r'$L=256$',(0.20-0.05,0.85+0.023),xycoords='figure fraction',fontsize=12)\n",
    "    plt.annotate(r'$N=256$',(0.35-0.05,0.85+0.023),xycoords='figure fraction',fontsize=12)\n",
    "    plt.annotate(r'$\\ell=128$',(0.52-0.05,0.85+0.023),xycoords='figure fraction',fontsize=12)\n",
    "\n",
    "    plt.savefig(\"../figures/extrapolations_N256_gapless.pdf\",dpi=300)\n",
    "    plt.savefig(\"/Users/ecasiano/Desktop/papers-latticepigs/Figures/extrapolations_N256_gapless.pdf\",dpi=300)\n",
    "    \n",
    "\n",
    "print(\"S2 (extrapolated) \\n\")\n",
    "print(f\"{c3:0.6f} +/- {c3_err:0.6f}\")"
   ]
  },
  {
   "cell_type": "code",
   "execution_count": 340,
   "metadata": {},
   "outputs": [
    {
     "name": "stdout",
     "output_type": "stream",
     "text": [
      "S2 (extrapolated) \n",
      "\n",
      "0.639460 +/- 0.600303\n"
     ]
    },
    {
     "data": {
      "image/png": "[encoded data removed]",
      "text/plain": [
       "<Figure size 432x288 with 1 Axes>"
      ]
     },
     "metadata": {
      "needs_background": "light"
     },
     "output_type": "display_data"
    }
   ],
   "source": [
    "# Obtained with entanglement_combiner.py for betas\n",
    "U = 4.843100\n",
    "y_array_exp = data[:,6]\n",
    "sigmas = errs[:,6]\n",
    "\n",
    "# Perform 3-parameter exponential fit\n",
    "popt_exponential, pcov_exponential = scipy.optimize.curve_fit(exponential, betas[2:], y_array_exp[2:],sigma=sigmas[2:],p0=[0.9,0.1,y_array_exp[-1]])\n",
    "\n",
    "# Extract fit parameters\n",
    "c1,c2,c3 = popt_exponential\n",
    "c1_err,c2_err,c3_err = np.sqrt(np.diag(pcov_exponential))\n",
    "\n",
    "# Save fit parameters for this interaction strength\n",
    "c1_list.append(c1)\n",
    "c1Err_list.append(c1_err)\n",
    "\n",
    "c2_list.append(c2)\n",
    "c2Err_list.append(c2_err)\n",
    "\n",
    "c3_list.append(c3)\n",
    "c3Err_list.append(c3_err)\n",
    "\n",
    "extrapolated_S2s[6] = c3\n",
    "extrapolated_S2s_err[6] = c3_err\n",
    "\n",
    "# Perform the fit\n",
    "betas_fit = np.linspace(min(betas),max(betas)*1,1000)\n",
    "y_fit = exponential(betas_fit,c1,c2,c3)\n",
    "\n",
    "plt.plot(betas_fit,y_fit,label='fit')\n",
    "plt.errorbar(betas,y_array_exp, yerr=sigmas,color='red',marker='o',label='data',fmt='.',\n",
    "            capsize=5)\n",
    "plt.ylabel(r\"$S_2$\")\n",
    "plt.xlabel(r\"$\\beta$\")\n",
    "plt.legend(frameon=False);\n",
    "\n",
    "print(\"S2 (extrapolated) \\n\")\n",
    "print(f\"{c3:0.6f} +/- {c3_err:0.6f}\")"
   ]
  },
  {
   "cell_type": "code",
   "execution_count": 341,
   "metadata": {},
   "outputs": [
    {
     "name": "stdout",
     "output_type": "stream",
     "text": [
      "S2 (extrapolated) \n",
      "\n",
      "0.356737 +/- 0.002854\n"
     ]
    },
    {
     "data": {
      "image/png": "[encoded data removed]",
      "text/plain": [
       "<Figure size 432x288 with 1 Axes>"
      ]
     },
     "metadata": {
      "needs_background": "light"
     },
     "output_type": "display_data"
    }
   ],
   "source": [
    "# Obtained with entanglement_combiner.py for betas\n",
    "U = 7.0711\n",
    "y_array_exp = data[:,7]\n",
    "sigmas = errs[:,7]\n",
    "\n",
    "# Perform 3-parameter exponential fit\n",
    "popt_exponential, pcov_exponential = scipy.optimize.curve_fit(exponential, betas[1:], y_array_exp[1:],sigma=sigmas[1:],p0=[0.9,0.1,y_array_exp[-1]])\n",
    "\n",
    "# Extract fit parameters\n",
    "c1,c2,c3 = popt_exponential\n",
    "c1_err,c2_err,c3_err = np.sqrt(np.diag(pcov_exponential))\n",
    "\n",
    "# Save fit parameters for this interaction strength\n",
    "c1_list.append(c1)\n",
    "c1Err_list.append(c1_err)\n",
    "\n",
    "c2_list.append(c2)\n",
    "c2Err_list.append(c2_err)\n",
    "\n",
    "c3_list.append(c3)\n",
    "c3Err_list.append(c3_err)\n",
    "\n",
    "extrapolated_S2s[7] = c3\n",
    "extrapolated_S2s_err[7] = c3_err\n",
    "\n",
    "# Perform the fit\n",
    "betas_fit = np.linspace(min(betas),max(betas)*1,1000)\n",
    "y_fit = exponential(betas_fit,c1,c2,c3)\n",
    "\n",
    "plt.plot(betas_fit,y_fit,label='fit')\n",
    "plt.errorbar(betas,y_array_exp, yerr=sigmas,color='red',marker='o',label='data',fmt='.',\n",
    "            capsize=5)\n",
    "plt.ylabel(r\"$S_2$\")\n",
    "plt.xlabel(r\"$\\beta$\")\n",
    "plt.legend(frameon=False);\n",
    "\n",
    "print(\"S2 (extrapolated) \\n\")\n",
    "print(f\"{c3:0.6f} +/- {c3_err:0.6f}\")"
   ]
  },
  {
   "cell_type": "code",
   "execution_count": 342,
   "metadata": {},
   "outputs": [
    {
     "name": "stdout",
     "output_type": "stream",
     "text": [
      "S2 (extrapolated) \n",
      "\n",
      "0.156429 +/- 0.001819\n"
     ]
    },
    {
     "data": {
      "image/png": "[encoded data removed]",
      "text/plain": [
       "<Figure size 432x288 with 1 Axes>"
      ]
     },
     "metadata": {
      "needs_background": "light"
     },
     "output_type": "display_data"
    }
   ],
   "source": [
    "# Obtained with entanglement_combiner.py for betas\n",
    "U = 10.3239\n",
    "y_array_exp = data[:,8]\n",
    "sigmas = errs[:,8]\n",
    "\n",
    "# Perform 3-parameter exponential fit\n",
    "popt_exponential, pcov_exponential = scipy.optimize.curve_fit(exponential, betas[0:], y_array_exp[0:],sigma=sigmas[0:],p0=[0.9,0.1,y_array_exp[-1]])\n",
    "\n",
    "# Extract fit parameters\n",
    "c1,c2,c3 = popt_exponential\n",
    "c1_err,c2_err,c3_err = np.sqrt(np.diag(pcov_exponential))\n",
    "\n",
    "# Save fit parameters for this interaction strength\n",
    "c1_list.append(c1)\n",
    "c1Err_list.append(c1_err)\n",
    "\n",
    "c2_list.append(c2)\n",
    "c2Err_list.append(c2_err)\n",
    "\n",
    "c3_list.append(c3)\n",
    "c3Err_list.append(c3_err)\n",
    "\n",
    "extrapolated_S2s[8] = c3\n",
    "extrapolated_S2s_err[8] = c3_err\n",
    "\n",
    "# Perform the fit\n",
    "betas_fit = np.linspace(min(betas),max(betas)*1,1000)\n",
    "y_fit = exponential(betas_fit,c1,c2,c3)\n",
    "\n",
    "plt.plot(betas_fit,y_fit,label='fit')\n",
    "plt.errorbar(betas,y_array_exp, yerr=sigmas,color='red',marker='o',label='data',fmt='.',\n",
    "            capsize=5)\n",
    "plt.ylabel(r\"$S_2$\")\n",
    "plt.xlabel(r\"$\\beta$\")\n",
    "plt.legend(frameon=False);\n",
    "\n",
    "print(\"S2 (extrapolated) \\n\")\n",
    "print(f\"{c3:0.6f} +/- {c3_err:0.6f}\")"
   ]
  },
  {
   "cell_type": "code",
   "execution_count": 343,
   "metadata": {},
   "outputs": [
    {
     "name": "stdout",
     "output_type": "stream",
     "text": [
      "S2 (extrapolated) \n",
      "\n",
      "0.049898 +/- 0.002582\n"
     ]
    },
    {
     "data": {
      "image/png": "[encoded data removed]",
      "text/plain": [
       "<Figure size 432x288 with 1 Axes>"
      ]
     },
     "metadata": {
      "needs_background": "light"
     },
     "output_type": "display_data"
    }
   ],
   "source": [
    "# Obtained with entanglement_combiner.py for betas\n",
    "U = 16.666667\n",
    "y_array_exp = data[:,9]\n",
    "sigmas = errs[:,9]\n",
    "\n",
    "# Perform 3-parameter exponential fit\n",
    "popt_exponential, pcov_exponential = scipy.optimize.curve_fit(exponential, betas[0:], y_array_exp[0:],sigma=sigmas[0:],p0=[0.9,0.1,y_array_exp[-1]])\n",
    "\n",
    "# Extract fit parameters\n",
    "c1,c2,c3 = popt_exponential\n",
    "c1_err,c2_err,c3_err = np.sqrt(np.diag(pcov_exponential))\n",
    "\n",
    "# Save fit parameters for this interaction strength\n",
    "c1_list.append(c1)\n",
    "c1Err_list.append(c1_err)\n",
    "\n",
    "c2_list.append(c2)\n",
    "c2Err_list.append(c2_err)\n",
    "\n",
    "c3_list.append(c3)\n",
    "c3Err_list.append(c3_err)\n",
    "\n",
    "extrapolated_S2s[9] = c3\n",
    "extrapolated_S2s_err[9] = c3_err\n",
    "\n",
    "# Perform the fit\n",
    "betas_fit = np.linspace(min(betas),max(betas)*1,1000)\n",
    "y_fit = exponential(betas_fit,c1,c2,c3)\n",
    "\n",
    "plt.plot(betas_fit,y_fit,label='fit')\n",
    "plt.errorbar(betas,y_array_exp, yerr=sigmas,color='red',marker='o',label='data',fmt='.',\n",
    "            capsize=5)\n",
    "plt.ylabel(r\"$S_2$\")\n",
    "plt.xlabel(r\"$\\beta$\")\n",
    "plt.legend(frameon=False);\n",
    "\n",
    "print(\"S2 (extrapolated) \\n\")\n",
    "print(f\"{c3:0.6f} +/- {c3_err:0.6f}\")"
   ]
  },
  {
   "cell_type": "code",
   "execution_count": 344,
   "metadata": {},
   "outputs": [
    {
     "name": "stdout",
     "output_type": "stream",
     "text": [
      "S2 (extrapolated) \n",
      "\n",
      "0.040532 +/- 0.002646\n"
     ]
    },
    {
     "data": {
      "image/png": "[encoded data removed]",
      "text/plain": [
       "<Figure size 432x288 with 1 Axes>"
      ]
     },
     "metadata": {
      "needs_background": "light"
     },
     "output_type": "display_data"
    }
   ],
   "source": [
    "# Obtained with entanglement_combiner.py for betas\n",
    "U = 22.007100\n",
    "y_array_exp = data[:,10]\n",
    "sigmas = errs[:,10]\n",
    "\n",
    "# Perform 3-parameter exponential fit\n",
    "popt_exponential, pcov_exponential = scipy.optimize.curve_fit(exponential, betas[0:], y_array_exp[0:],sigma=sigmas[0:],p0=[0.9,0.1,y_array_exp[-1]])\n",
    "\n",
    "# Extract fit parameters\n",
    "c1,c2,c3 = popt_exponential\n",
    "c1_err,c2_err,c3_err = np.sqrt(np.diag(pcov_exponential))\n",
    "\n",
    "# Save fit parameters for this interaction strength\n",
    "c1_list.append(c1)\n",
    "c1Err_list.append(c1_err)\n",
    "\n",
    "c2_list.append(c2)\n",
    "c2Err_list.append(c2_err)\n",
    "\n",
    "c3_list.append(c3)\n",
    "c3Err_list.append(c3_err)\n",
    "\n",
    "extrapolated_S2s[10] = c3\n",
    "extrapolated_S2s_err[10] = c3_err\n",
    "\n",
    "# Perform the fit\n",
    "betas_fit = np.linspace(min(betas),max(betas)*1,1000)\n",
    "y_fit = exponential(betas_fit,c1,c2,c3)\n",
    "\n",
    "plt.plot(betas_fit,y_fit,label='fit')\n",
    "plt.errorbar(betas,y_array_exp, yerr=sigmas,color='red',marker='o',label='data',fmt='.',\n",
    "            capsize=5)\n",
    "plt.ylabel(r\"$S_2$\")\n",
    "plt.xlabel(r\"$\\beta$\")\n",
    "plt.legend(frameon=False);\n",
    "\n",
    "print(\"S2 (extrapolated) \\n\")\n",
    "print(f\"{c3:0.6f} +/- {c3_err:0.6f}\")"
   ]
  },
  {
   "cell_type": "code",
   "execution_count": 345,
   "metadata": {},
   "outputs": [
    {
     "data": {
      "text/plain": [
       "array([0.00449217, 0.00454683, 0.00445229, 0.00471637, 0.00540917,\n",
       "       0.00637219])"
      ]
     },
     "execution_count": 345,
     "metadata": {},
     "output_type": "execute_result"
    }
   ],
   "source": [
    "errs[:,11]"
   ]
  },
  {
   "cell_type": "code",
   "execution_count": 346,
   "metadata": {},
   "outputs": [
    {
     "name": "stdout",
     "output_type": "stream",
     "text": [
      "S2 (extrapolated) \n",
      "\n",
      "0.017100 +/- 0.001927\n"
     ]
    },
    {
     "data": {
      "image/png": "[encoded data removed]",
      "text/plain": [
       "<Figure size 432x288 with 1 Axes>"
      ]
     },
     "metadata": {
      "needs_background": "light"
     },
     "output_type": "display_data"
    }
   ],
   "source": [
    "# Obtained with entanglement_combiner.py for betas\n",
    "U = 32.130800\n",
    "y_array_exp = data[:,11]\n",
    "sigmas = errs[:,11]\n",
    "\n",
    "# Perform 3-parameter exponential fit\n",
    "popt_exponential, pcov_exponential = scipy.optimize.curve_fit(exponential, betas[0:], y_array_exp[0:],sigma=sigmas[0:],p0=[1.9,1.1,y_array_exp[-1]])\n",
    "\n",
    "# Extract fit parameters\n",
    "c1,c2,c3 = popt_exponential\n",
    "c1_err,c2_err,c3_err = np.sqrt(np.diag(pcov_exponential))\n",
    "\n",
    "# Save fit parameters for this interaction strength\n",
    "c1_list.append(c1)\n",
    "c1Err_list.append(c1_err)\n",
    "\n",
    "c2_list.append(c2)\n",
    "c2Err_list.append(c2_err)\n",
    "\n",
    "c3_list.append(c3)\n",
    "c3Err_list.append(c3_err)\n",
    "\n",
    "extrapolated_S2s[11] = c3\n",
    "extrapolated_S2s_err[11] = c3_err\n",
    "\n",
    "# Perform the fit\n",
    "betas_fit = np.linspace(min(betas),max(betas)*1,1000)\n",
    "y_fit = exponential(betas_fit,c1,c2,c3)\n",
    "\n",
    "plt.plot(betas_fit,y_fit,label='fit')\n",
    "plt.errorbar(betas,y_array_exp, yerr=sigmas,color='red',marker='o',label='data',fmt='.',\n",
    "            capsize=5)\n",
    "plt.ylabel(r\"$S_2$\")\n",
    "plt.xlabel(r\"$\\beta$\")\n",
    "plt.legend(frameon=False);\n",
    "\n",
    "print(\"S2 (extrapolated) \\n\")\n",
    "print(f\"{c3:0.6f} +/- {c3_err:0.6f}\")"
   ]
  },
  {
   "cell_type": "code",
   "execution_count": 347,
   "metadata": {},
   "outputs": [
    {
     "name": "stdout",
     "output_type": "stream",
     "text": [
      "S2 (extrapolated) \n",
      "\n",
      "0.008594 +/- 0.003195\n"
     ]
    },
    {
     "data": {
      "image/png": "[encoded data removed]",
      "text/plain": [
       "<Figure size 432x288 with 1 Axes>"
      ]
     },
     "metadata": {
      "needs_background": "light"
     },
     "output_type": "display_data"
    }
   ],
   "source": [
    "# Obtained with entanglement_combiner.py for betas\n",
    "U = 46.911700\n",
    "y_array_exp = data[:,12]\n",
    "sigmas = errs[:,12]\n",
    "\n",
    "# Perform 3-parameter exponential fit\n",
    "popt_exponential, pcov_exponential = scipy.optimize.curve_fit(exponential, betas[1:], y_array_exp[1:],sigma=sigmas[1:],p0=[0.9,1,y_array_exp[-1]])\n",
    "\n",
    "# Extract fit parameters\n",
    "c1,c2,c3 = popt_exponential\n",
    "c1_err,c2_err,c3_err = np.sqrt(np.diag(pcov_exponential))\n",
    "\n",
    "# Save fit parameters for this interaction strength\n",
    "c1_list.append(c1)\n",
    "c1Err_list.append(c1_err)\n",
    "\n",
    "c2_list.append(c2)\n",
    "c2Err_list.append(c2_err)\n",
    "\n",
    "c3_list.append(c3)\n",
    "c3Err_list.append(c3_err)\n",
    "\n",
    "extrapolated_S2s[12] = c3\n",
    "extrapolated_S2s_err[12] = c3_err\n",
    "\n",
    "# Perform the fit\n",
    "betas_fit = np.linspace(min(betas),max(betas)*1,1000)\n",
    "y_fit = exponential(betas_fit,c1,c2,c3)\n",
    "\n",
    "plt.plot(betas_fit,y_fit,label='fit')\n",
    "plt.errorbar(betas,y_array_exp, yerr=sigmas,color='red',marker='o',label='data',fmt='.',\n",
    "            capsize=5)\n",
    "plt.ylabel(r\"$S_2$\")\n",
    "plt.xlabel(r\"$\\beta$\")\n",
    "plt.legend(frameon=False);\n",
    "\n",
    "print(\"S2 (extrapolated) \\n\")\n",
    "print(f\"{c3:0.6f} +/- {c3_err:0.6f}\")"
   ]
  },
  {
   "cell_type": "code",
   "execution_count": 348,
   "metadata": {},
   "outputs": [
    {
     "name": "stdout",
     "output_type": "stream",
     "text": [
      "S2 (extrapolated) \n",
      "\n",
      "0.003617 +/- 0.000181\n"
     ]
    },
    {
     "data": {
      "image/png": "[encoded data removed]",
      "text/plain": [
       "<Figure size 432x288 with 1 Axes>"
      ]
     },
     "metadata": {
      "needs_background": "light"
     },
     "output_type": "display_data"
    }
   ],
   "source": [
    "# Obtained with entanglement_combiner.py for betas\n",
    "U = 68.492100\n",
    "y_array_exp = data[:,13]\n",
    "sigmas = errs[:,13]\n",
    "\n",
    "# Perform 3-parameter exponential fit\n",
    "popt_exponential, pcov_exponential = scipy.optimize.curve_fit(exponential, betas[1:], y_array_exp[1:],sigma=sigmas[1:],p0=[0.9,1,y_array_exp[-1]])\n",
    "\n",
    "# Extract fit parameters\n",
    "c1,c2,c3 = popt_exponential\n",
    "c1_err,c2_err,c3_err = np.sqrt(np.diag(pcov_exponential))\n",
    "\n",
    "# Save fit parameters for this interaction strength\n",
    "c1_list.append(c1)\n",
    "c1Err_list.append(c1_err)\n",
    "\n",
    "c2_list.append(c2)\n",
    "c2Err_list.append(c2_err)\n",
    "\n",
    "c3_list.append(c3)\n",
    "c3Err_list.append(c3_err)\n",
    "\n",
    "extrapolated_S2s[13] = c3\n",
    "extrapolated_S2s_err[13] = c3_err\n",
    "\n",
    "# Perform the fit\n",
    "betas_fit = np.linspace(min(betas),max(betas)*1,1000)\n",
    "y_fit = exponential(betas_fit,c1,c2,c3)\n",
    "\n",
    "plt.plot(betas_fit,y_fit,label='fit')\n",
    "plt.errorbar(betas,y_array_exp, yerr=sigmas,color='red',marker='o',label='data',fmt='.',\n",
    "            capsize=5)\n",
    "plt.ylabel(r\"$S_2$\")\n",
    "plt.xlabel(r\"$\\beta$\")\n",
    "plt.legend(frameon=False);\n",
    "\n",
    "print(\"S2 (extrapolated) \\n\")\n",
    "print(f\"{c3:0.6f} +/- {c3_err:0.6f}\")"
   ]
  },
  {
   "cell_type": "code",
   "execution_count": 349,
   "metadata": {},
   "outputs": [
    {
     "name": "stdout",
     "output_type": "stream",
     "text": [
      "S2 (extrapolated) \n",
      "\n",
      "0.001145 +/- 0.001627\n"
     ]
    },
    {
     "data": {
      "image/png": "[encoded data removed]",
      "text/plain": [
       "<Figure size 432x288 with 1 Axes>"
      ]
     },
     "metadata": {
      "needs_background": "light"
     },
     "output_type": "display_data"
    }
   ],
   "source": [
    "# Obtained with entanglement_combiner.py for betas\n",
    "U = 100.00\n",
    "y_array_exp = data[:,14]\n",
    "sigmas = errs[:,14]\n",
    "\n",
    "# Perform 3-parameter exponential fit\n",
    "popt_exponential, pcov_exponential = scipy.optimize.curve_fit(exponential, betas[1:], y_array_exp[1:],sigma=sigmas[1:],p0=[0.9,0.1,y_array_exp[-1]])\n",
    "\n",
    "# Extract fit parameters\n",
    "c1,c2,c3 = popt_exponential\n",
    "c1_err,c2_err,c3_err = np.sqrt(np.diag(pcov_exponential))\n",
    "\n",
    "# Save fit parameters for this interaction strength\n",
    "c1_list.append(c1)\n",
    "c1Err_list.append(c1_err)\n",
    "\n",
    "c2_list.append(c2)\n",
    "c2Err_list.append(c2_err)\n",
    "\n",
    "c3_list.append(c3)\n",
    "c3Err_list.append(c3_err)\n",
    "\n",
    "extrapolated_S2s[14] = c3\n",
    "extrapolated_S2s_err[14] = c3_err\n",
    "\n",
    "# Perform the fit\n",
    "betas_fit = np.linspace(min(betas),max(betas)*1,1000)\n",
    "y_fit = exponential(betas_fit,c1,c2,c3)\n",
    "\n",
    "plt.plot(betas_fit,y_fit,label='fit')\n",
    "plt.errorbar(betas,y_array_exp, yerr=sigmas,color='red',marker='o',label='data',fmt='.',\n",
    "            capsize=5)\n",
    "plt.ylabel(r\"$S_2$\")\n",
    "plt.xlabel(r\"$\\beta$\")\n",
    "plt.legend(frameon=False);\n",
    "\n",
    "print(\"S2 (extrapolated) \\n\")\n",
    "print(f\"{c3:0.6f} +/- {c3_err:0.6f}\")"
   ]
  },
  {
   "cell_type": "markdown",
   "metadata": {},
   "source": [
    "Perform exponential fit to data with Scipy curve_fit"
   ]
  },
  {
   "cell_type": "code",
   "execution_count": 350,
   "metadata": {},
   "outputs": [
    {
     "name": "stdout",
     "output_type": "stream",
     "text": [
      "[2.4401433684876905, 2.3723094091045374, 2.287073227990703, 2.129227233142091, 2.0622888739339276, 1.9625626581662874, 0.6394598443462128, 0.35673739040683017, 0.15642898159589008, 0.049897722981096945, 0.04053236616454268, 0.01709983486747289, 0.008594476479895991, 0.0036169312706772422, 0.0011448981896688695]\n",
      "[inf, inf, inf, inf, inf, 0.023889943927055804, 0.6003025043402184, 0.002853633438325747, 0.001819022481226548, 0.0025824048313832938, 0.0026457512960310413, 0.0019267699054918205, 0.0031949207928844685, 0.0001810573520799364, 0.0016265374494737995]\n"
     ]
    }
   ],
   "source": [
    "print(list(extrapolated_S2s))\n",
    "print(list(extrapolated_S2s_err))"
   ]
  },
  {
   "cell_type": "code",
   "execution_count": 351,
   "metadata": {},
   "outputs": [],
   "source": [
    "# Save the extrapolations to file here\n",
    "D=1\n",
    "L=256\n",
    "N=256\n",
    "l_max=128\n",
    "t=1.000000\n",
    "bin_size=10001\n",
    "beta_list = np.array(betas)\n",
    "#Format the data file\n",
    "with open(\"../ProcessedData/\"+str(D)+\"D_%d_%d_%d_Us_%.6f_extrapolations_%d_S2.dat\"%(L,N,l_max,t,bin_size),\"wb\") as processed_data:\n",
    "    np.savetxt(processed_data,np.c_[U_list,extrapolated_S2s,extrapolated_S2s_err],delimiter=\" \",fmt=\"%.16f\",header=\"BH Parameters: L=%d,N=%d,D=%d,l=%d,t=%.6f,beta=extrapolations,bin_size=%d \\n U               <S2>               StdErr.\"%(L,N,D,l_max,t,bin_size))"
   ]
  },
  {
   "cell_type": "code",
   "execution_count": 364,
   "metadata": {},
   "outputs": [
    {
     "data": {
      "image/png": "[encoded data removed]",
      "text/plain": [
       "<Figure size 333.549x206.145 with 1 Axes>"
      ]
     },
     "metadata": {
      "needs_background": "light"
     },
     "output_type": "display_data"
    }
   ],
   "source": [
    "# Print fit parameters as function of interaction strength\n",
    "with plt.style.context('../IOP_large.mplstyle'):\n",
    "    plt.xscale(\"log\")\n",
    "    # plt.plot(U_list,c1_list)\n",
    "    plt.errorbar(U_list,c1_list, yerr=c1Err_list,color='tab:green',marker='o',label=r'$%.2f$'%U,fmt='.',\n",
    "                capsize=5,mfc='honeydew')\n",
    "    plt.ylabel(r\"$c_1$\")\n",
    "    plt.xlabel(r\"$U/t$\")\n",
    "    plt.axvline(3.3,color='#aaaaaa',ls='--')\n",
    "    # Save to paper repo\n",
    "    plt.savefig(\"/Users/ecasiano/Desktop/papers-latticepigs/Figures/c1_vs_Ut_N256.pdf\",dpi=400)    "
   ]
  },
  {
   "cell_type": "code",
   "execution_count": 365,
   "metadata": {},
   "outputs": [
    {
     "data": {
      "image/png": "[encoded data removed]",
      "text/plain": [
       "<Figure size 333.549x206.145 with 1 Axes>"
      ]
     },
     "metadata": {
      "needs_background": "light"
     },
     "output_type": "display_data"
    }
   ],
   "source": [
    "# Print fit parameters as function of interaction strength\n",
    "with plt.style.context('../IOP_large.mplstyle'):\n",
    "    plt.xscale(\"log\")\n",
    "    # plt.plot(U_list,c2_list)\n",
    "    plt.errorbar(U_list,c2_list, yerr=c2Err_list,color='tab:green',marker='o',label=r'$%.2f$'%U,fmt='.',\n",
    "                capsize=5,mfc='honeydew')\n",
    "    plt.ylabel(r\"$c_2$\")\n",
    "    plt.xlabel(r\"$U/t$\")\n",
    "    plt.axvline(3.3,color='#aaaaaa',ls='--')\n",
    "    plt.savefig(\"/Users/ecasiano/Desktop/papers-latticepigs/Figures/c2_vs_Ut_N256.pdf\",dpi=400)    "
   ]
  },
  {
   "cell_type": "code",
   "execution_count": 366,
   "metadata": {},
   "outputs": [
    {
     "data": {
      "image/png": "[encoded data removed]",
      "text/plain": [
       "<Figure size 333.549x206.145 with 1 Axes>"
      ]
     },
     "metadata": {
      "needs_background": "light"
     },
     "output_type": "display_data"
    }
   ],
   "source": [
    "# Print fit parameters as function of interaction strength\n",
    "with plt.style.context('../IOP_large.mplstyle'):\n",
    "    plt.xscale(\"log\")\n",
    "    # plt.plot(U_list,c3_list)\n",
    "    plt.errorbar(U_list,c3_list, yerr=c3Err_list,color='tab:green',marker='o',label=r'$%.2f$'%U,fmt='.',\n",
    "                capsize=5,mfc='honeydew')\n",
    "    plt.ylabel(r\"$c_3 = S_2^{(\\beta\\to\\infty)}$\")\n",
    "    plt.xlabel(r\"$U/t$\")\n",
    "    plt.axvline(3.3,color='#aaaaaa',ls='--')\n",
    "    plt.savefig(\"/Users/ecasiano/Desktop/papers-latticepigs/Figures/c3_vs_Ut_N256.pdf\",dpi=400)    "
   ]
  },
  {
   "cell_type": "code",
   "execution_count": null,
   "metadata": {},
   "outputs": [],
   "source": []
  },
  {
   "cell_type": "code",
   "execution_count": null,
   "metadata": {},
   "outputs": [],
   "source": []
  },
  {
   "cell_type": "code",
   "execution_count": null,
   "metadata": {},
   "outputs": [],
   "source": []
  },
  {
   "cell_type": "code",
   "execution_count": null,
   "metadata": {},
   "outputs": [],
   "source": []
  },
  {
   "cell_type": "code",
   "execution_count": null,
   "metadata": {},
   "outputs": [],
   "source": []
  },
  {
   "cell_type": "code",
   "execution_count": null,
   "metadata": {},
   "outputs": [],
   "source": []
  }
 ],
 "metadata": {
  "kernelspec": {
   "display_name": "Python 3",
   "language": "python",
   "name": "python3"
  },
  "language_info": {
   "codemirror_mode": {
    "name": "ipython",
    "version": 3
   },
   "file_extension": ".py",
   "mimetype": "text/x-python",
   "name": "python",
   "nbconvert_exporter": "python",
   "pygments_lexer": "ipython3",
   "version": "3.8.5"
  }
 },
 "nbformat": 4,
 "nbformat_minor": 4
}
