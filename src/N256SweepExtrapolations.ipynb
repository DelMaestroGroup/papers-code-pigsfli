{
 "cells": [
  {
   "cell_type": "markdown",
   "metadata": {},
   "source": [
    "### 3-parameter exponential fitted $\\beta$-scaling"
   ]
  },
  {
   "cell_type": "markdown",
   "metadata": {},
   "source": [
    "Want to fit observable data as a function of $\\beta$ to the form:\n",
    "$$\n",
    "\\mathcal{O}(\\beta) = \\mathcal{O}_{\\beta\\to\\infty} + C_1 e^{-C_2 \\beta}\n",
    "$$"
   ]
  },
  {
   "cell_type": "markdown",
   "metadata": {},
   "source": [
    "where $\\mathcal{O}_{\\beta\\to\\infty}$,$C_1$, and $C_2$ are fitting parameters. The $\\mathcal{O}_{\\beta\\to\\infty}$ parameter will give a large $\\beta$ extrapolation of the observable in question. Here, we will focus on the second Rényi entanglement entropy $S_2$."
   ]
  },
  {
   "cell_type": "code",
   "execution_count": 52,
   "metadata": {},
   "outputs": [],
   "source": [
    "import numpy as np\n",
    "import matplotlib.pyplot as plt\n",
    "import scipy \n",
    "from scipy import optimize"
   ]
  },
  {
   "cell_type": "markdown",
   "metadata": {},
   "source": [
    "Define the exponential model"
   ]
  },
  {
   "cell_type": "code",
   "execution_count": 53,
   "metadata": {},
   "outputs": [],
   "source": [
    "def exponential(x, c1, c2, c3):\n",
    "    return c3 + c1*np.exp(-x*c2)"
   ]
  },
  {
   "cell_type": "code",
   "execution_count": 54,
   "metadata": {},
   "outputs": [],
   "source": [
    "# Array where extrapolated S2s will be saved to\n",
    "extrapolated_S2s = np.zeros(15)\n",
    "extrapolated_S2s_err = np.zeros(15)"
   ]
  },
  {
   "cell_type": "markdown",
   "metadata": {},
   "source": [
    "Feed data points (obtained from a separate script)"
   ]
  },
  {
   "cell_type": "code",
   "execution_count": 55,
   "metadata": {},
   "outputs": [],
   "source": [
    "U_list = np.array([0.500000,\n",
    "                0.730000,\n",
    "                1.065800,\n",
    "                1.556100, \n",
    "                2.272000, \n",
    "                3.300000, \n",
    "                4.843100, \n",
    "                7.071100,   \n",
    "                10.323900,\n",
    "                16.666667, \n",
    "                22.007100, \n",
    "                32.130800,\n",
    "                46.911700,\n",
    "                68.492100,\n",
    "                100.000000])"
   ]
  },
  {
   "cell_type": "code",
   "execution_count": 56,
   "metadata": {},
   "outputs": [],
   "source": [
    "# Define data points\n",
    "betas = np.array([1,2,4,8,16,32]) # betas"
   ]
  },
  {
   "cell_type": "code",
   "execution_count": 57,
   "metadata": {},
   "outputs": [],
   "source": [
    "# Initialize arrays that will store S2 data (rows: betas, columns: U)\n",
    "data = np.ones((betas.size,15))\n",
    "data[0] = np.loadtxt(\"../ProcessedData/1D_256_256_128_Us_1.000000_1.000000_10001_S2.dat\")[:,1]\n",
    "data[1] = np.loadtxt(\"../ProcessedData/1D_256_256_128_Us_1.000000_2.000000_10001_S2.dat\")[:,1]\n",
    "data[2] = np.loadtxt(\"../ProcessedData/1D_256_256_128_Us_1.000000_4.000000_10001_S2.dat\")[:,1]\n",
    "data[3] = np.loadtxt(\"../ProcessedData/1D_256_256_128_Us_1.000000_8.000000_10001_S2.dat\")[:,1]\n",
    "data[4] = np.loadtxt(\"../ProcessedData/1D_256_256_128_Us_1.000000_16.000000_10001_S2.dat\")[:,1]\n",
    "data[5] = np.loadtxt(\"../ProcessedData/1D_256_256_128_Us_1.000000_32.000000_10001_S2.dat\")[:,1]\n",
    "\n",
    "errs = np.ones((betas.size,15))\n",
    "errs[0] = np.loadtxt(\"../ProcessedData/1D_256_256_128_Us_1.000000_1.000000_10001_S2.dat\")[:,2]\n",
    "errs[1] = np.loadtxt(\"../ProcessedData/1D_256_256_128_Us_1.000000_2.000000_10001_S2.dat\")[:,2]\n",
    "errs[2] = np.loadtxt(\"../ProcessedData/1D_256_256_128_Us_1.000000_4.000000_10001_S2.dat\")[:,2]\n",
    "errs[3] = np.loadtxt(\"../ProcessedData/1D_256_256_128_Us_1.000000_8.000000_10001_S2.dat\")[:,2]\n",
    "errs[4] = np.loadtxt(\"../ProcessedData/1D_256_256_128_Us_1.000000_16.000000_10001_S2.dat\")[:,2]\n",
    "errs[5] = np.loadtxt(\"../ProcessedData/1D_256_256_128_Us_1.000000_32.000000_10001_S2.dat\")[:,2]"
   ]
  },
  {
   "cell_type": "code",
   "execution_count": 58,
   "metadata": {},
   "outputs": [
    {
     "name": "stdout",
     "output_type": "stream",
     "text": [
      "S2 (extrapolated) \n",
      "\n",
      "2.523991 +/- 0.029386\n"
     ]
    },
    {
     "data": {
      "image/png": "[encoded data removed]",
      "text/plain": [
       "<Figure size 432x288 with 1 Axes>"
      ]
     },
     "metadata": {
      "needs_background": "light"
     },
     "output_type": "display_data"
    }
   ],
   "source": [
    "# Obtained with entanglement_combiner.py for betas\n",
    "U = 0.500000\n",
    "y_array_exp = data[:,0]\n",
    "sigmas = errs[:,0]\n",
    "\n",
    "# Perform 3-parameter exponential fit\n",
    "popt_exponential, pcov_exponential = scipy.optimize.curve_fit(exponential, betas[2:], y_array_exp[2:],sigma=sigmas[2:],p0=[0.9,0.1,y_array_exp[-1]])\n",
    "\n",
    "# Extract fit parameters\n",
    "c1,c2,c3 = popt_exponential\n",
    "c3_err = np.sqrt(np.diag(pcov_exponential)[2])\n",
    "\n",
    "extrapolated_S2s[0] = c3\n",
    "extrapolated_S2s_err[0] = c3_err\n",
    "\n",
    "# Perform the fit\n",
    "betas_fit = np.linspace(min(betas),max(betas)*1,1000)\n",
    "y_fit = exponential(betas_fit,c1,c2,c3)\n",
    "\n",
    "plt.plot(betas_fit,y_fit,label='fit')\n",
    "plt.errorbar(betas,y_array_exp, yerr=sigmas,color='red',marker='o',label='data',fmt='.',\n",
    "            capsize=5)\n",
    "plt.ylabel(r\"$S_2$\")\n",
    "plt.xlabel(r\"$\\beta$\")\n",
    "plt.legend(frameon=False);\n",
    "\n",
    "print(\"S2 (extrapolated) \\n\")\n",
    "print(f\"{c3:0.6f} +/- {c3_err:0.6f}\")"
   ]
  },
  {
   "cell_type": "code",
   "execution_count": 59,
   "metadata": {},
   "outputs": [
    {
     "name": "stdout",
     "output_type": "stream",
     "text": [
      "S2 (extrapolated) \n",
      "\n",
      "2.368975 +/- 0.003893\n"
     ]
    },
    {
     "data": {
      "image/png": "[encoded data removed]",
      "text/plain": [
       "<Figure size 432x288 with 1 Axes>"
      ]
     },
     "metadata": {
      "needs_background": "light"
     },
     "output_type": "display_data"
    }
   ],
   "source": [
    "# Obtained with entanglement_combiner.py for betas\n",
    "U = 0.730000\n",
    "y_array_exp = data[:,1]\n",
    "sigmas = errs[:,1]\n",
    "\n",
    "# Perform 3-parameter exponential fit\n",
    "popt_exponential, pcov_exponential = scipy.optimize.curve_fit(exponential, betas[2:], y_array_exp[2:],sigma=sigmas[2:],p0=[0.9,0.1,y_array_exp[-1]])\n",
    "\n",
    "# Extract fit parameters\n",
    "c1,c2,c3 = popt_exponential\n",
    "c3_err = np.sqrt(np.diag(pcov_exponential)[2])\n",
    "\n",
    "extrapolated_S2s[1] = c3\n",
    "extrapolated_S2s_err[1] = c3_err\n",
    "\n",
    "# Perform the fit\n",
    "betas_fit = np.linspace(min(betas),max(betas)*1,1000)\n",
    "y_fit = exponential(betas_fit,c1,c2,c3)\n",
    "\n",
    "plt.plot(betas_fit,y_fit,label='fit')\n",
    "plt.errorbar(betas,y_array_exp, yerr=sigmas,color='red',marker='o',label='data',fmt='.',\n",
    "            capsize=5)\n",
    "plt.ylabel(r\"$S_2$\")\n",
    "plt.xlabel(r\"$\\beta$\")\n",
    "plt.legend(frameon=False);\n",
    "\n",
    "print(\"S2 (extrapolated) \\n\")\n",
    "print(f\"{c3:0.6f} +/- {c3_err:0.6f}\")"
   ]
  },
  {
   "cell_type": "code",
   "execution_count": 60,
   "metadata": {},
   "outputs": [
    {
     "name": "stdout",
     "output_type": "stream",
     "text": [
      "S2 (extrapolated) \n",
      "\n",
      "2.309074 +/- 0.025758\n"
     ]
    },
    {
     "data": {
      "image/png": "[encoded data removed]",
      "text/plain": [
       "<Figure size 432x288 with 1 Axes>"
      ]
     },
     "metadata": {
      "needs_background": "light"
     },
     "output_type": "display_data"
    }
   ],
   "source": [
    "# Obtained with entanglement_combiner.py for betas\n",
    "U = 1.0658\n",
    "y_array_exp = data[:,2]\n",
    "sigmas = errs[:,2]\n",
    "\n",
    "# Perform 3-parameter exponential fit\n",
    "popt_exponential, pcov_exponential = scipy.optimize.curve_fit(exponential, betas[2:], y_array_exp[2:],sigma=sigmas[2:],p0=[0.9,0.1,y_array_exp[-1]])\n",
    "\n",
    "# Extract fit parameters\n",
    "c1,c2,c3 = popt_exponential\n",
    "c3_err = np.sqrt(np.diag(pcov_exponential)[2])\n",
    "\n",
    "extrapolated_S2s[2] = c3\n",
    "extrapolated_S2s_err[2] = c3_err\n",
    "\n",
    "# Perform the fit\n",
    "betas_fit = np.linspace(min(betas),max(betas)*1,1000)\n",
    "y_fit = exponential(betas_fit,c1,c2,c3)\n",
    "\n",
    "plt.plot(betas_fit,y_fit,label='fit')\n",
    "plt.errorbar(betas,y_array_exp, yerr=sigmas,color='red',marker='o',label='data',fmt='.',\n",
    "            capsize=5)\n",
    "plt.ylabel(r\"$S_2$\")\n",
    "plt.xlabel(r\"$\\beta$\")\n",
    "plt.legend(frameon=False);\n",
    "\n",
    "print(\"S2 (extrapolated) \\n\")\n",
    "print(f\"{c3:0.6f} +/- {c3_err:0.6f}\")"
   ]
  },
  {
   "cell_type": "code",
   "execution_count": 61,
   "metadata": {},
   "outputs": [
    {
     "name": "stdout",
     "output_type": "stream",
     "text": [
      "S2 (extrapolated) \n",
      "\n",
      "2.210883 +/- 0.036175\n"
     ]
    },
    {
     "data": {
      "image/png": "[encoded data removed]",
      "text/plain": [
       "<Figure size 432x288 with 1 Axes>"
      ]
     },
     "metadata": {
      "needs_background": "light"
     },
     "output_type": "display_data"
    }
   ],
   "source": [
    "# Obtained with entanglement_combiner.py for betas\n",
    "U = 1.5561\n",
    "y_array_exp = data[:,3]\n",
    "sigmas = errs[:,3]\n",
    "\n",
    "# Perform 3-parameter exponential fit\n",
    "popt_exponential, pcov_exponential = scipy.optimize.curve_fit(exponential, betas[2:], y_array_exp[2:],sigma=sigmas[2:],p0=[0.9,0.1,y_array_exp[-1]])\n",
    "\n",
    "# Extract fit parameters\n",
    "c1,c2,c3 = popt_exponential\n",
    "c3_err = np.sqrt(np.diag(pcov_exponential)[2])\n",
    "\n",
    "extrapolated_S2s[3] = c3\n",
    "extrapolated_S2s_err[3] = c3_err\n",
    "\n",
    "# Perform the fit\n",
    "betas_fit = np.linspace(min(betas),max(betas)*1,1000)\n",
    "y_fit = exponential(betas_fit,c1,c2,c3)\n",
    "\n",
    "plt.plot(betas_fit,y_fit,label='fit')\n",
    "plt.errorbar(betas,y_array_exp, yerr=sigmas,color='red',marker='o',label='data',fmt='.',\n",
    "            capsize=5)\n",
    "plt.ylabel(r\"$S_2$\")\n",
    "plt.xlabel(r\"$\\beta$\")\n",
    "plt.legend(frameon=False);\n",
    "\n",
    "print(\"S2 (extrapolated) \\n\")\n",
    "print(f\"{c3:0.6f} +/- {c3_err:0.6f}\")"
   ]
  },
  {
   "cell_type": "code",
   "execution_count": 62,
   "metadata": {},
   "outputs": [
    {
     "name": "stdout",
     "output_type": "stream",
     "text": [
      "S2 (extrapolated) \n",
      "\n",
      "2.071725 +/- 0.026964\n"
     ]
    },
    {
     "data": {
      "image/png": "[encoded data removed]",
      "text/plain": [
       "<Figure size 432x288 with 1 Axes>"
      ]
     },
     "metadata": {
      "needs_background": "light"
     },
     "output_type": "display_data"
    }
   ],
   "source": [
    "# Obtained with entanglement_combiner.py for betas\n",
    "U = 2.272\n",
    "y_array_exp = data[:,4]\n",
    "sigmas = errs[:,4]\n",
    "\n",
    "# Perform 3-parameter exponential fit\n",
    "popt_exponential, pcov_exponential = scipy.optimize.curve_fit(exponential, betas[2:], y_array_exp[2:],sigma=sigmas[2:],p0=[0.9,0.1,y_array_exp[-1]])\n",
    "\n",
    "# Extract fit parameters\n",
    "c1,c2,c3 = popt_exponential\n",
    "c3_err = np.sqrt(np.diag(pcov_exponential)[2])\n",
    "\n",
    "extrapolated_S2s[4] = c3\n",
    "extrapolated_S2s_err[4] = c3_err\n",
    "\n",
    "# Perform the fit\n",
    "betas_fit = np.linspace(min(betas),max(betas)*1,1000)\n",
    "y_fit = exponential(betas_fit,c1,c2,c3)\n",
    "\n",
    "plt.plot(betas_fit,y_fit,label='fit')\n",
    "plt.errorbar(betas,y_array_exp, yerr=sigmas,color='red',marker='o',label='data',fmt='.',\n",
    "            capsize=5)\n",
    "plt.ylabel(r\"$S_2$\")\n",
    "plt.xlabel(r\"$\\beta$\")\n",
    "plt.legend(frameon=False);\n",
    "\n",
    "print(\"S2 (extrapolated) \\n\")\n",
    "print(f\"{c3:0.6f} +/- {c3_err:0.6f}\")"
   ]
  },
  {
   "cell_type": "code",
   "execution_count": 63,
   "metadata": {},
   "outputs": [
    {
     "name": "stdout",
     "output_type": "stream",
     "text": [
      "S2 (extrapolated) \n",
      "\n",
      "1.954513 +/- 0.032696\n"
     ]
    },
    {
     "data": {
      "image/png": "[encoded data removed]",
      "text/plain": [
       "<Figure size 432x288 with 1 Axes>"
      ]
     },
     "metadata": {
      "needs_background": "light"
     },
     "output_type": "display_data"
    }
   ],
   "source": [
    "# Obtained with entanglement_combiner.py for betas\n",
    "U = 3.3\n",
    "y_array_exp = data[:,5]\n",
    "sigmas = errs[:,5]\n",
    "\n",
    "# Perform 3-parameter exponential fit\n",
    "popt_exponential, pcov_exponential = scipy.optimize.curve_fit(exponential, betas[2:], y_array_exp[2:],sigma=sigmas[2:],p0=[0.9,0.1,y_array_exp[-1]])\n",
    "\n",
    "# Extract fit parameters\n",
    "c1,c2,c3 = popt_exponential\n",
    "c3_err = np.sqrt(np.diag(pcov_exponential)[2])\n",
    "\n",
    "extrapolated_S2s[5] = c3\n",
    "extrapolated_S2s_err[5] = c3_err\n",
    "\n",
    "# Perform the fit\n",
    "betas_fit = np.linspace(min(betas),max(betas)*1,1000)\n",
    "y_fit = exponential(betas_fit,c1,c2,c3)\n",
    "\n",
    "plt.plot(betas_fit,y_fit,label='fit')\n",
    "plt.errorbar(betas,y_array_exp, yerr=sigmas,color='red',marker='o',label='data',fmt='.',\n",
    "            capsize=5)\n",
    "plt.ylabel(r\"$S_2$\")\n",
    "plt.xlabel(r\"$\\beta$\")\n",
    "plt.legend(frameon=False);\n",
    "\n",
    "print(\"S2 (extrapolated) \\n\")\n",
    "print(f\"{c3:0.6f} +/- {c3_err:0.6f}\")"
   ]
  },
  {
   "cell_type": "code",
   "execution_count": 64,
   "metadata": {},
   "outputs": [
    {
     "name": "stdout",
     "output_type": "stream",
     "text": [
      "S2 (extrapolated) \n",
      "\n",
      "0.882603 +/- 0.349817\n"
     ]
    },
    {
     "data": {
      "image/png": "[encoded data removed]",
      "text/plain": [
       "<Figure size 432x288 with 1 Axes>"
      ]
     },
     "metadata": {
      "needs_background": "light"
     },
     "output_type": "display_data"
    }
   ],
   "source": [
    "# Obtained with entanglement_combiner.py for betas\n",
    "U = 4.843100\n",
    "y_array_exp = data[:,6]\n",
    "sigmas = errs[:,6]\n",
    "\n",
    "# Perform 3-parameter exponential fit\n",
    "popt_exponential, pcov_exponential = scipy.optimize.curve_fit(exponential, betas[0:], y_array_exp[0:],sigma=sigmas[0:],p0=[0.9,0.1,y_array_exp[-1]])\n",
    "\n",
    "# Extract fit parameters\n",
    "c1,c2,c3 = popt_exponential\n",
    "c3_err = np.sqrt(np.diag(pcov_exponential)[2])\n",
    "\n",
    "extrapolated_S2s[6] = c3\n",
    "extrapolated_S2s_err[6] = c3_err\n",
    "\n",
    "# Perform the fit\n",
    "betas_fit = np.linspace(min(betas),max(betas)*1,1000)\n",
    "y_fit = exponential(betas_fit,c1,c2,c3)\n",
    "\n",
    "plt.plot(betas_fit,y_fit,label='fit')\n",
    "plt.errorbar(betas,y_array_exp, yerr=sigmas,color='red',marker='o',label='data',fmt='.',\n",
    "            capsize=5)\n",
    "plt.ylabel(r\"$S_2$\")\n",
    "plt.xlabel(r\"$\\beta$\")\n",
    "plt.legend(frameon=False);\n",
    "\n",
    "print(\"S2 (extrapolated) \\n\")\n",
    "print(f\"{c3:0.6f} +/- {c3_err:0.6f}\")"
   ]
  },
  {
   "cell_type": "code",
   "execution_count": 65,
   "metadata": {},
   "outputs": [
    {
     "name": "stdout",
     "output_type": "stream",
     "text": [
      "S2 (extrapolated) \n",
      "\n",
      "0.356737 +/- 0.002854\n"
     ]
    },
    {
     "data": {
      "image/png": "[encoded data removed]",
      "text/plain": [
       "<Figure size 432x288 with 1 Axes>"
      ]
     },
     "metadata": {
      "needs_background": "light"
     },
     "output_type": "display_data"
    }
   ],
   "source": [
    "# Obtained with entanglement_combiner.py for betas\n",
    "U = 7.0711\n",
    "y_array_exp = data[:,7]\n",
    "sigmas = errs[:,7]\n",
    "\n",
    "# Perform 3-parameter exponential fit\n",
    "popt_exponential, pcov_exponential = scipy.optimize.curve_fit(exponential, betas[1:], y_array_exp[1:],sigma=sigmas[1:],p0=[0.9,0.1,y_array_exp[-1]])\n",
    "\n",
    "# Extract fit parameters\n",
    "c1,c2,c3 = popt_exponential\n",
    "c3_err = np.sqrt(np.diag(pcov_exponential)[2])\n",
    "\n",
    "extrapolated_S2s[7] = c3\n",
    "extrapolated_S2s_err[7] = c3_err\n",
    "\n",
    "# Perform the fit\n",
    "betas_fit = np.linspace(min(betas),max(betas)*1,1000)\n",
    "y_fit = exponential(betas_fit,c1,c2,c3)\n",
    "\n",
    "plt.plot(betas_fit,y_fit,label='fit')\n",
    "plt.errorbar(betas,y_array_exp, yerr=sigmas,color='red',marker='o',label='data',fmt='.',\n",
    "            capsize=5)\n",
    "plt.ylabel(r\"$S_2$\")\n",
    "plt.xlabel(r\"$\\beta$\")\n",
    "plt.legend(frameon=False);\n",
    "\n",
    "print(\"S2 (extrapolated) \\n\")\n",
    "print(f\"{c3:0.6f} +/- {c3_err:0.6f}\")"
   ]
  },
  {
   "cell_type": "code",
   "execution_count": 66,
   "metadata": {},
   "outputs": [
    {
     "name": "stdout",
     "output_type": "stream",
     "text": [
      "S2 (extrapolated) \n",
      "\n",
      "0.166376 +/- 0.007670\n"
     ]
    },
    {
     "data": {
      "image/png": "[encoded data removed]",
      "text/plain": [
       "<Figure size 432x288 with 1 Axes>"
      ]
     },
     "metadata": {
      "needs_background": "light"
     },
     "output_type": "display_data"
    }
   ],
   "source": [
    "# Obtained with entanglement_combiner.py for betas\n",
    "U = 10.3239\n",
    "y_array_exp = data[:,8]\n",
    "sigmas = errs[:,8]\n",
    "\n",
    "# Perform 3-parameter exponential fit\n",
    "popt_exponential, pcov_exponential = scipy.optimize.curve_fit(exponential, betas[0:], y_array_exp[0:],sigma=sigmas[0:],p0=[0.9,0.1,y_array_exp[-1]])\n",
    "\n",
    "# Extract fit parameters\n",
    "c1,c2,c3 = popt_exponential\n",
    "c3_err = np.sqrt(np.diag(pcov_exponential)[2])\n",
    "\n",
    "extrapolated_S2s[8] = c3\n",
    "extrapolated_S2s_err[8] = c3_err\n",
    "\n",
    "# Perform the fit\n",
    "betas_fit = np.linspace(min(betas),max(betas)*1,1000)\n",
    "y_fit = exponential(betas_fit,c1,c2,c3)\n",
    "\n",
    "plt.plot(betas_fit,y_fit,label='fit')\n",
    "plt.errorbar(betas,y_array_exp, yerr=sigmas,color='red',marker='o',label='data',fmt='.',\n",
    "            capsize=5)\n",
    "plt.ylabel(r\"$S_2$\")\n",
    "plt.xlabel(r\"$\\beta$\")\n",
    "plt.legend(frameon=False);\n",
    "\n",
    "print(\"S2 (extrapolated) \\n\")\n",
    "print(f\"{c3:0.6f} +/- {c3_err:0.6f}\")"
   ]
  },
  {
   "cell_type": "code",
   "execution_count": 67,
   "metadata": {},
   "outputs": [
    {
     "name": "stdout",
     "output_type": "stream",
     "text": [
      "S2 (extrapolated) \n",
      "\n",
      "0.049898 +/- 0.002582\n"
     ]
    },
    {
     "data": {
      "image/png": "[encoded data removed]",
      "text/plain": [
       "<Figure size 432x288 with 1 Axes>"
      ]
     },
     "metadata": {
      "needs_background": "light"
     },
     "output_type": "display_data"
    }
   ],
   "source": [
    "# Obtained with entanglement_combiner.py for betas\n",
    "U = 16.666667\n",
    "y_array_exp = data[:,9]\n",
    "sigmas = errs[:,9]\n",
    "\n",
    "# Perform 3-parameter exponential fit\n",
    "popt_exponential, pcov_exponential = scipy.optimize.curve_fit(exponential, betas[0:], y_array_exp[0:],sigma=sigmas[0:],p0=[0.9,0.1,y_array_exp[-1]])\n",
    "\n",
    "# Extract fit parameters\n",
    "c1,c2,c3 = popt_exponential\n",
    "c3_err = np.sqrt(np.diag(pcov_exponential)[2])\n",
    "\n",
    "extrapolated_S2s[9] = c3\n",
    "extrapolated_S2s_err[9] = c3_err\n",
    "\n",
    "# Perform the fit\n",
    "betas_fit = np.linspace(min(betas),max(betas)*1,1000)\n",
    "y_fit = exponential(betas_fit,c1,c2,c3)\n",
    "\n",
    "plt.plot(betas_fit,y_fit,label='fit')\n",
    "plt.errorbar(betas,y_array_exp, yerr=sigmas,color='red',marker='o',label='data',fmt='.',\n",
    "            capsize=5)\n",
    "plt.ylabel(r\"$S_2$\")\n",
    "plt.xlabel(r\"$\\beta$\")\n",
    "plt.legend(frameon=False);\n",
    "\n",
    "print(\"S2 (extrapolated) \\n\")\n",
    "print(f\"{c3:0.6f} +/- {c3_err:0.6f}\")"
   ]
  },
  {
   "cell_type": "code",
   "execution_count": 68,
   "metadata": {},
   "outputs": [
    {
     "name": "stdout",
     "output_type": "stream",
     "text": [
      "S2 (extrapolated) \n",
      "\n",
      "0.040532 +/- 0.002646\n"
     ]
    },
    {
     "data": {
      "image/png": "[encoded data removed]",
      "text/plain": [
       "<Figure size 432x288 with 1 Axes>"
      ]
     },
     "metadata": {
      "needs_background": "light"
     },
     "output_type": "display_data"
    }
   ],
   "source": [
    "# Obtained with entanglement_combiner.py for betas\n",
    "U = 22.007100\n",
    "y_array_exp = data[:,10]\n",
    "sigmas = errs[:,10]\n",
    "\n",
    "# Perform 3-parameter exponential fit\n",
    "popt_exponential, pcov_exponential = scipy.optimize.curve_fit(exponential, betas[0:], y_array_exp[0:],sigma=sigmas[0:],p0=[0.9,0.1,y_array_exp[-1]])\n",
    "\n",
    "# Extract fit parameters\n",
    "c1,c2,c3 = popt_exponential\n",
    "c3_err = np.sqrt(np.diag(pcov_exponential)[2])\n",
    "\n",
    "extrapolated_S2s[10] = c3\n",
    "extrapolated_S2s_err[10] = c3_err\n",
    "\n",
    "# Perform the fit\n",
    "betas_fit = np.linspace(min(betas),max(betas)*1,1000)\n",
    "y_fit = exponential(betas_fit,c1,c2,c3)\n",
    "\n",
    "plt.plot(betas_fit,y_fit,label='fit')\n",
    "plt.errorbar(betas,y_array_exp, yerr=sigmas,color='red',marker='o',label='data',fmt='.',\n",
    "            capsize=5)\n",
    "plt.ylabel(r\"$S_2$\")\n",
    "plt.xlabel(r\"$\\beta$\")\n",
    "plt.legend(frameon=False);\n",
    "\n",
    "print(\"S2 (extrapolated) \\n\")\n",
    "print(f\"{c3:0.6f} +/- {c3_err:0.6f}\")"
   ]
  },
  {
   "cell_type": "code",
   "execution_count": 69,
   "metadata": {},
   "outputs": [
    {
     "data": {
      "text/plain": [
       "array([0.00449217, 0.00454683, 0.00445229, 0.00471637, 0.00540917,\n",
       "       0.00637219])"
      ]
     },
     "execution_count": 69,
     "metadata": {},
     "output_type": "execute_result"
    }
   ],
   "source": [
    "errs[:,11]"
   ]
  },
  {
   "cell_type": "code",
   "execution_count": 70,
   "metadata": {},
   "outputs": [
    {
     "name": "stdout",
     "output_type": "stream",
     "text": [
      "S2 (extrapolated) \n",
      "\n",
      "0.017100 +/- 0.001927\n"
     ]
    },
    {
     "data": {
      "image/png": "[encoded data removed]",
      "text/plain": [
       "<Figure size 432x288 with 1 Axes>"
      ]
     },
     "metadata": {
      "needs_background": "light"
     },
     "output_type": "display_data"
    }
   ],
   "source": [
    "# Obtained with entanglement_combiner.py for betas\n",
    "U = 32.130800\n",
    "y_array_exp = data[:,11]\n",
    "sigmas = errs[:,11]\n",
    "\n",
    "# Perform 3-parameter exponential fit\n",
    "popt_exponential, pcov_exponential = scipy.optimize.curve_fit(exponential, betas[0:], y_array_exp[0:],sigma=sigmas[0:],p0=[1.9,1.1,y_array_exp[-1]])\n",
    "\n",
    "# Extract fit parameters\n",
    "c1,c2,c3 = popt_exponential\n",
    "c3_err = np.sqrt(np.diag(pcov_exponential)[2])\n",
    "\n",
    "extrapolated_S2s[11] = c3\n",
    "extrapolated_S2s_err[11] = c3_err\n",
    "\n",
    "# Perform the fit\n",
    "betas_fit = np.linspace(min(betas),max(betas)*1,1000)\n",
    "y_fit = exponential(betas_fit,c1,c2,c3)\n",
    "\n",
    "plt.plot(betas_fit,y_fit,label='fit')\n",
    "plt.errorbar(betas,y_array_exp, yerr=sigmas,color='red',marker='o',label='data',fmt='.',\n",
    "            capsize=5)\n",
    "plt.ylabel(r\"$S_2$\")\n",
    "plt.xlabel(r\"$\\beta$\")\n",
    "plt.legend(frameon=False);\n",
    "\n",
    "print(\"S2 (extrapolated) \\n\")\n",
    "print(f\"{c3:0.6f} +/- {c3_err:0.6f}\")"
   ]
  },
  {
   "cell_type": "code",
   "execution_count": 71,
   "metadata": {},
   "outputs": [
    {
     "name": "stdout",
     "output_type": "stream",
     "text": [
      "S2 (extrapolated) \n",
      "\n",
      "0.008594 +/- 0.003195\n"
     ]
    },
    {
     "data": {
      "image/png": "[encoded data removed]",
      "text/plain": [
       "<Figure size 432x288 with 1 Axes>"
      ]
     },
     "metadata": {
      "needs_background": "light"
     },
     "output_type": "display_data"
    }
   ],
   "source": [
    "# Obtained with entanglement_combiner.py for betas\n",
    "U = 46.911700\n",
    "y_array_exp = data[:,12]\n",
    "sigmas = errs[:,12]\n",
    "\n",
    "# Perform 3-parameter exponential fit\n",
    "popt_exponential, pcov_exponential = scipy.optimize.curve_fit(exponential, betas[1:], y_array_exp[1:],sigma=sigmas[1:],p0=[0.9,1,y_array_exp[-1]])\n",
    "\n",
    "# Extract fit parameters\n",
    "c1,c2,c3 = popt_exponential\n",
    "c3_err = np.sqrt(np.diag(pcov_exponential)[2])\n",
    "\n",
    "extrapolated_S2s[12] = c3\n",
    "extrapolated_S2s_err[12] = c3_err\n",
    "\n",
    "# Perform the fit\n",
    "betas_fit = np.linspace(min(betas),max(betas)*1,1000)\n",
    "y_fit = exponential(betas_fit,c1,c2,c3)\n",
    "\n",
    "plt.plot(betas_fit,y_fit,label='fit')\n",
    "plt.errorbar(betas,y_array_exp, yerr=sigmas,color='red',marker='o',label='data',fmt='.',\n",
    "            capsize=5)\n",
    "plt.ylabel(r\"$S_2$\")\n",
    "plt.xlabel(r\"$\\beta$\")\n",
    "plt.legend(frameon=False);\n",
    "\n",
    "print(\"S2 (extrapolated) \\n\")\n",
    "print(f\"{c3:0.6f} +/- {c3_err:0.6f}\")"
   ]
  },
  {
   "cell_type": "code",
   "execution_count": 72,
   "metadata": {},
   "outputs": [
    {
     "name": "stdout",
     "output_type": "stream",
     "text": [
      "S2 (extrapolated) \n",
      "\n",
      "0.003617 +/- 0.000181\n"
     ]
    },
    {
     "data": {
      "image/png": "[encoded data removed]",
      "text/plain": [
       "<Figure size 432x288 with 1 Axes>"
      ]
     },
     "metadata": {
      "needs_background": "light"
     },
     "output_type": "display_data"
    }
   ],
   "source": [
    "# Obtained with entanglement_combiner.py for betas\n",
    "U = 68.492100\n",
    "y_array_exp = data[:,13]\n",
    "sigmas = errs[:,13]\n",
    "\n",
    "# Perform 3-parameter exponential fit\n",
    "popt_exponential, pcov_exponential = scipy.optimize.curve_fit(exponential, betas[1:], y_array_exp[1:],sigma=sigmas[1:],p0=[0.9,1,y_array_exp[-1]])\n",
    "\n",
    "# Extract fit parameters\n",
    "c1,c2,c3 = popt_exponential\n",
    "c3_err = np.sqrt(np.diag(pcov_exponential)[2])\n",
    "\n",
    "extrapolated_S2s[13] = c3\n",
    "extrapolated_S2s_err[13] = c3_err\n",
    "\n",
    "# Perform the fit\n",
    "betas_fit = np.linspace(min(betas),max(betas)*1,1000)\n",
    "y_fit = exponential(betas_fit,c1,c2,c3)\n",
    "\n",
    "plt.plot(betas_fit,y_fit,label='fit')\n",
    "plt.errorbar(betas,y_array_exp, yerr=sigmas,color='red',marker='o',label='data',fmt='.',\n",
    "            capsize=5)\n",
    "plt.ylabel(r\"$S_2$\")\n",
    "plt.xlabel(r\"$\\beta$\")\n",
    "plt.legend(frameon=False);\n",
    "\n",
    "print(\"S2 (extrapolated) \\n\")\n",
    "print(f\"{c3:0.6f} +/- {c3_err:0.6f}\")"
   ]
  },
  {
   "cell_type": "code",
   "execution_count": 73,
   "metadata": {},
   "outputs": [
    {
     "name": "stdout",
     "output_type": "stream",
     "text": [
      "S2 (extrapolated) \n",
      "\n",
      "0.001145 +/- 0.001627\n"
     ]
    },
    {
     "data": {
      "image/png": "[encoded data removed]",
      "text/plain": [
       "<Figure size 432x288 with 1 Axes>"
      ]
     },
     "metadata": {
      "needs_background": "light"
     },
     "output_type": "display_data"
    }
   ],
   "source": [
    "# Obtained with entanglement_combiner.py for betas\n",
    "U = 100.00\n",
    "y_array_exp = data[:,14]\n",
    "sigmas = errs[:,14]\n",
    "\n",
    "# Perform 3-parameter exponential fit\n",
    "popt_exponential, pcov_exponential = scipy.optimize.curve_fit(exponential, betas[1:], y_array_exp[1:],sigma=sigmas[1:],p0=[0.9,0.1,y_array_exp[-1]])\n",
    "\n",
    "# Extract fit parameters\n",
    "c1,c2,c3 = popt_exponential\n",
    "c3_err = np.sqrt(np.diag(pcov_exponential)[2])\n",
    "\n",
    "extrapolated_S2s[14] = c3\n",
    "extrapolated_S2s_err[14] = c3_err\n",
    "\n",
    "# Perform the fit\n",
    "betas_fit = np.linspace(min(betas),max(betas)*1,1000)\n",
    "y_fit = exponential(betas_fit,c1,c2,c3)\n",
    "\n",
    "plt.plot(betas_fit,y_fit,label='fit')\n",
    "plt.errorbar(betas,y_array_exp, yerr=sigmas,color='red',marker='o',label='data',fmt='.',\n",
    "            capsize=5)\n",
    "plt.ylabel(r\"$S_2$\")\n",
    "plt.xlabel(r\"$\\beta$\")\n",
    "plt.legend(frameon=False);\n",
    "\n",
    "print(\"S2 (extrapolated) \\n\")\n",
    "print(f\"{c3:0.6f} +/- {c3_err:0.6f}\")"
   ]
  },
  {
   "cell_type": "markdown",
   "metadata": {},
   "source": [
    "Perform exponential fit to data with Scipy curve_fit"
   ]
  },
  {
   "cell_type": "code",
   "execution_count": 74,
   "metadata": {},
   "outputs": [
    {
     "name": "stdout",
     "output_type": "stream",
     "text": [
      "[2.5239912620252354, 2.3689754424387615, 2.309074122639528, 2.21088252325784, 2.07172469595276, 1.9545129038486824, 0.8826028148571756, 0.35673739040683017, 0.16637587650604377, 0.049897722981096945, 0.04053236616454268, 0.01709983486747289, 0.008594476479895991, 0.0036169312706772422, 0.0011448981896688695]\n",
      "[0.02938588049673772, 0.00389306582216278, 0.02575775383115665, 0.03617494284916049, 0.026963896244360682, 0.032696409774905864, 0.34981725054853874, 0.002853633438325747, 0.0076702758689036, 0.0025824048313832938, 0.0026457512960310413, 0.0019267699054918205, 0.0031949207928844685, 0.0001810573520799364, 0.0016265374494737995]\n"
     ]
    }
   ],
   "source": [
    "print(list(extrapolated_S2s))\n",
    "print(list(extrapolated_S2s_err))"
   ]
  },
  {
   "cell_type": "code",
   "execution_count": 75,
   "metadata": {},
   "outputs": [],
   "source": [
    "# Save the extrapolations to file here\n",
    "D=1\n",
    "L=256\n",
    "N=256\n",
    "l_max=128\n",
    "t=1.000000\n",
    "bin_size=10001\n",
    "beta_list = np.array(betas)\n",
    "#Format the data file\n",
    "with open(\"../ProcessedData/\"+str(D)+\"D_%d_%d_%d_Us_%.6f_extrapolations_%d_S2.dat\"%(L,N,l_max,t,bin_size),\"wb\") as processed_data:\n",
    "    np.savetxt(processed_data,np.c_[U_list,extrapolated_S2s,extrapolated_S2s_err],delimiter=\" \",fmt=\"%.16f\",header=\"BH Parameters: L=%d,N=%d,D=%d,l=%d,t=%.6f,beta=extrapolations,bin_size=%d \\n U               <S2>               StdErr.\"%(L,N,D,l_max,t,bin_size))"
   ]
  },
  {
   "cell_type": "code",
   "execution_count": null,
   "metadata": {},
   "outputs": [],
   "source": []
  },
  {
   "cell_type": "code",
   "execution_count": null,
   "metadata": {},
   "outputs": [],
   "source": []
  },
  {
   "cell_type": "code",
   "execution_count": null,
   "metadata": {},
   "outputs": [],
   "source": []
  }
 ],
 "metadata": {
  "kernelspec": {
   "display_name": "Python 3",
   "language": "python",
   "name": "python3"
  },
  "language_info": {
   "codemirror_mode": {
    "name": "ipython",
    "version": 3
   },
   "file_extension": ".py",
   "mimetype": "text/x-python",
   "name": "python",
   "nbconvert_exporter": "python",
   "pygments_lexer": "ipython3",
   "version": "3.8.5"
  }
 },
 "nbformat": 4,
 "nbformat_minor": 4
}
