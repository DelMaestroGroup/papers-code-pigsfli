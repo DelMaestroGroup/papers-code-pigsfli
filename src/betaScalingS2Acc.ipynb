{
 "cells": [
  {
   "cell_type": "code",
   "execution_count": 1,
   "metadata": {},
   "outputs": [],
   "source": [
    "import numpy as np\n",
    "import matplotlib.pyplot as plt"
   ]
  },
  {
   "cell_type": "code",
   "execution_count": 2,
   "metadata": {},
   "outputs": [],
   "source": [
    "colors = ['salmon','dodgerblue','mediumseagreen']\n",
    "colors = ['#FFA0A0','#1e90ff','#3cb371']\n",
    "colors_light = ['#FFEDED','#6BDDFF','#89FFBE']"
   ]
  },
  {
   "cell_type": "markdown",
   "metadata": {},
   "source": [
    "# N=8"
   ]
  },
  {
   "cell_type": "code",
   "execution_count": 3,
   "metadata": {},
   "outputs": [],
   "source": [
    "# Exact S2 from ED\n",
    "S2_SF_exact = 0.012284605416158443   # U/t=0.5\n",
    "S2_PT_exact = 0.04786463276686823    # U/t=3.3\n",
    "S2_MOTT_exact = 0.04604484764699668  # U/t=10.0"
   ]
  },
  {
   "cell_type": "code",
   "execution_count": 4,
   "metadata": {},
   "outputs": [],
   "source": [
    "# U/t=0.5\n",
    "data_SF = np.loadtxt('../ProcessedData/1D_8_8_4_0.500000_1.000000_betas_10000_S2acc.dat')\n",
    "betas = data_SF[:,0]\n",
    "S2_SF = data_SF[:,1]\n",
    "S2_SF_err = data_SF[:,2]\n",
    "\n",
    "# Calculate relative error between exact and estimate S2\n",
    "S2_SF_relErr = np.abs((S2_SF-S2_SF_exact)/S2_SF_exact)\n",
    "S2_SF_relErr_err = np.abs(S2_SF_err / S2_SF_exact)\n",
    "\n",
    "# U/t=3.3\n",
    "data_PT = np.loadtxt('../ProcessedData/1D_8_8_4_3.300000_1.000000_betas_10000_S2acc.dat')\n",
    "betas = data_PT[:,0]\n",
    "S2_PT = data_PT[:,1]\n",
    "S2_PT_err = data_PT[:,2]\n",
    "\n",
    "# Calculate relative error between exact and estimate S2\n",
    "S2_PT_relErr = np.abs((S2_PT-S2_PT_exact)/S2_PT_exact)\n",
    "S2_PT_relErr_err = np.abs(S2_PT_err / S2_PT_exact)\n",
    "\n",
    "# U/t=10.0\n",
    "data_MOTT = np.loadtxt('../ProcessedData/1D_8_8_4_10.000000_1.000000_betas_10000_S2acc.dat')\n",
    "betas = data_MOTT[:,0]\n",
    "S2_MOTT = data_MOTT[:,1]\n",
    "S2_MOTT_err = data_MOTT[:,2]\n",
    "\n",
    "# Calculate relative error between exact and estimate S2\n",
    "S2_MOTT_relErr = np.abs((S2_MOTT-S2_MOTT_exact)/S2_MOTT_exact)\n",
    "S2_MOTT_relErr_err = np.abs(S2_MOTT_err / S2_MOTT_exact)"
   ]
  },
  {
   "cell_type": "code",
   "execution_count": 5,
   "metadata": {},
   "outputs": [
    {
     "name": "stderr",
     "output_type": "stream",
     "text": [
      "findfont: Font family ['serif'] not found. Falling back to DejaVu Sans.\n"
     ]
    },
    {
     "data": {
      "image/png": "[encoded data removed]",
      "text/plain": [
       "<Figure size 333.549x412.289 with 3 Axes>"
      ]
     },
     "metadata": {
      "needs_background": "light"
     },
     "output_type": "display_data"
    }
   ],
   "source": [
    "with plt.style.context('../IOP_large.mplstyle2'):\n",
    "\n",
    "    fig,ax = plt.subplots(3,1,sharex=True)\n",
    "    \n",
    "    # Assign labels to subaxes in ax\n",
    "    ax1 = ax[0]\n",
    "    ax2 = ax[1]\n",
    "    ax3 = ax[2]\n",
    "\n",
    "    # U/t=10.0\n",
    "    ax1.errorbar(betas,S2_MOTT, yerr=S2_MOTT_err, fmt='.', capsize=5,\n",
    "                label=r'$U/t=10.0$',color=colors[0],mfc=colors_light[0],marker='s',zorder=2)\n",
    "    ax1.axhline(0.04604484764699668,color=colors[0])\n",
    "    ax1.tick_params(direction='in',which='both')\n",
    "    ax1.set_ylabel(r'$\\langle S_2^{\\rm{acc}} \\rangle$')\n",
    "    ax1.set_xlabel(r'')\n",
    "    \n",
    "    # Add anotation with system information\n",
    "    ax1.annotate(r\"$M=8,N=8,\\ell=4,D=1$\",(0.50,0.50+.35),xycoords='figure fraction')\n",
    "    \n",
    "    #Legend\n",
    "    ax1.legend()\n",
    "    \n",
    "    # U/t=3.3\n",
    "    ax2.errorbar(betas,S2_PT, yerr=S2_PT_err, fmt='.', capsize=5,\n",
    "                label=r'$U/t=3.3$',color=colors[1],mfc=colors_light[1],marker='o',zorder=2)\n",
    "    ax2.axhline(0.04786463276686823,color=colors[1])\n",
    "    ax2.tick_params(direction='in',which='both')\n",
    "    ax2.set_ylabel(r'$\\langle S_2^{\\rm{acc}} \\rangle$')\n",
    "    ax2.set_xlabel(r'')\n",
    "    \n",
    "    #Legend\n",
    "    ax2.legend()\n",
    "    \n",
    "    # U/t=0.5\n",
    "    ax3.errorbar(betas,S2_SF, yerr=S2_SF_err, fmt='.', capsize=5,\n",
    "                label=r'$U/t=0.5$',color=colors[2],mfc=colors_light[2],marker='^',zorder=2)\n",
    "    ax3.axhline(0.012284605416158443,color=colors[2])\n",
    "    ax3.tick_params(direction='in',which='both')\n",
    "    ax3.set_ylabel(r'$\\langle S_2^{\\rm{acc}} \\rangle$')\n",
    "    ax3.set_xlabel(r'$\\beta$')\n",
    "    \n",
    "    #Legend\n",
    "    ax3.legend(loc=\"lower right\")\n",
    "    \n",
    "    # Adjust vertical space between subplots\n",
    "    fig.subplots_adjust(hspace=0.023)\n",
    "\n",
    "    # Save figure\n",
    "    plt.savefig(\"../figures/relativeErrorsS2acc_N8.pdf\",dpi=400)\n",
    "    plt.savefig(\"../figures/relativeErrorsS2acc_N8.svg\",dpi=400)\n",
    "    plt.show()"
   ]
  },
  {
   "cell_type": "code",
   "execution_count": null,
   "metadata": {},
   "outputs": [],
   "source": []
  },
  {
   "cell_type": "code",
   "execution_count": null,
   "metadata": {},
   "outputs": [],
   "source": []
  }
 ],
 "metadata": {
  "kernelspec": {
   "display_name": "Python 3",
   "language": "python",
   "name": "python3"
  },
  "language_info": {
   "codemirror_mode": {
    "name": "ipython",
    "version": 3
   },
   "file_extension": ".py",
   "mimetype": "text/x-python",
   "name": "python",
   "nbconvert_exporter": "python",
   "pygments_lexer": "ipython3",
   "version": "3.8.5"
  }
 },
 "nbformat": 4,
 "nbformat_minor": 4
}
