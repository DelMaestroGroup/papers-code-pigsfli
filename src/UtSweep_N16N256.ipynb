{
 "cells": [
  {
   "cell_type": "markdown",
   "metadata": {},
   "source": [
    "## U/t sweep"
   ]
  },
  {
   "cell_type": "code",
   "execution_count": 1,
   "metadata": {},
   "outputs": [],
   "source": [
    "import numpy as np\n",
    "import matplotlib.pyplot as plt"
   ]
  },
  {
   "cell_type": "code",
   "execution_count": 2,
   "metadata": {},
   "outputs": [],
   "source": [
    "colors = ['salmon','dodgerblue','mediumseagreen']\n",
    "colors = ['#FFA0A0','#1e90ff','#3cb371','#966fd6','#F0B365','#666666','#FEDD00']\n",
    "colors_light = ['#FFEDED','#6BDDFF','#89FFBE','#ece6ff','#f7ecde','#eeeeee','#fef7e1']"
   ]
  },
  {
   "cell_type": "code",
   "execution_count": 3,
   "metadata": {},
   "outputs": [],
   "source": [
    "# Load exact data\n",
    "data_ED = np.loadtxt(\"/Users/ecasiano/Desktop/PaperData/PaperData/EDSweep/spatEE_gs_16_16_08_+0.500_+100.000_141.dat\")\n",
    "S2_ED = data_ED[:,4]\n",
    "U_ED = data_ED[:,0]"
   ]
  },
  {
   "cell_type": "code",
   "execution_count": 4,
   "metadata": {},
   "outputs": [],
   "source": [
    "# Simulation data for β=1.0\n",
    "data = np.loadtxt('../ProcessedData/1D_16_16_8_Us_1.000000_1.000000_10000_S2.dat')\n",
    "U = data[:,0]\n",
    "S2_beta1 = data[:,1]\n",
    "S2_beta1_err= data[:,2]"
   ]
  },
  {
   "cell_type": "code",
   "execution_count": 5,
   "metadata": {},
   "outputs": [],
   "source": [
    "# Simulation data for β=2.0\n",
    "data = np.loadtxt('../ProcessedData/1D_16_16_8_Us_1.000000_2.000000_10001_S2.dat')\n",
    "S2_beta2 = data[:,1]\n",
    "S2_beta2_err= data[:,2]"
   ]
  },
  {
   "cell_type": "code",
   "execution_count": 6,
   "metadata": {},
   "outputs": [],
   "source": [
    "# Simulation data for β=4.0\n",
    "data = np.loadtxt('../ProcessedData/1D_16_16_8_Us_1.000000_4.000000_10001_S2.dat')\n",
    "S2_beta4 = data[:,1]\n",
    "S2_beta4_err= data[:,2]"
   ]
  },
  {
   "cell_type": "code",
   "execution_count": 7,
   "metadata": {},
   "outputs": [],
   "source": [
    "# Simulation data for β=8.0\n",
    "data = np.loadtxt('../ProcessedData/1D_16_16_8_Us_1.000000_8.000000_10001_S2.dat')\n",
    "S2_beta8 = data[:,1]\n",
    "S2_beta8_err= data[:,2]"
   ]
  },
  {
   "cell_type": "code",
   "execution_count": 8,
   "metadata": {},
   "outputs": [
    {
     "name": "stdout",
     "output_type": "stream",
     "text": [
      "# BH Parameters: L=16,N=16,D=1,l=8,t=1.000000,beta=8.000000,bin_size=10001 \n",
      "#  U               <S2>               StdErr.\n",
      "0.5000000000000000 1.6166652908188335 0.0054644941986333\n",
      "0.7300000000000000 1.5729683778873396 0.0053154970182364\n",
      "1.0658000000000001 1.5048923819878186 0.0045909880174979\n",
      "1.5561000000000000 1.4425924486601531 0.0047244326001765\n",
      "2.2719999999999998 1.3503146349343975 0.0052803303585076\n",
      "3.2999999999999998 1.2300436875495162 0.0044252949848725\n",
      "4.8430999999999997 0.8783212375568124 0.0018856581463575\n",
      "7.0711000000000004 0.3678695266771143 0.0017506911924556\n",
      "10.3239000000000001 0.1598020958960922 0.0004469354765875\n",
      "16.6666670000000003 0.0591341816086998 0.0003058366356457\n",
      "22.0071000000000012 0.0302951023269563 0.0030878263480720\n",
      "32.1308000000000007 0.0159160119947590 0.0006528218367851\n",
      "46.9117000000000033 0.0072147989663754 0.0001534351419565\n",
      "68.4920999999999935 0.0029188372705926 0.0003763142417304\n",
      "100.0000000000000000 0.0018869707092078 0.0001174088302598\n"
     ]
    }
   ],
   "source": [
    "!cat ../ProcessedData/1D_16_16_8_Us_1.000000_8.000000_10001_S2.dat"
   ]
  },
  {
   "cell_type": "code",
   "execution_count": 9,
   "metadata": {},
   "outputs": [],
   "source": [
    "# Extrapolated data for β large\n",
    "data = np.loadtxt('../ProcessedData/1D_16_16_8_Us_1.000000_extrapolations_10001_S2.dat')\n",
    "S2s_extrapolated = data[:,1]\n",
    "S2s_extrapolated_err = data[:,2]"
   ]
  },
  {
   "cell_type": "code",
   "execution_count": 10,
   "metadata": {},
   "outputs": [],
   "source": [
    "# N=256 data\n",
    "U = np.array([0.500000,0.730000,1.065800,1.556100,2.272000,3.300000,4.843100,7.071100,10.323900,16.666667, 22.007100, 32.130800,46.911700,68.492100,100.000000])\n",
    "\n",
    "# Simulation extrapolated values for β -> \\infty\n",
    "data = np.loadtxt('../ProcessedData/1D_256_256_128_Us_1.000000_extrapolations_10001_S2.dat')\n",
    "S2s_extrapolated_N256 = data[:,1]\n",
    "S2s_extrapolated_err_N256 = data[:,2]\n"
   ]
  },
  {
   "cell_type": "code",
   "execution_count": 11,
   "metadata": {},
   "outputs": [
    {
     "data": {
      "text/plain": [
       "(15, 15)"
      ]
     },
     "execution_count": 11,
     "metadata": {},
     "output_type": "execute_result"
    }
   ],
   "source": [
    "len(S2s_extrapolated_N256),len(U)"
   ]
  },
  {
   "cell_type": "code",
   "execution_count": 12,
   "metadata": {},
   "outputs": [
    {
     "name": "stderr",
     "output_type": "stream",
     "text": [
      "findfont: Font family ['serif'] not found. Falling back to DejaVu Sans.\n"
     ]
    },
    {
     "data": {
      "image/png": "[encoded data removed]",
      "text/plain": [
       "<Figure size 333.549x206.145 with 2 Axes>"
      ]
     },
     "metadata": {
      "needs_background": "light"
     },
     "output_type": "display_data"
    }
   ],
   "source": [
    "with plt.style.context('../IOP_large.mplstyle'):\n",
    "\n",
    "    # Plot exact data points\n",
    "    fig,ax = plt.subplots(1,2,sharey=True)\n",
    "    ax1=ax[0]\n",
    "    ax2=ax[1]\n",
    "    \n",
    "    ax1.set_xscale(\"log\")\n",
    "    \n",
    "    # Plot exact results\n",
    "    ax1.plot(U_ED,S2_ED,'-k',zorder=-5,label=\"Exact\",color=\"#444444\",mfc=\"None\")\n",
    "    ax1.set_xlabel(r\"$U/t$\")\n",
    "    ax1.set_ylabel(r\"$S_2$\")\n",
    "    ax1.axvline(3.3,zorder=-6,color=\"#cccccc\",ls=\"--\")\n",
    "    # ax1.tick_params(direction='in') # not working in x log scale\n",
    "\n",
    "\n",
    "    # Plot simulation data for β=1.0\n",
    "    ax1.errorbar(U,S2_beta1, yerr=S2_beta1_err, fmt='.', capsize=5,color=colors[0],\n",
    "               mfc=colors_light[0],label=r\"$\\beta=1.0$\",marker='s',zorder=1,alpha=0.50);\n",
    "\n",
    "    # Plot simulation data for β=2.0\n",
    "    ax1.errorbar(U,S2_beta2, yerr=S2_beta2_err, fmt='.', capsize=5,color=colors[1],\n",
    "               mfc=colors_light[1],label=r\"$\\beta=2.0$\",marker='o',zorder=2,alpha=0.50);\n",
    "\n",
    "    # Plot simulation data for β=4.0\n",
    "    ax1.errorbar(U,S2_beta4, yerr=S2_beta4_err, fmt='.', capsize=5,color=colors[2],\n",
    "               mfc=colors_light[2],label=r\"$\\beta=4.0$\",marker='^',zorder=3,alpha=0.50);\n",
    "\n",
    "    # Plot simulation data for β=8.0\n",
    "    ax1.errorbar(U,S2_beta8, yerr=S2_beta8_err, fmt='.', capsize=5,color=colors[3],\n",
    "               mfc=colors_light[3],label=r\"$\\beta=8.0$\",marker='d',zorder=4,alpha=0.50)\n",
    "    \n",
    "    # Plot simulation data for β=large extrapolation\n",
    "    ax1.errorbar(U[0:],S2s_extrapolated, yerr=S2s_extrapolated_err, fmt='.', capsize=5,\n",
    "               label=r\"$\\beta\\to\\infty$\",marker=\".\",zorder=5,color='k',\n",
    "                mfc='gold',ms=8,elinewidth=0.5,mew=0.5)\n",
    "    \n",
    "\n",
    "    # # Set plot limits\n",
    "    ax1.set_xlim(np.min(U_ED)*0.92,np.max(U_ED)*1.08)\n",
    "    \n",
    "    # Set tick parameters\n",
    "    ax1.tick_params(direction='in',which='both')\n",
    "    \n",
    "    # Annotate system information\n",
    "    ax1.annotate(r\"$L=16$\",(0.11+0.03,0.26+0.18),\n",
    "                xycoords='figure fraction',fontsize=10)\n",
    "    ax1.annotate(r\"$N=16$\",(0.11+0.03,0.26+0.11),\n",
    "                xycoords='figure fraction',fontsize=10)\n",
    "    ax1.annotate(r\"$\\ell=8$\",(0.11+0.03,0.26+0.04),\n",
    "                xycoords='figure fraction',fontsize=10)\n",
    "    ax1.annotate(r\"$D=1$\",(0.11+0.03,0.26-0.03),\n",
    "                xycoords='figure fraction',fontsize=10)\n",
    "    \n",
    "    # Set legend\n",
    "    ax1.legend()\n",
    "    \n",
    "    #Legend\n",
    "    lgnd = ax1.legend(loc=(0.57,0.28+0.05), fontsize=10, handlelength=0.8,handleheight=1.5,title=r'',frameon=False)\n",
    "    lgnd.get_title().set_fontsize(10)\n",
    "    lgnd.get_title().set_position((2.13,-1))\n",
    "    \n",
    "    #Legend\n",
    "#     lgnd = plt.legend(loc=(0.0,0.0), fontsize=10, handlelength=0,handleheight=1.5,title=r'',frameon=False)\n",
    "#     lgnd.get_title().set_fontsize(10)\n",
    "#     lgnd.get_title().set_position((2.13,-1))\n",
    "    \n",
    "    # N=256 sweep\n",
    "    \n",
    "    ax2.set_xscale(\"log\")\n",
    "    ax2.set_xlabel(r\"$U/t$\")\n",
    "    ax2.set_ylabel(r\"\")\n",
    "    ax2.axvline(3.3,zorder=-6,color=\"#cccccc\",ls=\"--\")\n",
    "\n",
    "    # ---------- Bottom Plot ------------- #\n",
    "    # Plot simulation data for β=large extrapolation\n",
    "    ax2.errorbar(U,S2s_extrapolated_N256, yerr=S2s_extrapolated_err_N256, fmt='.', capsize=5,\n",
    "               label=r\"$\\beta\\to\\infty$\",marker=\".\",zorder=5,color='k',\n",
    "                mfc='gold',ms=8,mew=0.5,elinewidth=0.5)\n",
    "\n",
    "    # # Set plot limits\n",
    "    ax2.set_xlim(np.min(U)*0.92,np.max(U)*1.08)\n",
    "    # ax2.set_ylim(np.min(S2_beta4)*0.00,np.max(S2_beta1)*1.05);\n",
    "    \n",
    "    # Set tick parameters\n",
    "    ax2.tick_params(direction='in',which='both')\n",
    "    \n",
    "    # Adjust vertical space between subplots\n",
    "    fig.subplots_adjust(wspace=0.023)\n",
    "    \n",
    "    # Annotate system information\n",
    "    ax2.annotate(r\"$L=256$\",(0.55+0.02,0.26+0.18),\n",
    "                xycoords='figure fraction',fontsize=10)\n",
    "    ax2.annotate(r\"$N=256$\",(0.55+0.02,0.26+0.11),\n",
    "                xycoords='figure fraction',fontsize=10)\n",
    "    ax2.annotate(r\"$\\ell=128$\",(0.55+0.02,0.26+0.04),\n",
    "                xycoords='figure fraction',fontsize=10)\n",
    "    ax2.annotate(r\"$D=1$\",(0.55+0.02,0.26-0.03),\n",
    "                xycoords='figure fraction',fontsize=10)\n",
    "    \n",
    "    # Set legend\n",
    "    ax2.legend();\n",
    "\n",
    "    #Legend\n",
    "    lgnd = ax2.legend(loc=(0.57,0.81+0.05), fontsize=10, handlelength=0.8,handleheight=1.5,title=r'',frameon=False)\n",
    "    lgnd.get_title().set_fontsize(10)\n",
    "#     lgnd.get_title().set_position((2.13,-1))\n",
    "\n",
    "    # Save figure\n",
    "    plt.savefig(\"../figures/interactionStrengthSweep_N16N256.pdf\",dpi=300)\n",
    "    plt.savefig(\"../figures/interactionStrengthSweep_N16N256.svg\",dpi=300)\n",
    "    \n",
    "    # Save to paper repo\n",
    "    plt.savefig(\"/Users/ecasiano/Desktop/papers-latticepigs/Figures/interactionStrengthSweep_N16N256.pdf\",dpi=400)\n",
    "    plt.savefig(\"/Users/ecasiano/Desktop/papers-latticepigs/Figures/interactionStrengthSweep_N16N256.svg\",dpi=400)"
   ]
  },
  {
   "cell_type": "code",
   "execution_count": 13,
   "metadata": {},
   "outputs": [],
   "source": [
    "# Compare extrapolation with exact values"
   ]
  },
  {
   "cell_type": "code",
   "execution_count": 14,
   "metadata": {},
   "outputs": [],
   "source": [
    "data_ED = np.loadtxt(\"/Users/ecasiano/Desktop/PaperData/PaperData/EDSweep/spatEE_gs_16_16_08.dat\")\n",
    "S2_ED = data_ED[:,4]\n",
    "U_ED = data_ED[:,0]"
   ]
  },
  {
   "cell_type": "code",
   "execution_count": 15,
   "metadata": {},
   "outputs": [
    {
     "name": "stdout",
     "output_type": "stream",
     "text": [
      "U/t        S2 (exact)  S2 (extrapolated)  σ            (N=16)\n",
      "0.500000   1.6187      1.6203 +/- 0.0049  0.3292σ\n",
      "0.730000   1.5642      1.5634 +/- 0.0030  0.2596σ\n",
      "1.065800   1.5043      1.5057 +/- 0.0028  0.4945σ\n",
      "1.556100   1.4361      1.4376 +/- 0.0024  0.6223σ\n",
      "2.272000   1.3524      1.3511 +/- 0.0034  0.3624σ\n",
      "3.300000   1.2267      1.2249 +/- 0.0022  0.8069σ\n"
     ]
    }
   ],
   "source": [
    "# Test extrapolation for N=16\n",
    "\n",
    "S2_ED = data_ED[:,4][0:6]\n",
    "S2s_extrapolated = np.array([1.6203046051671894, 1.563381907027884, 1.505657820410446, 1.4375845024948415, 1.3511187020721573, 1.2248893747838085])\n",
    "S2s_extrapolated_err = np.array([0.004851857569332986, 0.0029968310575077092, 0.0027976247959600985, 0.002380777626535738, 0.003446337868204126, 0.0022369830087609773])\n",
    "print(\"U/t        S2 (exact)  S2 (extrapolated)  σ            (N=16)\")\n",
    "for i,u in enumerate(U[0:6]):\n",
    "    rel_err = np.abs((S2s_extrapolated[i]-S2_ED[i])/S2_ED[i])\n",
    "    print(f\"{u:0.6f}   {S2_ED[i]:0.4f}      {S2s_extrapolated[i]:0.4f} +/- {S2s_extrapolated_err[i]:0.4f}  {np.abs(S2s_extrapolated[i]-S2_ED[i])/S2s_extrapolated_err[i]:0.4f}σ\")\n",
    "\n",
    "\n"
   ]
  },
  {
   "cell_type": "code",
   "execution_count": null,
   "metadata": {},
   "outputs": [],
   "source": []
  },
  {
   "cell_type": "code",
   "execution_count": null,
   "metadata": {},
   "outputs": [],
   "source": []
  }
 ],
 "metadata": {
  "kernelspec": {
   "display_name": "Python 3",
   "language": "python",
   "name": "python3"
  },
  "language_info": {
   "codemirror_mode": {
    "name": "ipython",
    "version": 3
   },
   "file_extension": ".py",
   "mimetype": "text/x-python",
   "name": "python",
   "nbconvert_exporter": "python",
   "pygments_lexer": "ipython3",
   "version": "3.8.5"
  }
 },
 "nbformat": 4,
 "nbformat_minor": 4
}
