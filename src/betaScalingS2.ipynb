{
 "cells": [
  {
   "cell_type": "code",
   "execution_count": 5,
   "metadata": {},
   "outputs": [],
   "source": [
    "import numpy as np\n",
    "import matplotlib.pyplot as plt\n",
    "import scipy \n",
    "from scipy import optimize"
   ]
  },
  {
   "cell_type": "code",
   "execution_count": 6,
   "metadata": {},
   "outputs": [],
   "source": [
    "colors = ['salmon','dodgerblue','mediumseagreen']\n",
    "colors = ['#FFA0A0','#1e90ff','#3cb371']\n",
    "colors_light = ['#FFEDED','#6BDDFF','#89FFBE']"
   ]
  },
  {
   "cell_type": "markdown",
   "metadata": {},
   "source": [
    "# N=8"
   ]
  },
  {
   "cell_type": "code",
   "execution_count": 7,
   "metadata": {},
   "outputs": [],
   "source": [
    "# Exact S2 from ED\n",
    "S2_SF_exact = 1.4313869097241088   # U/t=0.5\n",
    "S2_PT_exact = 1.0487557642692404    # U/t=3.3\n",
    "S2_MOTT_exact = 0.17456996234330271  # U/t=10.0"
   ]
  },
  {
   "cell_type": "code",
   "execution_count": 8,
   "metadata": {},
   "outputs": [],
   "source": [
    "# U/t=0.5\n",
    "data_SF = np.loadtxt('../ProcessedData/1D_8_8_4_0.500000_1.000000_betas_10000_S2.dat')\n",
    "betas = data_SF[:,0]\n",
    "S2_SF = data_SF[:,1]\n",
    "S2_SF_err = data_SF[:,2]\n",
    "\n",
    "# Calculate relative error between exact and estimate S2\n",
    "S2_SF_relErr = np.abs((S2_SF-S2_SF_exact)/S2_SF_exact)\n",
    "S2_SF_relErr_err = np.abs(S2_SF_err / S2_SF_exact)\n",
    "\n",
    "# U/t=3.3\n",
    "data_PT = np.loadtxt('../ProcessedData/1D_8_8_4_3.300000_1.000000_betas_10000_S2.dat')\n",
    "betas = data_PT[:,0]\n",
    "S2_PT = data_PT[:,1]\n",
    "S2_PT_err = data_PT[:,2]\n",
    "\n",
    "# Calculate relative error between exact and estimate S2\n",
    "S2_PT_relErr = np.abs((S2_PT-S2_PT_exact)/S2_PT_exact)\n",
    "S2_PT_relErr_err = np.abs(S2_PT_err / S2_PT_exact)\n",
    "\n",
    "# U/t=10.0\n",
    "data_MOTT = np.loadtxt('../ProcessedData/1D_8_8_4_10.000000_1.000000_betas_10000_S2.dat')\n",
    "betas = data_MOTT[:,0]\n",
    "S2_MOTT = data_MOTT[:,1]\n",
    "S2_MOTT_err = data_MOTT[:,2]\n",
    "\n",
    "# Calculate relative error between exact and estimate S2\n",
    "S2_MOTT_relErr = np.abs((S2_MOTT-S2_MOTT_exact)/S2_MOTT_exact)\n",
    "S2_MOTT_relErr_err = np.abs(S2_MOTT_err / S2_MOTT_exact)"
   ]
  },
  {
   "cell_type": "code",
   "execution_count": 9,
   "metadata": {},
   "outputs": [
    {
     "name": "stdout",
     "output_type": "stream",
     "text": [
      "MOTT exponent:   3.0040 +/- 0.0436\n",
      "MOTT pre-factor: 9.7479 +/- 0.6640 \n",
      "\n",
      "PT exponent:     1.5109 +/- 0.0060\n",
      "PT pre-factor:   0.5015 +/- 0.0072 \n",
      "\n",
      "SF exponent:     0.9493 +/- 0.0028\n",
      "SF pre-factor:   0.2677 +/- 0.0017 \n",
      "\n"
     ]
    },
    {
     "name": "stderr",
     "output_type": "stream",
     "text": [
      "findfont: Font family ['serif'] not found. Falling back to DejaVu Sans.\n"
     ]
    },
    {
     "data": {
      "image/png": "[encoded data removed]",
      "text/plain": [
       "<Figure size 333.549x206.145 with 1 Axes>"
      ]
     },
     "metadata": {
      "needs_background": "light"
     },
     "output_type": "display_data"
    }
   ],
   "source": [
    "with plt.style.context('../IOP_large.mplstyle'):\n",
    "\n",
    "    fig,ax1 = plt.subplots()\n",
    "    ax1.set_yscale(\"log\")\n",
    "\n",
    "\n",
    "    # U/t=10.0\n",
    "    ax1.errorbar(betas,S2_MOTT_relErr, yerr=S2_MOTT_relErr_err, fmt='.', capsize=5,\n",
    "                label=r'$U/t=10.0$',color=colors[0],mfc=colors_light[0],marker='s',zorder=1)\n",
    "    # U/t=3.3\n",
    "    ax1.errorbar(betas,S2_PT_relErr, yerr=S2_PT_relErr_err, fmt='.', capsize=5,\n",
    "                label=r'$U/t=3.3$',color=colors[1],mfc=colors_light[1],marker='o',zorder=2)\n",
    "    # U/t=0.5\n",
    "    ax1.errorbar(betas,S2_SF_relErr, yerr=S2_SF_relErr_err, fmt='.', capsize=5,\n",
    "                label=r'$U/t=0.5$',color=colors[2],mfc=colors_light[2],marker='^',zorder=3)\n",
    "    \n",
    "    # Perform single exponential fits\n",
    "    def exponential(x, c1, c2):\n",
    "        return c1*np.exp(-x*c2)\n",
    "    \n",
    "\n",
    "    # U/t=10.0\n",
    "    popt_exponential, pcov_exponential = scipy.optimize.curve_fit(exponential,\n",
    "                                                              betas[7:-2], \n",
    "                                                              S2_MOTT_relErr[7:-2],\n",
    "                                                              sigma=S2_MOTT_relErr_err[7:-2],\n",
    "                                                              p0=[1,1])\n",
    "    # Extract fit parameters and their error\n",
    "    c1,c2 = popt_exponential\n",
    "    c1_err,c2_err = np.sqrt(np.diag(pcov_exponential))   \n",
    "    \n",
    "    print(\"MOTT exponent:   %.4f +/- %.4f\"%(c2,c2_err))\n",
    "    print(\"MOTT pre-factor: %.4f +/- %.4f\"%(c1,c1_err),\"\\n\")\n",
    "    betas_fit = np.linspace(betas[7],betas[-3],1000)\n",
    "    y_fit = c1*np.exp(-betas_fit*c2)\n",
    "    ax1.plot(betas_fit,y_fit,color=colors[0],zorder=0)\n",
    "\n",
    "    ax1.set_ylabel(r'$\\rm{Relative} \\; \\rm{Error} \\; \\langle S_2 \\rangle$')\n",
    "    ax1.set_xlabel(r'$\\beta$')\n",
    "    ax1.axhline(0,color=\"#888888\",zorder=-1)\n",
    "    ax1.set_xlim(betas[0]-0.01*betas[0],betas[-1]+0.01*betas[-1])\n",
    "    ax1.tick_params(direction='in')\n",
    "    \n",
    "    # U/t=3.3\n",
    "    popt_exponential, pcov_exponential = scipy.optimize.curve_fit(exponential,\n",
    "                                                              betas[9:], \n",
    "                                                              S2_PT_relErr[9:],\n",
    "                                                              sigma=S2_PT_relErr_err[9:],\n",
    "                                                              p0=[1,1])\n",
    "    \n",
    "    # Extract fit parameters and their error\n",
    "    c1,c2 = popt_exponential\n",
    "    c1_err,c2_err = np.sqrt(np.diag(pcov_exponential)) \n",
    "    \n",
    "    print(\"PT exponent:     %.4f +/- %.4f\"%(c2,c2_err))\n",
    "    print(\"PT pre-factor:   %.4f +/- %.4f\"%(c1,c1_err),\"\\n\")\n",
    "\n",
    "    betas_fit = np.linspace(betas[9],4.0,1000)\n",
    "    y_fit = c1*np.exp(-betas_fit*c2)\n",
    "    ax1.plot(betas_fit,y_fit,color=colors[1],zorder=0)\n",
    "\n",
    "    ax1.set_ylabel(r'$\\rm{Relative} \\; \\rm{Error} \\; \\langle S_2 \\rangle$')\n",
    "    ax1.set_xlabel(r'$\\beta$')\n",
    "    ax1.axhline(0,color=\"#888888\",zorder=-1)\n",
    "    ax1.set_xlim(betas[0]-0.01*betas[0],betas[-1]+0.01*betas[-1])\n",
    "    ax1.tick_params(direction='in')\n",
    "    \n",
    "    # U/t=0.5\n",
    "    popt_exponential, pcov_exponential = scipy.optimize.curve_fit(exponential,\n",
    "                                                              betas[9:], \n",
    "                                                              S2_SF_relErr[9:],\n",
    "                                                              sigma=S2_SF_relErr_err[9:],\n",
    "                                                              p0=[1,1])\n",
    "    \n",
    "    # Extract fit parameters and their error\n",
    "    c1,c2 = popt_exponential\n",
    "    c1_err,c2_err = np.sqrt(np.diag(pcov_exponential))   \n",
    "    \n",
    "    print(\"SF exponent:     %.4f +/- %.4f\"%(c2,c2_err))\n",
    "    print(\"SF pre-factor:   %.4f +/- %.4f\"%(c1,c1_err),\"\\n\")\n",
    "\n",
    "    betas_fit = np.linspace(betas[9],4.0,1000)\n",
    "    y_fit = c1*np.exp(-betas_fit*c2)\n",
    "    ax1.plot(betas_fit,y_fit,color=colors[2],zorder=0)\n",
    "\n",
    "    ax1.set_ylabel(r'$\\rm{Relative} \\; \\rm{Error} \\; \\langle S_2 \\rangle$')\n",
    "    ax1.set_xlabel(r'$\\beta$')\n",
    "    ax1.axhline(0,color=\"#888888\",zorder=-1)\n",
    "    ax1.set_xlim(betas[0]-0.01*betas[0],betas[-1]+0.01*betas[-1])\n",
    "    ax1.tick_params(direction='in')\n",
    "\n",
    "    # Set plot limits\n",
    "    ax1.set_xlim(np.min(betas)*0.99,np.max(betas)*1.03)\n",
    "\n",
    "    # Annotate system information\n",
    "    ax1.annotate(r\"$M=8$\",(0.22,0.60-.05),\n",
    "                xycoords='figure fraction')\n",
    "    ax1.annotate(r\"$N=8$\",(0.22,0.60-.15),\n",
    "                xycoords='figure fraction')\n",
    "    ax1.annotate(r\"$\\ell=4$\",(0.22,0.60-.25),\n",
    "                xycoords='figure fraction')\n",
    "    ax1.annotate(r\"$D=1$\",(0.22,0.60-.35),\n",
    "                xycoords='figure fraction')\n",
    "    \n",
    "    # Set tick parameters\n",
    "    ax1.tick_params(direction='in',which='both')\n",
    "\n",
    "    # Set legend\n",
    "    plt.legend(frameon=False)\n",
    "\n",
    "    # Save figure\n",
    "    plt.savefig(\"/Users/ecasiano/Desktop/papers-latticepigs/Figures/relativeErrorsS2_N8.pdf\",dpi=400)\n",
    "    plt.savefig(\"/Users/ecasiano/Desktop/papers-latticepigs/Figures/relativeErrorsS2_N8.svg\",dpi=400)\n",
    "    plt.show()"
   ]
  },
  {
   "cell_type": "code",
   "execution_count": null,
   "metadata": {},
   "outputs": [],
   "source": []
  },
  {
   "cell_type": "code",
   "execution_count": null,
   "metadata": {},
   "outputs": [],
   "source": []
  },
  {
   "cell_type": "code",
   "execution_count": null,
   "metadata": {},
   "outputs": [],
   "source": []
  },
  {
   "cell_type": "code",
   "execution_count": null,
   "metadata": {},
   "outputs": [],
   "source": []
  }
 ],
 "metadata": {
  "kernelspec": {
   "display_name": "Python 3",
   "language": "python",
   "name": "python3"
  },
  "language_info": {
   "codemirror_mode": {
    "name": "ipython",
    "version": 3
   },
   "file_extension": ".py",
   "mimetype": "text/x-python",
   "name": "python",
   "nbconvert_exporter": "python",
   "pygments_lexer": "ipython3",
   "version": "3.8.5"
  }
 },
 "nbformat": 4,
 "nbformat_minor": 4
}
