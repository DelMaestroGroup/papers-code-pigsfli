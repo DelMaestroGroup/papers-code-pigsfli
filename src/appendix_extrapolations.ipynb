{
 "cells": [
  {
   "cell_type": "markdown",
   "metadata": {},
   "source": [
    "### 3-parameter exponential fitted $\\beta$-scaling"
   ]
  },
  {
   "cell_type": "markdown",
   "metadata": {},
   "source": [
    "Want to fit observable data as a function of $\\beta$ to the form:\n",
    "$$\n",
    "\\mathcal{O}(\\beta) = \\mathcal{O}_{\\beta\\to\\infty} + C_1 e^{-C_2 \\beta}\n",
    "$$"
   ]
  },
  {
   "cell_type": "markdown",
   "metadata": {},
   "source": [
    "where $\\mathcal{O}_{\\beta\\to\\infty}$,$C_1$, and $C_2$ are fitting parameters. The $\\mathcal{O}_{\\beta\\to\\infty}$ parameter will give a large $\\beta$ extrapolation of the observable in question. Here, we will focus on the second Rényi entanglement entropy $S_2$."
   ]
  },
  {
   "cell_type": "code",
   "execution_count": 1,
   "metadata": {},
   "outputs": [],
   "source": [
    "import numpy as np\n",
    "import matplotlib.pyplot as plt\n",
    "import scipy \n",
    "from scipy import optimize"
   ]
  },
  {
   "cell_type": "markdown",
   "metadata": {},
   "source": [
    "Define the exponential model"
   ]
  },
  {
   "cell_type": "code",
   "execution_count": 2,
   "metadata": {},
   "outputs": [],
   "source": [
    "def exponential(x, c1, c2, c3):\n",
    "    return c3 + c1*np.exp(-x*c2)"
   ]
  },
  {
   "cell_type": "code",
   "execution_count": 3,
   "metadata": {},
   "outputs": [],
   "source": [
    "# Array where extrapolated S2s will be saved to\n",
    "extrapolated_S2s = np.zeros(15)\n",
    "extrapolated_S2s_err = np.zeros(15)"
   ]
  },
  {
   "cell_type": "markdown",
   "metadata": {},
   "source": [
    "Feed data points (obtained from a separate script)"
   ]
  },
  {
   "cell_type": "code",
   "execution_count": 4,
   "metadata": {},
   "outputs": [],
   "source": [
    "U_list = np.array([0.500000,\n",
    "                0.730000,\n",
    "                1.065800,\n",
    "                1.556100, \n",
    "                2.272000, \n",
    "                3.300000, \n",
    "                4.843100, \n",
    "                7.071100,   \n",
    "                10.323900,\n",
    "                16.666667, \n",
    "                22.007100, \n",
    "                32.130800,\n",
    "                46.911700,\n",
    "                68.492100,\n",
    "                100.000000])"
   ]
  },
  {
   "cell_type": "code",
   "execution_count": null,
   "metadata": {},
   "outputs": [],
   "source": [
    "# Define data points\n",
    "betas = np.array([1,2,4,6,8,10,12]) # betas"
   ]
  },
  {
   "cell_type": "code",
   "execution_count": null,
   "metadata": {},
   "outputs": [],
   "source": [
    "# Initialize arrays that will store S2 data (rows: betas, columns: U)\n",
    "data = np.ones((betas.size,15))\n",
    "data[0] = np.loadtxt(\"../ProcessedData/1D_16_16_8_Us_1.000000_1.000000_10000_S2.dat\")[:,1]\n",
    "data[1] = np.loadtxt(\"../ProcessedData/1D_16_16_8_Us_1.000000_2.000000_10001_S2.dat\")[:,1]\n",
    "data[2] = np.loadtxt(\"../ProcessedData/1D_16_16_8_Us_1.000000_4.000000_10001_S2.dat\")[:,1]\n",
    "data[3] = np.loadtxt(\"../ProcessedData/1D_16_16_8_Us_1.000000_6.000000_10001_S2.dat\")[:,1]\n",
    "data[4] = np.loadtxt(\"../ProcessedData/1D_16_16_8_Us_1.000000_8.000000_10001_S2.dat\")[:,1]\n",
    "data[5] = np.loadtxt(\"../ProcessedData/1D_16_16_8_Us_1.000000_10.000000_10001_S2.dat\")[:,1]\n",
    "data[6] = np.loadtxt(\"../ProcessedData/1D_16_16_8_Us_1.000000_12.000000_10001_S2.dat\")[:,1]\n",
    "\n",
    "errs = np.ones((betas.size,15))\n",
    "errs[0] = np.loadtxt(\"../ProcessedData/1D_16_16_8_Us_1.000000_1.000000_10000_S2.dat\")[:,2]\n",
    "errs[1] = np.loadtxt(\"../ProcessedData/1D_16_16_8_Us_1.000000_2.000000_10001_S2.dat\")[:,2]\n",
    "errs[2] = np.loadtxt(\"../ProcessedData/1D_16_16_8_Us_1.000000_4.000000_10001_S2.dat\")[:,2]\n",
    "errs[3] = np.loadtxt(\"../ProcessedData/1D_16_16_8_Us_1.000000_6.000000_10001_S2.dat\")[:,2]\n",
    "errs[4] = np.loadtxt(\"../ProcessedData/1D_16_16_8_Us_1.000000_8.000000_10001_S2.dat\")[:,2]\n",
    "errs[5] = np.loadtxt(\"../ProcessedData/1D_16_16_8_Us_1.000000_10.000000_10001_S2.dat\")[:,2]\n",
    "errs[6] = np.loadtxt(\"../ProcessedData/1D_16_16_8_Us_1.000000_12.000000_10001_S2.dat\")[:,2]"
   ]
  },
  {
   "cell_type": "code",
   "execution_count": 6,
   "metadata": {},
   "outputs": [
    {
     "data": {
      "image/png": "[encoded data removed]",
      "text/plain": [
       "<Figure size 432x288 with 1 Axes>"
      ]
     },
     "metadata": {
      "needs_background": "light"
     },
     "output_type": "display_data"
    }
   ],
   "source": [
    "# Plot exact data points\n",
    "fig,ax = plt.subplots(1,1)"
   ]
  },
  {
   "cell_type": "code",
   "execution_count": 141,
   "metadata": {},
   "outputs": [
    {
     "name": "stdout",
     "output_type": "stream",
     "text": [
      "S2 (extrapolated) \n",
      "\n",
      "1.352709 +/- 0.002613\n"
     ]
    },
    {
     "data": {
      "image/png": "[encoded data removed]",
      "text/plain": [
       "<Figure size 333.549x206.145 with 1 Axes>"
      ]
     },
     "metadata": {
      "needs_background": "light"
     },
     "output_type": "display_data"
    }
   ],
   "source": [
    "with plt.style.context('../IOP_large.mplstyle'):\n",
    "\n",
    "    # Obtained with entanglement_combiner.py for betas\n",
    "    U = 0.500000\n",
    "    y_array_exp = data[:,0]\n",
    "    sigmas = errs[:,0]\n",
    "\n",
    "    # Perform 3-parameter exponential fit\n",
    "    popt_exponential, pcov_exponential = scipy.optimize.curve_fit(exponential, betas[0:], y_array_exp[0:],sigma=sigmas[0:],p0=[0.9,0.1,y_array_exp[-1]])\n",
    "\n",
    "    # Extract fit parameters\n",
    "    c1,c2,c3 = popt_exponential\n",
    "    c3_err = np.sqrt(np.diag(pcov_exponential)[2])\n",
    "\n",
    "    extrapolated_S2s[0] = c3\n",
    "    extrapolated_S2s_err[0] = c3_err\n",
    "\n",
    "    # Perform the fit\n",
    "    betas_fit = np.linspace(min(betas),max(betas)*1,1000)\n",
    "    y_fit = exponential(betas_fit,c1,c2,c3)\n",
    "\n",
    "    plt.plot(betas_fit,y_fit,label=None,alpha=1.0)\n",
    "    plt.errorbar(betas,y_array_exp, yerr=sigmas,color='tab:blue',marker='o',label=r'$U/t=%.2f$'%0.5,fmt='.',\n",
    "                capsize=5,mfc='lightblue')\n",
    "    plt.axhline(1.6187,color='tab:blue',alpha=0.3,ls='--',zorder=-2)\n",
    "\n",
    "    U = 0.730000\n",
    "    y_array_exp = data[:,1]\n",
    "    sigmas = errs[:,1]\n",
    "\n",
    "    # Perform 3-parameter exponential fit\n",
    "    popt_exponential, pcov_exponential = scipy.optimize.curve_fit(exponential, betas[0:], y_array_exp[0:],sigma=sigmas[0:],p0=[0.9,0.1,y_array_exp[-1]])\n",
    "\n",
    "    # Extract fit parameters\n",
    "    c1,c2,c3 = popt_exponential\n",
    "    c3_err = np.sqrt(np.diag(pcov_exponential)[2])\n",
    "\n",
    "    extrapolated_S2s[1] = c3\n",
    "    extrapolated_S2s_err[1] = c3_err\n",
    "\n",
    "    # Perform the fit\n",
    "    betas_fit = np.linspace(min(betas),max(betas)*1,1000)\n",
    "    y_fit = exponential(betas_fit,c1,c2,c3)\n",
    "\n",
    "    plt.plot(betas_fit,y_fit,label=None,alpha=1.0)\n",
    "    plt.errorbar(betas,y_array_exp, yerr=sigmas,color='tab:orange',marker='s',label=r'$U/t=%.2f$'%0.73,fmt='.',\n",
    "                capsize=5,mfc='peachpuff')\n",
    "    plt.axhline(1.5642,color='tab:orange',alpha=0.3,ls='--',zorder=-2)\n",
    "\n",
    "    U = 1.0658\n",
    "    y_array_exp = data[:,2]\n",
    "    sigmas = errs[:,2]\n",
    "\n",
    "    # Perform 3-parameter exponential fit\n",
    "    popt_exponential, pcov_exponential = scipy.optimize.curve_fit(exponential, betas[0:], y_array_exp[0:],sigma=sigmas[0:],p0=[0.9,0.1,y_array_exp[-1]])\n",
    "\n",
    "    # Extract fit parameters\n",
    "    c1,c2,c3 = popt_exponential\n",
    "    c3_err = np.sqrt(np.diag(pcov_exponential)[2])\n",
    "\n",
    "    extrapolated_S2s[2] = c3\n",
    "    extrapolated_S2s_err[2] = c3_err\n",
    "\n",
    "    # Perform the fit\n",
    "    betas_fit = np.linspace(min(betas),max(betas)*1,1000)\n",
    "    y_fit = exponential(betas_fit,c1,c2,c3)\n",
    "\n",
    "    plt.plot(betas_fit,y_fit,label=None,alpha=1.0)\n",
    "    plt.errorbar(betas,y_array_exp, yerr=sigmas,color='tab:green',marker='^',label=r'$U/t=1.07$',fmt='.',\n",
    "                capsize=5,mfc='honeydew')\n",
    "    plt.axhline(1.5043,color='tab:green',alpha=0.3,ls='--',zorder=-2)\n",
    "\n",
    "    U = 1.5561\n",
    "    y_array_exp = data[:,3]\n",
    "    sigmas = errs[:,3]\n",
    "\n",
    "    # Perform 3-parameter exponential fit\n",
    "    popt_exponential, pcov_exponential = scipy.optimize.curve_fit(exponential, betas[0:], y_array_exp[0:],sigma=sigmas[0:],p0=[0.9,0.1,y_array_exp[-1]])\n",
    "\n",
    "    # Extract fit parameters\n",
    "    c1,c2,c3 = popt_exponential\n",
    "    c3_err = np.sqrt(np.diag(pcov_exponential)[2])\n",
    "\n",
    "    extrapolated_S2s[3] = c3\n",
    "    extrapolated_S2s_err[3] = c3_err\n",
    "\n",
    "    # Perform the fit\n",
    "    betas_fit = np.linspace(min(betas),max(betas)*1,1000)\n",
    "    y_fit = exponential(betas_fit,c1,c2,c3)\n",
    "\n",
    "    plt.plot(betas_fit,y_fit,label=None,alpha=1.0)\n",
    "    plt.errorbar(betas,y_array_exp, yerr=sigmas,color='tab:red',marker='d',label=r'$U/t=1.56$',fmt='.',\n",
    "                capsize=5,mfc='mistyrose')\n",
    "    plt.axhline(1.4361,color='tab:red',alpha=0.3,ls='--',zorder=-2)\n",
    "\n",
    "    U = 2.272\n",
    "    y_array_exp = data[:,4]\n",
    "    sigmas = errs[:,4]\n",
    "\n",
    "    # Perform 3-parameter exponential fit\n",
    "    popt_exponential, pcov_exponential = scipy.optimize.curve_fit(exponential, betas[0:], y_array_exp[0:],sigma=sigmas[0:],p0=[0.9,0.1,y_array_exp[-1]])\n",
    "\n",
    "    # Extract fit parameters\n",
    "    c1,c2,c3 = popt_exponential\n",
    "    c3_err = np.sqrt(np.diag(pcov_exponential)[2])\n",
    "\n",
    "    extrapolated_S2s[4] = c3\n",
    "    extrapolated_S2s_err[4] = c3_err\n",
    "\n",
    "    # Perform the fit\n",
    "    betas_fit = np.linspace(min(betas),max(betas)*1,1000)\n",
    "    y_fit = exponential(betas_fit,c1,c2,c3)\n",
    "\n",
    "    plt.plot(betas_fit,y_fit,label=None,alpha=1.0)\n",
    "    plt.errorbar(betas,y_array_exp, yerr=sigmas,color='tab:purple',marker='8',label=r'$U/t=2.27$',fmt='.',\n",
    "                capsize=5,mfc='lavenderblush')\n",
    "    plt.axhline(1.3524,color='tab:purple',alpha=0.3,ls='--',zorder=-2)\n",
    "\n",
    "    # U = 3.3\n",
    "    # y_array_exp = data[:,5]\n",
    "    # sigmas = errs[:,5]\n",
    "\n",
    "    # # Perform 3-parameter exponential fit\n",
    "    # popt_exponential, pcov_exponential = scipy.optimize.curve_fit(exponential, betas[0:], y_array_exp[0:],sigma=sigmas[0:],p0=[0.9,0.1,y_array_exp[-1]])\n",
    "\n",
    "    # # Extract fit parameters\n",
    "    # c1,c2,c3 = popt_exponential\n",
    "    # c3_err = np.sqrt(np.diag(pcov_exponential)[2])\n",
    "\n",
    "    # extrapolated_S2s[5] = c3\n",
    "    # extrapolated_S2s_err[5] = c3_err\n",
    "\n",
    "    # # Perform the fit\n",
    "    # betas_fit = np.linspace(min(betas),max(betas)*1,1000)\n",
    "    # y_fit = exponential(betas_fit,c1,c2,c3)\n",
    "\n",
    "    # plt.plot(betas_fit,y_fit,label=None)\n",
    "    # plt.errorbar(betas,y_array_exp, yerr=sigmas,color='red',marker='o',label=r'$U/t=$',fmt='.',\n",
    "    #             capsize=5)\n",
    "\n",
    "    plt.legend(frameon=False,ncol=1,handlelength=0.5,handleheight=0.01,\n",
    "              labelspacing=0.14,loc=(0.69,0.5))\n",
    "\n",
    "    plt.ylabel(r'$S_2(\\rho_A)$')\n",
    "    plt.xlabel(r'$\\beta$')\n",
    "    \n",
    "    plt.xlim(betas[0]-0.2,betas[-1]+0.2)\n",
    "    \n",
    "    plt.tick_params(direction='in',which='both')\n",
    "    \n",
    "    plt.annotate(r'$L=16$',(0.20+0.05,0.85+0.023),xycoords='figure fraction',fontsize=12)\n",
    "    plt.annotate(r'$N=16$',(0.35+0.05,0.85+0.023),xycoords='figure fraction',fontsize=12)\n",
    "    plt.annotate(r'$\\ell=8$',(0.50+0.05,0.85+0.023),xycoords='figure fraction',fontsize=12)\n",
    "\n",
    "    plt.savefig(\"../figures/appendix_extrapolations.pdf\",dpi=300)\n",
    "    plt.savefig(\"/Users/ecasiano/Desktop/papers-latticepigs/figures/appendix_extrapolations.pdf\",dpi=300)\n",
    "\n",
    "\n",
    "print(\"S2 (extrapolated) \\n\")\n",
    "print(f\"{c3:0.6f} +/- {c3_err:0.6f}\")"
   ]
  },
  {
   "cell_type": "code",
   "execution_count": null,
   "metadata": {},
   "outputs": [],
   "source": []
  },
  {
   "cell_type": "code",
   "execution_count": 70,
   "metadata": {},
   "outputs": [
    {
     "name": "stdout",
     "output_type": "stream",
     "text": [
      "S2 (extrapolated) \n",
      "\n",
      "1.569059 +/- 0.001145\n"
     ]
    },
    {
     "data": {
      "image/png": "[encoded data removed]",
      "text/plain": [
       "<Figure size 432x288 with 1 Axes>"
      ]
     },
     "metadata": {
      "needs_background": "light"
     },
     "output_type": "display_data"
    }
   ],
   "source": [
    "# Obtained with entanglement_combiner.py for betas\n",
    "U = 0.730000\n",
    "y_array_exp = data[:,1]\n",
    "sigmas = errs[:,1]\n",
    "\n",
    "# Perform 3-parameter exponential fit\n",
    "popt_exponential, pcov_exponential = scipy.optimize.curve_fit(exponential, betas[0:], y_array_exp[0:],sigma=sigmas[0:],p0=[0.9,0.1,y_array_exp[-1]])\n",
    "\n",
    "# Extract fit parameters\n",
    "c1,c2,c3 = popt_exponential\n",
    "c3_err = np.sqrt(np.diag(pcov_exponential)[2])\n",
    "\n",
    "extrapolated_S2s[1] = c3\n",
    "extrapolated_S2s_err[1] = c3_err\n",
    "\n",
    "# Perform the fit\n",
    "betas_fit = np.linspace(min(betas),max(betas)*1,1000)\n",
    "y_fit = exponential(betas_fit,c1,c2,c3)\n",
    "\n",
    "plt.plot(betas_fit,y_fit,label='fit')\n",
    "plt.errorbar(betas,y_array_exp, yerr=sigmas,color='red',marker='o',label='data',fmt='.',\n",
    "            capsize=5)\n",
    "plt.ylabel(r\"$S_2$\")\n",
    "plt.xlabel(r\"$\\beta$\")\n",
    "plt.legend(frameon=False);\n",
    "\n",
    "print(\"S2 (extrapolated) \\n\")\n",
    "print(f\"{c3:0.6f} +/- {c3_err:0.6f}\")"
   ]
  },
  {
   "cell_type": "code",
   "execution_count": 36,
   "metadata": {},
   "outputs": [
    {
     "name": "stdout",
     "output_type": "stream",
     "text": [
      "S2 (extrapolated) \n",
      "\n",
      "1.507993 +/- 0.002901\n"
     ]
    },
    {
     "data": {
      "image/png": "[encoded data removed]",
      "text/plain": [
       "<Figure size 432x288 with 1 Axes>"
      ]
     },
     "metadata": {
      "needs_background": "light"
     },
     "output_type": "display_data"
    }
   ],
   "source": [
    "# Obtained with entanglement_combiner.py for betas\n",
    "U = 1.0658\n",
    "y_array_exp = data[:,2]\n",
    "sigmas = errs[:,2]\n",
    "\n",
    "# Perform 3-parameter exponential fit\n",
    "popt_exponential, pcov_exponential = scipy.optimize.curve_fit(exponential, betas[0:], y_array_exp[0:],sigma=sigmas[0:],p0=[0.9,0.1,y_array_exp[-1]])\n",
    "\n",
    "# Extract fit parameters\n",
    "c1,c2,c3 = popt_exponential\n",
    "c3_err = np.sqrt(np.diag(pcov_exponential)[2])\n",
    "\n",
    "extrapolated_S2s[2] = c3\n",
    "extrapolated_S2s_err[2] = c3_err\n",
    "\n",
    "# Perform the fit\n",
    "betas_fit = np.linspace(min(betas),max(betas)*1,1000)\n",
    "y_fit = exponential(betas_fit,c1,c2,c3)\n",
    "\n",
    "plt.plot(betas_fit,y_fit,label='fit')\n",
    "plt.errorbar(betas,y_array_exp, yerr=sigmas,color='red',marker='o',label='data',fmt='.',\n",
    "            capsize=5)\n",
    "plt.ylabel(r\"$S_2$\")\n",
    "plt.xlabel(r\"$\\beta$\")\n",
    "plt.legend(frameon=False);\n",
    "\n",
    "print(\"S2 (extrapolated) \\n\")\n",
    "print(f\"{c3:0.6f} +/- {c3_err:0.6f}\")"
   ]
  },
  {
   "cell_type": "code",
   "execution_count": 37,
   "metadata": {},
   "outputs": [
    {
     "name": "stdout",
     "output_type": "stream",
     "text": [
      "S2 (extrapolated) \n",
      "\n",
      "1.439590 +/- 0.002315\n"
     ]
    },
    {
     "data": {
      "image/png": "[encoded data removed]",
      "text/plain": [
       "<Figure size 432x288 with 1 Axes>"
      ]
     },
     "metadata": {
      "needs_background": "light"
     },
     "output_type": "display_data"
    }
   ],
   "source": [
    "# Obtained with entanglement_combiner.py for betas\n",
    "U = 1.5561\n",
    "y_array_exp = data[:,3]\n",
    "sigmas = errs[:,3]\n",
    "\n",
    "# Perform 3-parameter exponential fit\n",
    "popt_exponential, pcov_exponential = scipy.optimize.curve_fit(exponential, betas[0:], y_array_exp[0:],sigma=sigmas[0:],p0=[0.9,0.1,y_array_exp[-1]])\n",
    "\n",
    "# Extract fit parameters\n",
    "c1,c2,c3 = popt_exponential\n",
    "c3_err = np.sqrt(np.diag(pcov_exponential)[2])\n",
    "\n",
    "extrapolated_S2s[3] = c3\n",
    "extrapolated_S2s_err[3] = c3_err\n",
    "\n",
    "# Perform the fit\n",
    "betas_fit = np.linspace(min(betas),max(betas)*1,1000)\n",
    "y_fit = exponential(betas_fit,c1,c2,c3)\n",
    "\n",
    "plt.plot(betas_fit,y_fit,label='fit')\n",
    "plt.errorbar(betas,y_array_exp, yerr=sigmas,color='red',marker='o',label='data',fmt='.',\n",
    "            capsize=5)\n",
    "plt.ylabel(r\"$S_2$\")\n",
    "plt.xlabel(r\"$\\beta$\")\n",
    "plt.legend(frameon=False);\n",
    "\n",
    "print(\"S2 (extrapolated) \\n\")\n",
    "print(f\"{c3:0.6f} +/- {c3_err:0.6f}\")"
   ]
  },
  {
   "cell_type": "code",
   "execution_count": 38,
   "metadata": {},
   "outputs": [
    {
     "name": "stdout",
     "output_type": "stream",
     "text": [
      "S2 (extrapolated) \n",
      "\n",
      "1.352709 +/- 0.002613\n"
     ]
    },
    {
     "data": {
      "image/png": "[encoded data removed]",
      "text/plain": [
       "<Figure size 432x288 with 1 Axes>"
      ]
     },
     "metadata": {
      "needs_background": "light"
     },
     "output_type": "display_data"
    }
   ],
   "source": [
    "# Obtained with entanglement_combiner.py for betas\n",
    "U = 2.272\n",
    "y_array_exp = data[:,4]\n",
    "sigmas = errs[:,4]\n",
    "\n",
    "# Perform 3-parameter exponential fit\n",
    "popt_exponential, pcov_exponential = scipy.optimize.curve_fit(exponential, betas[0:], y_array_exp[0:],sigma=sigmas[0:],p0=[0.9,0.1,y_array_exp[-1]])\n",
    "\n",
    "# Extract fit parameters\n",
    "c1,c2,c3 = popt_exponential\n",
    "c3_err = np.sqrt(np.diag(pcov_exponential)[2])\n",
    "\n",
    "extrapolated_S2s[4] = c3\n",
    "extrapolated_S2s_err[4] = c3_err\n",
    "\n",
    "# Perform the fit\n",
    "betas_fit = np.linspace(min(betas),max(betas)*1,1000)\n",
    "y_fit = exponential(betas_fit,c1,c2,c3)\n",
    "\n",
    "plt.plot(betas_fit,y_fit,label='fit')\n",
    "plt.errorbar(betas,y_array_exp, yerr=sigmas,color='red',marker='o',label='data',fmt='.',\n",
    "            capsize=5)\n",
    "plt.ylabel(r\"$S_2$\")\n",
    "plt.xlabel(r\"$\\beta$\")\n",
    "plt.legend(frameon=False);\n",
    "\n",
    "print(\"S2 (extrapolated) \\n\")\n",
    "print(f\"{c3:0.6f} +/- {c3_err:0.6f}\")"
   ]
  },
  {
   "cell_type": "code",
   "execution_count": 39,
   "metadata": {},
   "outputs": [
    {
     "name": "stdout",
     "output_type": "stream",
     "text": [
      "S2 (extrapolated) \n",
      "\n",
      "1.230268 +/- 0.002408\n"
     ]
    },
    {
     "data": {
      "image/png": "[encoded data removed]",
      "text/plain": [
       "<Figure size 432x288 with 1 Axes>"
      ]
     },
     "metadata": {
      "needs_background": "light"
     },
     "output_type": "display_data"
    }
   ],
   "source": [
    "# Obtained with entanglement_combiner.py for betas\n",
    "U = 3.3\n",
    "y_array_exp = data[:,5]\n",
    "sigmas = errs[:,5]\n",
    "\n",
    "# Perform 3-parameter exponential fit\n",
    "popt_exponential, pcov_exponential = scipy.optimize.curve_fit(exponential, betas[0:], y_array_exp[0:],sigma=sigmas[0:],p0=[0.9,0.1,y_array_exp[-1]])\n",
    "\n",
    "# Extract fit parameters\n",
    "c1,c2,c3 = popt_exponential\n",
    "c3_err = np.sqrt(np.diag(pcov_exponential)[2])\n",
    "\n",
    "extrapolated_S2s[5] = c3\n",
    "extrapolated_S2s_err[5] = c3_err\n",
    "\n",
    "# Perform the fit\n",
    "betas_fit = np.linspace(min(betas),max(betas)*1,1000)\n",
    "y_fit = exponential(betas_fit,c1,c2,c3)\n",
    "\n",
    "plt.plot(betas_fit,y_fit,label='fit')\n",
    "plt.errorbar(betas,y_array_exp, yerr=sigmas,color='red',marker='o',label='data',fmt='.',\n",
    "            capsize=5)\n",
    "plt.ylabel(r\"$S_2$\")\n",
    "plt.xlabel(r\"$\\beta$\")\n",
    "plt.legend(frameon=False);\n",
    "\n",
    "print(\"S2 (extrapolated) \\n\")\n",
    "print(f\"{c3:0.6f} +/- {c3_err:0.6f}\")"
   ]
  },
  {
   "cell_type": "code",
   "execution_count": 40,
   "metadata": {},
   "outputs": [
    {
     "name": "stdout",
     "output_type": "stream",
     "text": [
      "S2 (extrapolated) \n",
      "\n",
      "0.876302 +/- 0.001058\n"
     ]
    },
    {
     "data": {
      "image/png": "[encoded data removed]",
      "text/plain": [
       "<Figure size 432x288 with 1 Axes>"
      ]
     },
     "metadata": {
      "needs_background": "light"
     },
     "output_type": "display_data"
    }
   ],
   "source": [
    "# Obtained with entanglement_combiner.py for betas\n",
    "U = 4.843100\n",
    "y_array_exp = data[:,6]\n",
    "sigmas = errs[:,6]\n",
    "\n",
    "# Perform 3-parameter exponential fit\n",
    "popt_exponential, pcov_exponential = scipy.optimize.curve_fit(exponential, betas[0:], y_array_exp[0:],sigma=sigmas[0:],p0=[0.9,0.1,y_array_exp[-1]])\n",
    "\n",
    "# Extract fit parameters\n",
    "c1,c2,c3 = popt_exponential\n",
    "c3_err = np.sqrt(np.diag(pcov_exponential)[2])\n",
    "\n",
    "extrapolated_S2s[6] = c3\n",
    "extrapolated_S2s_err[6] = c3_err\n",
    "\n",
    "# Perform the fit\n",
    "betas_fit = np.linspace(min(betas),max(betas)*1,1000)\n",
    "y_fit = exponential(betas_fit,c1,c2,c3)\n",
    "\n",
    "plt.plot(betas_fit,y_fit,label='fit')\n",
    "plt.errorbar(betas,y_array_exp, yerr=sigmas,color='red',marker='o',label='data',fmt='.',\n",
    "            capsize=5)\n",
    "plt.ylabel(r\"$S_2$\")\n",
    "plt.xlabel(r\"$\\beta$\")\n",
    "plt.legend(frameon=False);\n",
    "\n",
    "print(\"S2 (extrapolated) \\n\")\n",
    "print(f\"{c3:0.6f} +/- {c3_err:0.6f}\")"
   ]
  },
  {
   "cell_type": "code",
   "execution_count": 41,
   "metadata": {},
   "outputs": [
    {
     "name": "stdout",
     "output_type": "stream",
     "text": [
      "S2 (extrapolated) \n",
      "\n",
      "0.365836 +/- 0.001125\n"
     ]
    },
    {
     "data": {
      "image/png": "[encoded data removed]",
      "text/plain": [
       "<Figure size 432x288 with 1 Axes>"
      ]
     },
     "metadata": {
      "needs_background": "light"
     },
     "output_type": "display_data"
    }
   ],
   "source": [
    "# Obtained with entanglement_combiner.py for betas\n",
    "U = 7.0711\n",
    "y_array_exp = data[:,7]\n",
    "sigmas = errs[:,7]\n",
    "\n",
    "# Perform 3-parameter exponential fit\n",
    "popt_exponential, pcov_exponential = scipy.optimize.curve_fit(exponential, betas[0:], y_array_exp[0:],sigma=sigmas[0:],p0=[0.9,0.1,y_array_exp[-1]])\n",
    "\n",
    "# Extract fit parameters\n",
    "c1,c2,c3 = popt_exponential\n",
    "c3_err = np.sqrt(np.diag(pcov_exponential)[2])\n",
    "\n",
    "extrapolated_S2s[7] = c3\n",
    "extrapolated_S2s_err[7] = c3_err\n",
    "\n",
    "# Perform the fit\n",
    "betas_fit = np.linspace(min(betas),max(betas)*1,1000)\n",
    "y_fit = exponential(betas_fit,c1,c2,c3)\n",
    "\n",
    "plt.plot(betas_fit,y_fit,label='fit')\n",
    "plt.errorbar(betas,y_array_exp, yerr=sigmas,color='red',marker='o',label='data',fmt='.',\n",
    "            capsize=5)\n",
    "plt.ylabel(r\"$S_2$\")\n",
    "plt.xlabel(r\"$\\beta$\")\n",
    "plt.legend(frameon=False);\n",
    "\n",
    "print(\"S2 (extrapolated) \\n\")\n",
    "print(f\"{c3:0.6f} +/- {c3_err:0.6f}\")"
   ]
  },
  {
   "cell_type": "code",
   "execution_count": 42,
   "metadata": {},
   "outputs": [
    {
     "name": "stdout",
     "output_type": "stream",
     "text": [
      "S2 (extrapolated) \n",
      "\n",
      "0.159382 +/- 0.000501\n"
     ]
    },
    {
     "data": {
      "image/png": "[encoded data removed]",
      "text/plain": [
       "<Figure size 432x288 with 1 Axes>"
      ]
     },
     "metadata": {
      "needs_background": "light"
     },
     "output_type": "display_data"
    }
   ],
   "source": [
    "# Obtained with entanglement_combiner.py for betas\n",
    "U = 10.3239\n",
    "y_array_exp = data[:,8]\n",
    "sigmas = errs[:,8]\n",
    "\n",
    "# Perform 3-parameter exponential fit\n",
    "popt_exponential, pcov_exponential = scipy.optimize.curve_fit(exponential, betas[0:], y_array_exp[0:],sigma=sigmas[0:],p0=[0.9,0.1,y_array_exp[-1]])\n",
    "\n",
    "# Extract fit parameters\n",
    "c1,c2,c3 = popt_exponential\n",
    "c3_err = np.sqrt(np.diag(pcov_exponential)[2])\n",
    "\n",
    "extrapolated_S2s[8] = c3\n",
    "extrapolated_S2s_err[8] = c3_err\n",
    "\n",
    "# Perform the fit\n",
    "betas_fit = np.linspace(min(betas),max(betas)*1,1000)\n",
    "y_fit = exponential(betas_fit,c1,c2,c3)\n",
    "\n",
    "plt.plot(betas_fit,y_fit,label='fit')\n",
    "plt.errorbar(betas,y_array_exp, yerr=sigmas,color='red',marker='o',label='data',fmt='.',\n",
    "            capsize=5)\n",
    "plt.ylabel(r\"$S_2$\")\n",
    "plt.xlabel(r\"$\\beta$\")\n",
    "plt.legend(frameon=False);\n",
    "\n",
    "print(\"S2 (extrapolated) \\n\")\n",
    "print(f\"{c3:0.6f} +/- {c3_err:0.6f}\")"
   ]
  },
  {
   "cell_type": "code",
   "execution_count": 43,
   "metadata": {},
   "outputs": [
    {
     "name": "stdout",
     "output_type": "stream",
     "text": [
      "S2 (extrapolated) \n",
      "\n",
      "0.059074 +/- 0.000108\n"
     ]
    },
    {
     "data": {
      "image/png": "[encoded data removed]",
      "text/plain": [
       "<Figure size 432x288 with 1 Axes>"
      ]
     },
     "metadata": {
      "needs_background": "light"
     },
     "output_type": "display_data"
    }
   ],
   "source": [
    "# Obtained with entanglement_combiner.py for betas\n",
    "U = 16.666667\n",
    "y_array_exp = data[:,9]\n",
    "sigmas = errs[:,9]\n",
    "\n",
    "# Perform 3-parameter exponential fit\n",
    "popt_exponential, pcov_exponential = scipy.optimize.curve_fit(exponential, betas[1:], y_array_exp[1:],sigma=sigmas[1:],p0=[0.9,0.1,y_array_exp[-1]])\n",
    "\n",
    "# Extract fit parameters\n",
    "c1,c2,c3 = popt_exponential\n",
    "c3_err = np.sqrt(np.diag(pcov_exponential)[2])\n",
    "\n",
    "extrapolated_S2s[9] = c3\n",
    "extrapolated_S2s_err[9] = c3_err\n",
    "\n",
    "# Perform the fit\n",
    "betas_fit = np.linspace(min(betas),max(betas)*1,1000)\n",
    "y_fit = exponential(betas_fit,c1,c2,c3)\n",
    "\n",
    "plt.plot(betas_fit,y_fit,label='fit')\n",
    "plt.errorbar(betas,y_array_exp, yerr=sigmas,color='red',marker='o',label='data',fmt='.',\n",
    "            capsize=5)\n",
    "plt.ylabel(r\"$S_2$\")\n",
    "plt.xlabel(r\"$\\beta$\")\n",
    "plt.legend(frameon=False);\n",
    "\n",
    "print(\"S2 (extrapolated) \\n\")\n",
    "print(f\"{c3:0.6f} +/- {c3_err:0.6f}\")"
   ]
  },
  {
   "cell_type": "code",
   "execution_count": 90,
   "metadata": {},
   "outputs": [
    {
     "name": "stdout",
     "output_type": "stream",
     "text": [
      "S2 (extrapolated) \n",
      "\n",
      "0.059074 +/- 0.000108\n"
     ]
    },
    {
     "data": {
      "image/png": "[encoded data removed]",
      "text/plain": [
       "<Figure size 432x288 with 1 Axes>"
      ]
     },
     "metadata": {
      "needs_background": "light"
     },
     "output_type": "display_data"
    }
   ],
   "source": [
    "# Obtained with entanglement_combiner.py for betas\n",
    "U = 16.666667\n",
    "y_array_exp = np.array([0.06178639906938851, 0.058854691568405094, 0.059094021100469775, 0.059264784639989146, 0.05913418160869979, 0.05895803148713737, 0.05867162367835831])\n",
    "sigmas = np.array([0.00027397901120447755, 0.00028714165645908146, 0.0004353116490651759, 0.0002967672299124708, 0.0003058366356456915, 0.00032625322852125333, 0.00028777416506142853])\n",
    "\n",
    "# Perform 3-parameter exponential fit\n",
    "popt_exponential, pcov_exponential = scipy.optimize.curve_fit(exponential, betas[1:], y_array_exp[1:],sigma=sigmas[1:],p0=[0.9,0.1,y_array_exp[-1]])\n",
    "\n",
    "# Extract fit parameters\n",
    "c1,c2,c3 = popt_exponential\n",
    "c3_err = np.sqrt(np.diag(pcov_exponential)[2])\n",
    "\n",
    "extrapolated_S2s[9] = c3\n",
    "extrapolated_S2s_err[9] = c3_err\n",
    "\n",
    "# Perform the fit\n",
    "betas_fit = np.linspace(min(betas),max(betas)*1,1000)\n",
    "y_fit = exponential(betas_fit,c1,c2,c3)\n",
    "\n",
    "plt.plot(betas_fit,y_fit,label='fit')\n",
    "plt.errorbar(betas,y_array_exp, yerr=sigmas,color='red',marker='o',label='data',fmt='.',\n",
    "            capsize=5)\n",
    "plt.ylabel(r\"$S_2$\")\n",
    "plt.xlabel(r\"$\\beta$\")\n",
    "plt.legend(frameon=False);\n",
    "\n",
    "print(\"S2 (extrapolated) \\n\")\n",
    "print(f\"{c3:0.6f} +/- {c3_err:0.6f}\")"
   ]
  },
  {
   "cell_type": "code",
   "execution_count": null,
   "metadata": {},
   "outputs": [],
   "source": [
    "# Obtained with entanglement_combiner.py for betas\n",
    "U = 22.0071\n",
    "y_array_exp = data[:,10]\n",
    "sigmas = errs[:,10]\n",
    "\n",
    "# Perform 3-parameter exponential fit\n",
    "popt_exponential, pcov_exponential = scipy.optimize.curve_fit(exponential, betas[0:], y_array_exp[0:],sigma=sigmas[0:],p0=[0.9,0.1,y_array_exp[-1]])\n",
    "\n",
    "# Extract fit parameters\n",
    "c1,c2,c3 = popt_exponential\n",
    "c3_err = np.sqrt(np.diag(pcov_exponential)[2])\n",
    "\n",
    "extrapolated_S2s[10] = c3\n",
    "extrapolated_S2s_err[10] = c3_err\n",
    "\n",
    "# Perform the fit\n",
    "betas_fit = np.linspace(min(betas),max(betas)*1,1000)\n",
    "y_fit = exponential(betas_fit,c1,c2,c3)\n",
    "\n",
    "plt.plot(betas_fit,y_fit,label='fit')\n",
    "plt.errorbar(betas,y_array_exp, yerr=sigmas,color='red',marker='o',label='data',fmt='.',\n",
    "            capsize=5)\n",
    "plt.ylabel(r\"$S_2$\")\n",
    "plt.xlabel(r\"$\\beta$\")\n",
    "plt.legend(frameon=False);\n",
    "\n",
    "print(\"S2 (extrapolated) \\n\")\n",
    "print(f\"{c3:0.6f} +/- {c3_err:0.6f}\")"
   ]
  },
  {
   "cell_type": "code",
   "execution_count": 46,
   "metadata": {},
   "outputs": [
    {
     "name": "stdout",
     "output_type": "stream",
     "text": [
      "S2 (extrapolated) \n",
      "\n",
      "0.015839 +/- 0.000352\n"
     ]
    },
    {
     "data": {
      "image/png": "[encoded data removed]",
      "text/plain": [
       "<Figure size 432x288 with 1 Axes>"
      ]
     },
     "metadata": {
      "needs_background": "light"
     },
     "output_type": "display_data"
    }
   ],
   "source": [
    "# Obtained with entanglement_combiner.py for betas\n",
    "U = 32.1308\n",
    "y_array_exp = data[:,11]\n",
    "sigmas = errs[:,11]\n",
    "\n",
    "# Perform 3-parameter exponential fit\n",
    "popt_exponential, pcov_exponential = scipy.optimize.curve_fit(exponential, betas[0:], y_array_exp[0:],sigma=sigmas[0:],p0=[0.9,1,y_array_exp[-1]])\n",
    "\n",
    "# Extract fit parameters\n",
    "c1,c2,c3 = popt_exponential\n",
    "c3_err = np.sqrt(np.diag(pcov_exponential)[2])\n",
    "\n",
    "extrapolated_S2s[11] = c3\n",
    "extrapolated_S2s_err[11] = c3_err\n",
    "\n",
    "# Perform the fit\n",
    "betas_fit = np.linspace(min(betas),max(betas)*1,1000)\n",
    "y_fit = exponential(betas_fit,c1,c2,c3)\n",
    "\n",
    "plt.plot(betas_fit,y_fit,label='fit')\n",
    "plt.errorbar(betas,y_array_exp, yerr=sigmas,color='red',marker='o',label='data',fmt='.',\n",
    "            capsize=5)\n",
    "plt.ylabel(r\"$S_2$\")\n",
    "plt.xlabel(r\"$\\beta$\")\n",
    "plt.legend(frameon=False);\n",
    "\n",
    "print(\"S2 (extrapolated) \\n\")\n",
    "print(f\"{c3:0.6f} +/- {c3_err:0.6f}\")"
   ]
  },
  {
   "cell_type": "code",
   "execution_count": 47,
   "metadata": {},
   "outputs": [
    {
     "name": "stdout",
     "output_type": "stream",
     "text": [
      "S2 (extrapolated) \n",
      "\n",
      "0.007194 +/- 0.000085\n"
     ]
    },
    {
     "data": {
      "image/png": "[encoded data removed]",
      "text/plain": [
       "<Figure size 432x288 with 1 Axes>"
      ]
     },
     "metadata": {
      "needs_background": "light"
     },
     "output_type": "display_data"
    }
   ],
   "source": [
    "# Obtained with entanglement_combiner.py for betas\n",
    "U = 46.9117\n",
    "y_array_exp = data[:,12]\n",
    "sigmas = errs[:,12]\n",
    "\n",
    "# Perform 3-parameter exponential fit\n",
    "popt_exponential, pcov_exponential = scipy.optimize.curve_fit(exponential, betas[0:], y_array_exp[0:],sigma=sigmas[0:],p0=[0.9,1,y_array_exp[-1]])\n",
    "\n",
    "# Extract fit parameters\n",
    "c1,c2,c3 = popt_exponential\n",
    "c3_err = np.sqrt(np.diag(pcov_exponential)[2])\n",
    "\n",
    "extrapolated_S2s[12] = c3\n",
    "extrapolated_S2s_err[12] = c3_err\n",
    "\n",
    "# Perform the fit\n",
    "betas_fit = np.linspace(min(betas),max(betas)*1,1000)\n",
    "y_fit = exponential(betas_fit,c1,c2,c3)\n",
    "\n",
    "plt.plot(betas_fit,y_fit,label='fit')\n",
    "plt.errorbar(betas,y_array_exp, yerr=sigmas,color='red',marker='o',label='data',fmt='.',\n",
    "            capsize=5)\n",
    "plt.ylabel(r\"$S_2$\")\n",
    "plt.xlabel(r\"$\\beta$\")\n",
    "plt.legend(frameon=False);\n",
    "\n",
    "print(\"S2 (extrapolated) \\n\")\n",
    "print(f\"{c3:0.6f} +/- {c3_err:0.6f}\")"
   ]
  },
  {
   "cell_type": "code",
   "execution_count": 48,
   "metadata": {},
   "outputs": [
    {
     "name": "stdout",
     "output_type": "stream",
     "text": [
      "S2 (extrapolated) \n",
      "\n",
      "0.003423 +/- 0.000472\n"
     ]
    },
    {
     "data": {
      "image/png": "[encoded data removed]",
      "text/plain": [
       "<Figure size 432x288 with 1 Axes>"
      ]
     },
     "metadata": {
      "needs_background": "light"
     },
     "output_type": "display_data"
    }
   ],
   "source": [
    "# Obtained with entanglement_combiner.py for betas\n",
    "U = 68.4921\n",
    "y_array_exp = data[:,13]\n",
    "sigmas = errs[:,13]\n",
    "\n",
    "# Perform 3-parameter exponential fit\n",
    "popt_exponential, pcov_exponential = scipy.optimize.curve_fit(exponential, betas[1:], y_array_exp[1:],sigma=sigmas[1:],p0=[0.9,0.1,y_array_exp[-1]])\n",
    "\n",
    "# Extract fit parameters\n",
    "c1,c2,c3 = popt_exponential\n",
    "c3_err = np.sqrt(np.diag(pcov_exponential)[2])\n",
    "\n",
    "extrapolated_S2s[13] = c3\n",
    "extrapolated_S2s_err[13] = c3_err\n",
    "\n",
    "# Perform the fit\n",
    "betas_fit = np.linspace(min(betas),max(betas)*1,1000)\n",
    "y_fit = exponential(betas_fit,c1,c2,c3)\n",
    "\n",
    "plt.plot(betas_fit,y_fit,label='fit')\n",
    "plt.errorbar(betas,y_array_exp, yerr=sigmas,color='red',marker='o',label='data',fmt='.',\n",
    "            capsize=5)\n",
    "plt.ylabel(r\"$S_2$\")\n",
    "plt.xlabel(r\"$\\beta$\")\n",
    "plt.legend(frameon=False);\n",
    "\n",
    "print(\"S2 (extrapolated) \\n\")\n",
    "print(f\"{c3:0.6f} +/- {c3_err:0.6f}\")"
   ]
  },
  {
   "cell_type": "code",
   "execution_count": 49,
   "metadata": {},
   "outputs": [
    {
     "name": "stdout",
     "output_type": "stream",
     "text": [
      "S2 (extrapolated) \n",
      "\n",
      "0.001731 +/- 0.000065\n"
     ]
    },
    {
     "data": {
      "image/png": "[encoded data removed]",
      "text/plain": [
       "<Figure size 432x288 with 1 Axes>"
      ]
     },
     "metadata": {
      "needs_background": "light"
     },
     "output_type": "display_data"
    }
   ],
   "source": [
    "# Obtained with entanglement_combiner.py for betas\n",
    "U = 100.0\n",
    "y_array_exp = data[:,14]\n",
    "sigmas = errs[:,14]\n",
    "\n",
    "# Perform 3-parameter exponential fit\n",
    "popt_exponential, pcov_exponential = scipy.optimize.curve_fit(exponential, betas[0:], y_array_exp[0:],sigma=sigmas[0:],p0=[0.9,0.1,y_array_exp[-1]])\n",
    "\n",
    "# Extract fit parameters\n",
    "c1,c2,c3 = popt_exponential\n",
    "c3_err = np.sqrt(np.diag(pcov_exponential)[2])\n",
    "\n",
    "extrapolated_S2s[14] = c3\n",
    "extrapolated_S2s_err[14] = c3_err\n",
    "\n",
    "# Perform the fit\n",
    "betas_fit = np.linspace(min(betas),max(betas)*1,1000)\n",
    "y_fit = exponential(betas_fit,c1,c2,c3)\n",
    "\n",
    "plt.plot(betas_fit,y_fit,label='fit')\n",
    "plt.errorbar(betas,y_array_exp, yerr=sigmas,color='red',marker='o',label='data',fmt='.',\n",
    "            capsize=5)\n",
    "plt.ylabel(r\"$S_2$\")\n",
    "plt.xlabel(r\"$\\beta$\")\n",
    "plt.legend(frameon=False);\n",
    "\n",
    "print(\"S2 (extrapolated) \\n\")\n",
    "print(f\"{c3:0.6f} +/- {c3_err:0.6f}\")"
   ]
  },
  {
   "cell_type": "markdown",
   "metadata": {},
   "source": [
    "Perform exponential fit to data with Scipy curve_fit"
   ]
  },
  {
   "cell_type": "code",
   "execution_count": 50,
   "metadata": {},
   "outputs": [
    {
     "name": "stdout",
     "output_type": "stream",
     "text": [
      "[1.6172285195123168, 1.5690588560309398, 1.5079926506717556, 1.4395898056973193, 1.3527089434317523, 1.2302675404389736, 0.8763022080591664, 0.3658364164104767, 0.15938249415666686, 0.0590741777614146, 0.03363889947314604, 0.015839050570354573, 0.007193987965525346, 0.00342265292653104, 0.0017305645406594477]\n",
      "[0.002843980916953129, 0.0011446091884003487, 0.002900854391729173, 0.0023146691088842077, 0.002613149021169628, 0.0024079124849689607, 0.0010581822886732311, 0.0011245918842608272, 0.0005012449213740264, 0.00010847605232569004, 0.00013539512190175845, 0.0003521533484048444, 8.546139173535955e-05, 0.000472300436137347, 6.471272499299526e-05]\n"
     ]
    }
   ],
   "source": [
    "print(list(extrapolated_S2s))\n",
    "print(list(extrapolated_S2s_err))"
   ]
  },
  {
   "cell_type": "code",
   "execution_count": 51,
   "metadata": {},
   "outputs": [],
   "source": [
    "# Save the extrapolations to file here\n",
    "D=1\n",
    "L=16\n",
    "N=16\n",
    "l_max=8\n",
    "t=1.000000\n",
    "bin_size=10001\n",
    "beta_list = np.array(betas)\n",
    "#Format the data file\n",
    "with open(\"../ProcessedData/\"+str(D)+\"D_%d_%d_%d_Us_%.6f_extrapolations_%d_S2.dat\"%(L,N,l_max,t,bin_size),\"wb\") as processed_data:\n",
    "    np.savetxt(processed_data,np.c_[U_list,extrapolated_S2s,extrapolated_S2s_err],delimiter=\" \",fmt=\"%.16f\",header=\"BH Parameters: L=%d,N=%d,D=%d,l=%d,t=%.6f,beta=extrapolations,bin_size=%d \\n U               <S2>               StdErr.\"%(L,N,D,l_max,t,bin_size))"
   ]
  },
  {
   "cell_type": "code",
   "execution_count": null,
   "metadata": {},
   "outputs": [],
   "source": []
  },
  {
   "cell_type": "code",
   "execution_count": null,
   "metadata": {},
   "outputs": [],
   "source": []
  }
 ],
 "metadata": {
  "kernelspec": {
   "display_name": "Python 3",
   "language": "python",
   "name": "python3"
  },
  "language_info": {
   "codemirror_mode": {
    "name": "ipython",
    "version": 3
   },
   "file_extension": ".py",
   "mimetype": "text/x-python",
   "name": "python",
   "nbconvert_exporter": "python",
   "pygments_lexer": "ipython3",
   "version": "3.8.5"
  }
 },
 "nbformat": 4,
 "nbformat_minor": 4
}
