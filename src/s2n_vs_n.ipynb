{
 "cells": [
  {
   "cell_type": "code",
   "execution_count": 1,
   "metadata": {},
   "outputs": [],
   "source": [
    "import numpy as np\n",
    "import matplotlib.pyplot as plt"
   ]
  },
  {
   "cell_type": "code",
   "execution_count": 2,
   "metadata": {},
   "outputs": [],
   "source": [
    "colors = ['salmon','dodgerblue','mediumseagreen']\n",
    "colors = ['#FFA0A0','#1e90ff','#3cb371']\n",
    "colors_light = ['#FFEDED','#6BDDFF','#89FFBE']"
   ]
  },
  {
   "cell_type": "code",
   "execution_count": 3,
   "metadata": {},
   "outputs": [],
   "source": [
    "# Load data\n",
    "data = np.loadtxt(\"../ProcessedData/1D_64_64_32_3.300000_1.000000_extrapolations_10000_s2nSecs.dat\")\n",
    "ns = data[:,0].astype(int)\n",
    "s2n = data[:,1]\n",
    "s2nErr = data[:,2]\n",
    "\n",
    "data = np.loadtxt(\"../ProcessedData/1D_64_64_32_3.300000_1.000000_betas_10000_Pn.dat\")\n",
    "Pn = data[-1,1:]"
   ]
  },
  {
   "cell_type": "code",
   "execution_count": 4,
   "metadata": {},
   "outputs": [
    {
     "data": {
      "text/plain": [
       "array([29, 30, 31, 32, 33, 34, 35])"
      ]
     },
     "execution_count": 4,
     "metadata": {},
     "output_type": "execute_result"
    }
   ],
   "source": [
    "ns"
   ]
  },
  {
   "cell_type": "code",
   "execution_count": 11,
   "metadata": {},
   "outputs": [
    {
     "data": {
      "image/png": "[encoded data removed]",
      "text/plain": [
       "<Figure size 583.711x412.289 with 2 Axes>"
      ]
     },
     "metadata": {
      "needs_background": "light"
     },
     "output_type": "display_data"
    }
   ],
   "source": [
    "with plt.style.context('../IOP_large.mplstyle3'):\n",
    "    \n",
    "    fig,ax = plt.subplots(2,1,tight_layout=True,sharex=True)\n",
    "    ax[0].errorbar(ns[0:],s2n[0:], yerr=s2nErr[0:], fmt='.', capsize=5,\n",
    "                    color=colors[1],mfc=colors_light[1],marker='s',zorder=2)\n",
    "    ax[0].plot(ns[0:],s2n[0:],ls='--',alpha=0.6)\n",
    "    ax[0].set_ylabel(r\"$S_2(\\rho_{A_n})$\")\n",
    "    ax[0].tick_params(direction=\"in\")\n",
    "    ax[1].annotate(r\"$L=N=64$\",(0.05,0.40+0.4),xycoords=\"axes fraction\")\n",
    "    ax[1].annotate(r\"$\\ell=32$\",(0.05,0.28+0.4),xycoords=\"axes fraction\")\n",
    "    ax[1].annotate(r\"$D=1$\",(0.05,0.16+0.4),xycoords=\"axes fraction\")\n",
    "    ax[1].annotate(r\"$U/t=3.3$\",(0.05,0.04+0.4),xycoords=\"axes fraction\")\n",
    "\n",
    "    ax[1].bar(ns,Pn[ns[0]:ns[-1]+1],fc=colors[1],ec=colors[1],zorder=-10)\n",
    "    ax[1].set_ylabel(r\"$P_n$\")\n",
    "    ax[1].set_xlabel(r\"$n$\")\n",
    "    ax[1].tick_params(direction=\"in\")\n",
    "    \n",
    "    # Save figure\n",
    "    plt.savefig(\"../figures/s2n_vs_n.pdf\",dpi=400)\n",
    "    plt.savefig(\"../figures/s2n_vs_n.svg\",dpi=400)\n",
    "    \n",
    "    # Save to paper repo\n",
    "    plt.savefig(\"/Users/ecasiano/Desktop/papers-latticepigs/Figures/s2n_vs_n.pdf\",dpi=400)\n",
    "    plt.savefig(\"/Users/ecasiano/Desktop/papers-latticepigs/Figures/s2n_vs_n.svg\",dpi=400)"
   ]
  },
  {
   "cell_type": "code",
   "execution_count": null,
   "metadata": {},
   "outputs": [],
   "source": []
  },
  {
   "cell_type": "code",
   "execution_count": null,
   "metadata": {},
   "outputs": [],
   "source": []
  },
  {
   "cell_type": "code",
   "execution_count": null,
   "metadata": {},
   "outputs": [],
   "source": []
  },
  {
   "cell_type": "code",
   "execution_count": null,
   "metadata": {},
   "outputs": [],
   "source": []
  },
  {
   "cell_type": "code",
   "execution_count": null,
   "metadata": {},
   "outputs": [],
   "source": []
  },
  {
   "cell_type": "code",
   "execution_count": null,
   "metadata": {},
   "outputs": [],
   "source": []
  }
 ],
 "metadata": {
  "kernelspec": {
   "display_name": "Python 3",
   "language": "python",
   "name": "python3"
  },
  "language_info": {
   "codemirror_mode": {
    "name": "ipython",
    "version": 3
   },
   "file_extension": ".py",
   "mimetype": "text/x-python",
   "name": "python",
   "nbconvert_exporter": "python",
   "pygments_lexer": "ipython3",
   "version": "3.8.5"
  }
 },
 "nbformat": 4,
 "nbformat_minor": 4
}
