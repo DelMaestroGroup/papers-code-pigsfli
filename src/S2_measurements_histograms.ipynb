{
 "cells": [
  {
   "cell_type": "markdown",
   "metadata": {},
   "source": [
    "## Measurement histogram"
   ]
  },
  {
   "cell_type": "code",
   "execution_count": 2,
   "metadata": {},
   "outputs": [],
   "source": [
    "import numpy as np\n",
    "import matplotlib.pyplot as plt"
   ]
  },
  {
   "cell_type": "code",
   "execution_count": 99,
   "metadata": {},
   "outputs": [],
   "source": [
    "S2_measurements_SF = np.loadtxt(\"../ProcessedData/1D_8_8_4_0.500000_1.000000_betas_10000_S2_measurements.dat\")[:,-1]\n",
    "S2_measurements_PT = np.loadtxt(\"../ProcessedData/1D_8_8_4_3.300000_1.000000_betas_10000_S2_measurements.dat\")[:,-1]\n",
    "S2_measurements_MOTT = np.loadtxt(\"../ProcessedData/1D_8_8_4_10.000000_1.000000_betas_10000_S2_measurements.dat\")[:,-1]"
   ]
  },
  {
   "cell_type": "code",
   "execution_count": 135,
   "metadata": {},
   "outputs": [
    {
     "data": {
      "image/png": "[encoded data removed]",
      "text/plain": [
       "<Figure size 432x288 with 3 Axes>"
      ]
     },
     "metadata": {
      "needs_background": "light"
     },
     "output_type": "display_data"
    }
   ],
   "source": [
    "fig,ax = plt.subplots(nrows=1,ncols=3,sharey=False,tight_layout=True)\n",
    "ax[0].hist(S2_measurements_SF,bins=np.linspace(S2_measurements_SF.min(),S2_measurements_SF.max(),25),density=False,color=\"pink\");\n",
    "ax[0].annotate(r\"$\\frac{U}{t}=0.5$\",xy=(0.65,0.80+0.14),xycoords=\"axes fraction\")\n",
    "\n",
    "ax[1].hist(S2_measurements_PT,bins=np.linspace(S2_measurements_PT.min(),S2_measurements_PT.max(),25),density=False,color=\"dodgerblue\");\n",
    "ax[1].annotate(r\"$-\\ln{\\langle \\rm{SWAP} \\rangle}$\",xy=(0.10,0.25),xycoords=\"axes fraction\",color=\"black\",fontsize=15)\n",
    "ax[1].annotate(r\"$L=8$\",xy=(0.10,0.80+0.14),xycoords=\"axes fraction\")\n",
    "ax[1].annotate(r\"$N=8$\",xy=(0.10,0.73+0.14),xycoords=\"axes fraction\")\n",
    "ax[1].annotate(r\"$\\ell=4$\",xy=(0.10,0.66+0.14),xycoords=\"axes fraction\")\n",
    "ax[1].annotate(r\"$D=1$\",xy=(0.10,0.59+0.14),xycoords=\"axes fraction\")\n",
    "ax[1].annotate(r\"$\\frac{U}{t}=3.3$\",xy=(0.58,0.80+0.14),xycoords=\"axes fraction\")\n",
    "\n",
    "ax[2].hist(S2_measurements_MOTT,bins=np.linspace(S2_measurements_MOTT.min(),S2_measurements_MOTT.max(),25),density=False,color=\"mediumseagreen\");\n",
    "ax[2].annotate(r\"$\\frac{U}{t}=10$\",xy=(0.65,0.80+0.14),xycoords=\"axes fraction\")\n",
    "\n",
    "plt.savefig(\"../figures/jacknifed_S2_measurements_histograms.pdf\",dpi=300)"
   ]
  },
  {
   "cell_type": "code",
   "execution_count": null,
   "metadata": {},
   "outputs": [],
   "source": []
  },
  {
   "cell_type": "code",
   "execution_count": null,
   "metadata": {},
   "outputs": [],
   "source": []
  }
 ],
 "metadata": {
  "kernelspec": {
   "display_name": "Python 3",
   "language": "python",
   "name": "python3"
  },
  "language_info": {
   "codemirror_mode": {
    "name": "ipython",
    "version": 3
   },
   "file_extension": ".py",
   "mimetype": "text/x-python",
   "name": "python",
   "nbconvert_exporter": "python",
   "pygments_lexer": "ipython3",
   "version": "3.8.5"
  }
 },
 "nbformat": 4,
 "nbformat_minor": 4
}
