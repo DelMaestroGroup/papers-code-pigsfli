{
 "cells": [
  {
   "cell_type": "code",
   "execution_count": 7,
   "metadata": {},
   "outputs": [],
   "source": [
    "import numpy as np\n",
    "import matplotlib.pyplot as plt\n",
    "import scipy \n",
    "from scipy import optimize"
   ]
  },
  {
   "cell_type": "code",
   "execution_count": 8,
   "metadata": {},
   "outputs": [],
   "source": [
    "np.set_printoptions(precision=8)"
   ]
  },
  {
   "cell_type": "markdown",
   "metadata": {},
   "source": [
    "### $\\beta$-scaling (but the original estimator)"
   ]
  },
  {
   "cell_type": "code",
   "execution_count": 9,
   "metadata": {},
   "outputs": [],
   "source": [
    "data = np.loadtxt(\"../ProcessedData/2D_32_1024_ls_16.666667_1.000000_extrapolations_10001_S2.dat\")\n",
    "ℓ = data[:,0]\n",
    "y = data[:,1]\n",
    "y_err = data[:,2]"
   ]
  },
  {
   "cell_type": "code",
   "execution_count": 10,
   "metadata": {},
   "outputs": [
    {
     "data": {
      "text/plain": [
       "array([ 1.,  2.,  3.,  4.,  5.,  6.,  7.,  8.,  9., 10., 11., 12., 13.,\n",
       "       14., 15., 16., 17., 18., 19., 20.])"
      ]
     },
     "execution_count": 10,
     "metadata": {},
     "output_type": "execute_result"
    }
   ],
   "source": [
    "ℓ"
   ]
  },
  {
   "cell_type": "code",
   "execution_count": 11,
   "metadata": {},
   "outputs": [
    {
     "data": {
      "image/png": "[encoded data removed]",
      "text/plain": [
       "<Figure size 333.549x206.145 with 2 Axes>"
      ]
     },
     "metadata": {
      "needs_background": "light"
     },
     "output_type": "display_data"
    }
   ],
   "source": [
    "with plt.style.context('../IOP_large.mplstyle'):\n",
    "\n",
    "    fig,ax1 = plt.subplots()\n",
    "    \n",
    "    ax1.errorbar(ℓ,y,y_err, fmt='.', capsize=5,label='square',marker='o',mfc=\"lightblue\");\n",
    "    ax1.set_ylabel(r'$S_2$')\n",
    "    ax1.set_xlabel(r'$\\ell$')\n",
    "    # ax1.set_xlim(1,20.1)\n",
    "    # ax1.set_ylim(0,5.4)\n",
    "    # ax1.set_xticklabels([1])\n",
    "    ax1.tick_params(direction='in')\n",
    "    \n",
    "    # Annotate system information\n",
    "    ax1.annotate(r\"$M=N=32\\times32,\\ell_{\\rm{max}}=20,D=2$\",(0.14,0.53+.35),\n",
    "                xycoords='figure fraction')\n",
    "    # ax1.annotate(r\"$N=1024$\",(0.14,0.52+.25),\n",
    "    #             xycoords='figure fraction')\n",
    "    # ax1.annotate(r\"$\\ell_{\\rm{max}}=20$\",(0.14,0.52+.25),\n",
    "    #             xycoords='figure fraction')\n",
    "    # ax1.annotate(r\"$D=2$\",(0.14,0.52+.15),\n",
    "    #             xycoords='figure fraction')\n",
    "    ax1.annotate(r\"$\\frac{U}{t} = 16.67$\",(0.14,0.53+.26),\n",
    "                xycoords='figure fraction')\n",
    "    \n",
    "    # Define linear function for fitting\n",
    "    # def boundary_law_fit(x,a,c,d,g):\n",
    "    #     return a*x + c*np.log(x) + d + g/x\n",
    "    def boundary_law_fit(x,a,c,d):\n",
    "        return a*x + c*np.log(x) + d\n",
    "    a_min = -np.inf\n",
    "    a_max = np.inf\n",
    "    \n",
    "    c_min = -np.inf\n",
    "    c_max = np.inf\n",
    "    \n",
    "    d_min = -1\n",
    "    d_max = 1\n",
    "    \n",
    "    # g_min = -1\n",
    "    # g_max = 1\n",
    "\n",
    "    \n",
    "    # Perform the linear fit\n",
    "    start_idx = 5\n",
    "    popt_line,pcov_line=scipy.optimize.curve_fit(boundary_law_fit,ℓ[start_idx:],y[start_idx:],sigma=y_err[start_idx:],maxfev=10000,\n",
    "                                                bounds=([a_min,c_min,d_min],[a_max,c_max,d_max]))\n",
    "    \n",
    "    # Extract fit parameters and their error\n",
    "    a,c,d = popt_line\n",
    "    a_err,c_err,d_err, = np.sqrt(np.diag(pcov_line))\n",
    "    \n",
    "    \n",
    "    # Plot the fit\n",
    "    ℓ_fit = np.linspace(ℓ[start_idx],max(ℓ),1000)\n",
    "    y_fit = boundary_law_fit(ℓ_fit,a,c,d)\n",
    "    ax1.plot(ℓ_fit[:],y_fit[:],zorder=0)\n",
    "    \n",
    "    # Inset\n",
    "    left,bottom,width,height = [0.624,0.277,0.27,0.27*.9]\n",
    "    ax2 = fig.add_axes([left,bottom,width,height])\n",
    "    ax2.errorbar(np.log(ℓ[:]),y[:]-a*ℓ[:],np.sqrt(y_err**2+(ℓ*a_err)**2), fmt='.', capsize=5,label='square',marker='.',mfc=\"lightblue\");\n",
    "    ax2.plot(np.log(ℓ_fit),y_fit-a*ℓ_fit,zorder=10)\n",
    "    # ax2.plot(ℓ_fit,c*np.log(ℓ_fit)+d,zorder=10)\n",
    "    ax2.tick_params(direction='in')\n",
    "    ax2.set_ylabel(r\"$S_2-a\\ell$\")\n",
    "    ax2.set_xlabel(r\"$\\ln \\ell$\")\n",
    "    ax2.annotate(r\"$a=%.2f\\pm%.2f$\"%(a,a_err),(0.14,0.53+.17),\n",
    "                xycoords='figure fraction')\n",
    "    ax2.annotate(r\"$b=%.2f\\pm%.2f$\"%(c,c_err),(0.14,0.53+.08),\n",
    "                xycoords='figure fraction')\n",
    "    ax2.annotate(r\"$c=%.2f\\pm%.2f$\"%(d,d_err),(0.14,0.53-0.01),\n",
    "                xycoords='figure fraction')\n",
    "    #ax2.plot(xN3,yN3,label='5',color=blue[1],linewidth=0.75)\n",
    "    #ax2.plot(xN5,yN5,label='5',color=blue[1],linewidth=0.75)\n",
    "    #ax2.plot(xN7,yN7,label='7',color=blue[1],linewidth=0.75)\n",
    "    # ax2.plot(xN9,yN9,label='9',color=blue[1],linewidth=0.75)\n",
    "    # ax2.plot(xN11,yN11,label='11',color=blue[1],linewidth=0.75)\n",
    "    # ax2.plot(xN13,yN13,label='13',color=blue[1],linewidth=0.75)\n",
    "    # ax2.plot(xN15,yN15,label='15',color=blue[1],linewidth=0.75)\n",
    "    # ax2.plot(xN15dmrg,yN15dmrg,label='15',color=blue[2],linewidth=0.75)\n",
    "    # ax2.plot(xN17dmrg,yN17dmrg,label='17',color=blue[2],linewidth=0.75)\n",
    "    # ax2.plot(xN21dmrg,yN21dmrg,label='21',color=blue[2],linewidth=0.75)\n",
    "    # ax2.plot(xN25dmrg,yN25dmrg,label='25',color=blue[2],linewidth=0.75)\n",
    "    # ax2.plot(xN29dmrg,yN29dmrg,label='29',color=blue[2],linewidth=0.75)\n",
    "    # ax2.plot(xN37dmrg,yN37dmrg,label='37',color=blue[2],linewidth=0.75)\n",
    "    # ax2.plot(xN49dmrg,yN49dmrg,label='49',color=blue[2],linewidth=0.75)\n",
    "    \n",
    "    # Save figure\n",
    "    plt.savefig(\"../figures/boundaryLaw_N1024.pdf\",dpi=400)\n",
    "    plt.savefig(\"../figures/boundaryLaw_N1024.svg\",dpi=400)\n",
    "    \n",
    "    # Save to paper repo\n",
    "    plt.savefig(\"/Users/ecasiano/Desktop/papers-latticepigs/Figures/boundaryLaw_N1024.pdf\",dpi=400)\n",
    "    plt.savefig(\"/Users/ecasiano/Desktop/papers-latticepigs/Figures/boundaryLaw_N1024.svg\",dpi=400)"
   ]
  },
  {
   "cell_type": "code",
   "execution_count": 12,
   "metadata": {},
   "outputs": [
    {
     "name": "stdout",
     "output_type": "stream",
     "text": [
      "a = 0.2268 +/- 0.0082\n",
      "c = 0.4471 +/- 0.0845\n",
      "d = -0.5947 +/- 0.1080\n"
     ]
    }
   ],
   "source": [
    "print (\"a = %.4f +/- %.4f\"%(a,a_err))\n",
    "print (\"c = %.4f +/- %.4f\"%(c,c_err))\n",
    "print (\"d = %.4f +/- %.4f\"%(d,d_err))\n",
    "# print (\"g = %.4f +/- %.4f\"%(g,g_err))"
   ]
  },
  {
   "cell_type": "code",
   "execution_count": null,
   "metadata": {},
   "outputs": [],
   "source": []
  },
  {
   "cell_type": "code",
   "execution_count": null,
   "metadata": {},
   "outputs": [],
   "source": []
  },
  {
   "cell_type": "code",
   "execution_count": null,
   "metadata": {},
   "outputs": [],
   "source": []
  },
  {
   "cell_type": "code",
   "execution_count": null,
   "metadata": {},
   "outputs": [],
   "source": []
  },
  {
   "cell_type": "code",
   "execution_count": null,
   "metadata": {},
   "outputs": [],
   "source": []
  }
 ],
 "metadata": {
  "kernelspec": {
   "display_name": "Python 3",
   "language": "python",
   "name": "python3"
  },
  "language_info": {
   "codemirror_mode": {
    "name": "ipython",
    "version": 3
   },
   "file_extension": ".py",
   "mimetype": "text/x-python",
   "name": "python",
   "nbconvert_exporter": "python",
   "pygments_lexer": "ipython3",
   "version": "3.8.5"
  }
 },
 "nbformat": 4,
 "nbformat_minor": 4
}
