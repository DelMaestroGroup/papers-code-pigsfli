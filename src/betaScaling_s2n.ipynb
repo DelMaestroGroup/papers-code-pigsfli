{
 "cells": [
  {
   "cell_type": "code",
   "execution_count": 1,
   "metadata": {},
   "outputs": [],
   "source": [
    "import numpy as np\n",
    "import matplotlib.pyplot as plt"
   ]
  },
  {
   "cell_type": "code",
   "execution_count": 2,
   "metadata": {},
   "outputs": [],
   "source": [
    "colors = ['salmon','dodgerblue','mediumseagreen']\n",
    "colors = ['#FFA0A0','#1e90ff','#3cb371']\n",
    "colors_light = ['#FFEDED','#6BDDFF','#89FFBE']"
   ]
  },
  {
   "cell_type": "markdown",
   "metadata": {},
   "source": [
    "# Find maximal sectors and neighbors at each interaction regime"
   ]
  },
  {
   "cell_type": "markdown",
   "metadata": {},
   "source": [
    "### U/t = 0.5"
   ]
  },
  {
   "cell_type": "code",
   "execution_count": 3,
   "metadata": {},
   "outputs": [],
   "source": [
    "data_Pn_SF = np.loadtxt('../ProcessedData/1D_8_8_4_0.500000_1.000000_betas_10000_Pn.dat')\n",
    "data_PnErr_SF = np.loadtxt('../ProcessedData/1D_8_8_4_0.500000_1.000000_betas_10000_PnErr.dat')"
   ]
  },
  {
   "cell_type": "code",
   "execution_count": 44,
   "metadata": {},
   "outputs": [],
   "source": [
    "bins=np.arange(data_Pn_SF[-1][:-1].shape[0])\n",
    "Pns_SF = data_Pn_SF[-1][:-1]"
   ]
  },
  {
   "cell_type": "code",
   "execution_count": 45,
   "metadata": {},
   "outputs": [
    {
     "data": {
      "image/png": "[encoded data removed]",
      "text/plain": [
       "<Figure size 432x288 with 1 Axes>"
      ]
     },
     "metadata": {
      "needs_background": "light"
     },
     "output_type": "display_data"
    }
   ],
   "source": [
    "plt.bar(bins,Pns_SF)\n",
    "plt.ylabel(r\"$P_n$\")\n",
    "plt.xlabel(\"$n$\");"
   ]
  },
  {
   "cell_type": "code",
   "execution_count": 6,
   "metadata": {},
   "outputs": [
    {
     "name": "stdout",
     "output_type": "stream",
     "text": [
      "3 4 5\n"
     ]
    }
   ],
   "source": [
    "# Extract index of maximal sector and neighbors\n",
    "n_max_SF = np.argmax(Pns)\n",
    "n_max_minus_one_SF = n_max_SF-1\n",
    "n_max_plus_one_SF = n_max_SF+1\n",
    "print(n_max_minus_one_SF,n_max_SF,n_max_plus_one_SF)"
   ]
  },
  {
   "cell_type": "markdown",
   "metadata": {},
   "source": [
    "### U/t = 3.3"
   ]
  },
  {
   "cell_type": "code",
   "execution_count": 7,
   "metadata": {},
   "outputs": [],
   "source": [
    "data_Pn_PT = np.loadtxt('../ProcessedData/1D_8_8_4_3.300000_1.000000_betas_10000_Pn.dat')\n",
    "data_PnErr_PT = np.loadtxt('../ProcessedData/1D_8_8_4_3.300000_1.000000_betas_10000_PnErr.dat')"
   ]
  },
  {
   "cell_type": "code",
   "execution_count": 46,
   "metadata": {},
   "outputs": [],
   "source": [
    "bins = np.arange(data_Pn_PT[-1][:-1].shape[0])\n",
    "Pns_PT = data_Pn_PT[-1][:-1]"
   ]
  },
  {
   "cell_type": "code",
   "execution_count": 47,
   "metadata": {},
   "outputs": [
    {
     "data": {
      "image/png": "[encoded data removed]",
      "text/plain": [
       "<Figure size 432x288 with 1 Axes>"
      ]
     },
     "metadata": {
      "needs_background": "light"
     },
     "output_type": "display_data"
    }
   ],
   "source": [
    "plt.bar(bins,Pns_PT)\n",
    "plt.ylabel(r\"$P_n$\")\n",
    "plt.xlabel(\"$n$\");"
   ]
  },
  {
   "cell_type": "code",
   "execution_count": 10,
   "metadata": {},
   "outputs": [
    {
     "name": "stdout",
     "output_type": "stream",
     "text": [
      "3 4 5\n"
     ]
    }
   ],
   "source": [
    "# Extract index of maximal sector and neighbors\n",
    "n_max_PT = np.argmax(Pns)\n",
    "n_max_minus_one_PT = n_max_PT-1\n",
    "n_max_plus_one_PT = n_max_PT+1\n",
    "print(n_max_minus_one_PT,n_max_PT,n_max_plus_one_PT)"
   ]
  },
  {
   "cell_type": "markdown",
   "metadata": {},
   "source": [
    "### U/t = 10.0"
   ]
  },
  {
   "cell_type": "code",
   "execution_count": 11,
   "metadata": {},
   "outputs": [],
   "source": [
    "data_Pn_MOTT = np.loadtxt('../ProcessedData/1D_8_8_4_10.000000_1.000000_betas_10000_Pn.dat')\n",
    "data_PnErr_MOTT = np.loadtxt('../ProcessedData/1D_8_8_4_10.000000_1.000000_betas_10000_PnErr.dat')"
   ]
  },
  {
   "cell_type": "code",
   "execution_count": 48,
   "metadata": {},
   "outputs": [],
   "source": [
    "bins = np.arange(data_Pn_MOTT[-1][:-1].shape[0])\n",
    "Pns_MOTT = data_Pn_MOTT[-1][:-1]"
   ]
  },
  {
   "cell_type": "code",
   "execution_count": 49,
   "metadata": {},
   "outputs": [
    {
     "data": {
      "image/png": "[encoded data removed]",
      "text/plain": [
       "<Figure size 432x288 with 1 Axes>"
      ]
     },
     "metadata": {
      "needs_background": "light"
     },
     "output_type": "display_data"
    }
   ],
   "source": [
    "plt.bar(bins,Pns_MOTT)\n",
    "plt.ylabel(r\"$P_n$\")\n",
    "plt.xlabel(\"$n$\");"
   ]
  },
  {
   "cell_type": "code",
   "execution_count": 14,
   "metadata": {},
   "outputs": [
    {
     "name": "stdout",
     "output_type": "stream",
     "text": [
      "3 4 5\n"
     ]
    }
   ],
   "source": [
    "# Extract index of maximal sector and neighbors\n",
    "n_max_MOTT = np.argmax(Pns)\n",
    "n_max_minus_one_MOTT = n_max_MOTT-1\n",
    "n_max_plus_one_MOTT = n_max_MOTT+1\n",
    "print(n_max_minus_one_MOTT,n_max_MOTT,n_max_plus_one_MOTT)"
   ]
  },
  {
   "cell_type": "markdown",
   "metadata": {},
   "source": [
    "# Compute symmetry-resolves $s2$ at maximal sector and neighbors"
   ]
  },
  {
   "cell_type": "code",
   "execution_count": 15,
   "metadata": {},
   "outputs": [],
   "source": [
    "# Exact s2ns from ED\n",
    "\n",
    "# U/t = 10.0\n",
    "S2_MOTT_exact_n_max_minus_one = 0.6135295673237664    # n_max - 1\n",
    "S2_MOTT_exact_n_max = 0.0018791297954356273 # n_max\n",
    "S2_MOTT_exact_n_max_plus_one = 0.6135295673237664    # n_max + 1\n",
    "\n",
    "# U/t = 3.3\n",
    "S2_PT_exact_n_max_minus_one = 0.06474163837725201     # n_max - 1\n",
    "S2_PT_exact_n_max = 0.033246466194755984    # n_max\n",
    "S2_PT_exact_n_max_plus_one = 0.06474163837725105     # n_max + 1\n",
    "\n",
    "# U/t = 0.5\n",
    "S2_SF_exact_n_max_minus_one = 0.012570048863343427    # n_max - 1\n",
    "S2_SF_exact_n_max = 0.013351796072083756    # n_max\n",
    "S2_SF_exact_n_max_plus_one = 0.012570048863343876    # n_max + 1"
   ]
  },
  {
   "cell_type": "code",
   "execution_count": 27,
   "metadata": {},
   "outputs": [],
   "source": [
    "# U/t=10.0\n",
    "data_MOTT = np.loadtxt('../ProcessedData/1D_8_8_4_10.000000_1.000000_betas_10000_s2n.dat')\n",
    "data_MOTT_Err = np.loadtxt('../ProcessedData/1D_8_8_4_10.000000_1.000000_betas_10000_s2nErr.dat')\n",
    "betas = data_MOTT[:,-1]\n",
    "\n",
    "S2_MOTT_n_max_minus_one = data_MOTT[:,n_max_minus_one_MOTT]\n",
    "S2Err_MOTT_n_max_minus_one = data_MOTT_Err[:,n_max_minus_one_MOTT]\n",
    "\n",
    "S2_MOTT_n_max = data_MOTT[:,n_max_MOTT]\n",
    "S2Err_MOTT_n_max = data_MOTT_Err[:,n_max_MOTT]\n",
    "\n",
    "S2_MOTT_n_max_plus_one = data_MOTT[:,n_max_plus_one_MOTT]\n",
    "S2Err_MOTT_n_max_plus_one = data_MOTT_Err[:,n_max_plus_one_MOTT]\n",
    "\n",
    "# U/t=3.3\n",
    "data_PT = np.loadtxt('../ProcessedData/1D_8_8_4_3.300000_1.000000_betas_10000_s2n.dat')\n",
    "data_PT_Err = np.loadtxt('../ProcessedData/1D_8_8_4_3.300000_1.000000_betas_10000_s2nErr.dat')\n",
    "\n",
    "S2_PT_n_max_minus_one = data_PT[:,n_max_minus_one_PT]\n",
    "S2Err_PT_n_max_minus_one = data_PT_Err[:,n_max_minus_one_PT]\n",
    "\n",
    "S2_PT_n_max = data_PT[:,n_max_PT]\n",
    "S2Err_PT_n_max = data_PT_Err[:,n_max_PT]\n",
    "\n",
    "S2_PT_n_max_plus_one = data_PT[:,n_max_plus_one_PT]\n",
    "S2Err_PT_n_max_plus_one = data_PT_Err[:,n_max_plus_one_PT]\n",
    "\n",
    "# U/t=0.5\n",
    "data_SF = np.loadtxt('../ProcessedData/1D_8_8_4_0.500000_1.000000_betas_10000_s2n.dat')\n",
    "data_SF_Err = np.loadtxt('../ProcessedData/1D_8_8_4_0.500000_1.000000_betas_10000_s2nErr.dat')\n",
    "\n",
    "S2_SF_n_max_minus_one = data_SF[:,n_max_minus_one_SF]\n",
    "S2Err_SF_n_max_minus_one = data_SF_Err[:,n_max_minus_one_SF]\n",
    "\n",
    "S2_SF_n_max = data_SF[:,n_max_SF]\n",
    "S2Err_SF_n_max = data_SF_Err[:,n_max_SF]\n",
    "\n",
    "S2_SF_n_max_plus_one = data_SF[:,n_max_plus_one_SF]\n",
    "S2Err_SF_n_max_plus_one = data_SF_Err[:,n_max_plus_one_SF]"
   ]
  },
  {
   "cell_type": "code",
   "execution_count": 130,
   "metadata": {},
   "outputs": [
    {
     "data": {
      "image/png": "[encoded data removed]",
      "text/plain": [
       "<Figure size 583.711x412.289 with 12 Axes>"
      ]
     },
     "metadata": {
      "needs_background": "light"
     },
     "output_type": "display_data"
    }
   ],
   "source": [
    "with plt.style.context('../IOP_large.mplstyle3'):\n",
    "\n",
    "    fig,ax = plt.subplots(3,4,sharex=False)\n",
    "    \n",
    "    # Assign labels to subaxes in ax\n",
    "    ax0 = ax[0,0]\n",
    "    ax1 = ax[0,1]\n",
    "    ax2 = ax[0,2]\n",
    "    \n",
    "    ax3 = ax[1,0]\n",
    "    ax4 = ax[1,1]\n",
    "    ax5 = ax[1,2]\n",
    "    \n",
    "    ax6 = ax[2,0]\n",
    "    ax7 = ax[2,1]\n",
    "    ax8 = ax[2,2]\n",
    "    \n",
    "    # Histograms\n",
    "    ax9 = ax[0,-1]\n",
    "    ax10 = ax[1,-1]\n",
    "    ax11 = ax[2,-1]\n",
    "\n",
    "    # U/t=10.0\n",
    "    \n",
    "    ax0.errorbar(betas,S2_MOTT_n_max_minus_one, yerr=S2Err_MOTT_n_max_minus_one, fmt='.', capsize=5,\n",
    "                label=r'$U/t=10.0$',color=colors[0],mfc=colors_light[0],marker='s',zorder=2)\n",
    "    ax0.axhline(S2_MOTT_exact_n_max_minus_one,color=colors[0])\n",
    "    ax0.tick_params(direction='in',which='both')\n",
    "    ax0.set_ylabel(r'$\\langle S_2(\\rho_{A_n}) \\rangle$')\n",
    "    ax0.set_xlabel(r'')\n",
    "    ax0.set_xlim(betas[0]-betas[-1]*.05,betas[-1]+betas[-1]*.05)\n",
    "    ax0.set_xticks([betas[0],3.0,6.0])\n",
    "    ax0.xaxis.set_ticklabels([])\n",
    "    ax0.annotate(r\"$n_{\\rm{max}}-1$\",(0.40,0.35),xycoords='axes fraction')\n",
    "\n",
    "    \n",
    "    ax1.errorbar(betas,S2_MOTT_n_max, yerr=S2Err_MOTT_n_max, fmt='.', capsize=5,\n",
    "                label=r'$U/t=10.0$',color=colors[0],mfc=colors_light[0],marker='s',zorder=2)\n",
    "    ax1.axhline(S2_MOTT_exact_n_max,color=colors[0])\n",
    "    ax1.tick_params(direction='in',which='both')\n",
    "    ax1.set_xlabel(r'')\n",
    "    ax1.set_xlim(betas[0]-betas[-1]*.05,betas[-1]+betas[-1]*.05)\n",
    "    ax1.set_xticks([betas[0],3.0,6.0])\n",
    "    ax1.xaxis.set_ticklabels([])\n",
    "    ax1.annotate(r\"$n_{\\rm{max}}$\",(0.40,0.35),xycoords='axes fraction')\n",
    "\n",
    "    \n",
    "    ax2.errorbar(betas,S2_MOTT_n_max_plus_one, yerr=S2Err_MOTT_n_max_plus_one, fmt='.', capsize=5,\n",
    "                label=r'$U/t=10.0$',color=colors[0],mfc=colors_light[0],marker='s',zorder=2)\n",
    "    ax2.axhline(S2_MOTT_exact_n_max_plus_one,color=colors[0])\n",
    "    ax2.tick_params(direction='in',which='both')\n",
    "    ax2.set_xlabel(r'')\n",
    "    ax2.set_xlim(betas[0]-betas[-1]*.05,betas[-1]+betas[-1]*.05)\n",
    "    ax2.set_xticks([betas[0],3.0,6.0])\n",
    "    ax2.xaxis.set_ticklabels([])\n",
    "    ax2.annotate(r\"$n_{\\rm{max}}+1$\",(0.40,0.35),xycoords='axes fraction')\n",
    "    \n",
    "    # U/t=3.3\n",
    "    ax3.errorbar(betas,S2_PT_n_max_minus_one, yerr=S2Err_PT_n_max_minus_one, fmt='.', capsize=5,\n",
    "                label=r'$U/t=10.0$',color=colors[1],mfc=colors_light[1],marker='s',zorder=2)\n",
    "    ax3.axhline(S2_PT_exact_n_max_minus_one,color=colors[1])\n",
    "    ax3.tick_params(direction='in',which='both')\n",
    "    ax3.set_ylabel(r'$\\langle S_2(\\rho_{A_n}) \\rangle$')\n",
    "    ax3.set_xlabel(r'')\n",
    "    ax3.set_xlim(betas[0]-betas[-1]*.05,betas[-1]+betas[-1]*.05)\n",
    "    ax3.set_xticks([betas[0],3.0,6.0])\n",
    "    ax3.xaxis.set_ticklabels([])\n",
    "    ax3.annotate(r\"$n_{\\rm{max}}-1$\",(0.40,0.30),xycoords='axes fraction')\n",
    "    \n",
    "    ax4.errorbar(betas,S2_PT_n_max, yerr=S2Err_PT_n_max, fmt='.', capsize=5,\n",
    "                label=r'$U/t=10.0$',color=colors[1],mfc=colors_light[1],marker='s',zorder=2)\n",
    "    ax4.axhline(S2_PT_exact_n_max,color=colors[1])\n",
    "    ax4.tick_params(direction='in',which='both')\n",
    "    ax4.set_xlabel(r'')\n",
    "    ax4.set_xlim(betas[0]-betas[-1]*.05,betas[-1]+betas[-1]*.05)\n",
    "    ax4.set_xticks([betas[0],3.0,6.0])\n",
    "    ax4.xaxis.set_ticklabels([])\n",
    "    ax4.annotate(r\"$n_{\\rm{max}}$\",(0.40,0.30),xycoords='axes fraction')\n",
    "   \n",
    "    ax5.errorbar(betas,S2_PT_n_max_plus_one, yerr=S2Err_PT_n_max_plus_one, fmt='.', capsize=5,\n",
    "                label=r'$U/t=10.0$',color=colors[1],mfc=colors_light[1],marker='s',zorder=2)\n",
    "    ax5.axhline(S2_PT_exact_n_max_plus_one,color=colors[1])\n",
    "    ax5.tick_params(direction='in',which='both')\n",
    "    ax5.set_xlabel(r'')\n",
    "    ax5.set_xlim(betas[0]-betas[-1]*.05,betas[-1]+betas[-1]*.05)\n",
    "    ax5.set_xticks([betas[0],3.0,6.0])\n",
    "    ax5.xaxis.set_ticklabels([])\n",
    "    ax5.annotate(r\"$n_{\\rm{max}}+1$\",(0.40,0.30),xycoords='axes fraction')\n",
    "    \n",
    "    # U/t=0.5\n",
    "    ax6.errorbar(betas,S2_SF_n_max_minus_one, yerr=S2Err_SF_n_max_minus_one, fmt='.', capsize=5,\n",
    "                label=r'$U/t=10.0$',color=colors[2],mfc=colors_light[2],marker='s',zorder=2)\n",
    "    ax6.axhline(S2_SF_exact_n_max_minus_one,color=colors[2])\n",
    "    ax6.tick_params(direction='in',which='both')\n",
    "    ax6.set_ylabel(r'$\\langle S_2(\\rho_{A_n}) \\rangle$')\n",
    "    ax6.set_xlabel(r'$\\beta$')\n",
    "    ax6.set_xlim(betas[0]-betas[-1]*.05,betas[-1]+betas[-1]*.05)\n",
    "    ax6.set_xticks([betas[0],3.0,6.0])\n",
    "    ax6.annotate(r\"$n_{\\rm{max}}-1$\",(0.40,0.30),xycoords='axes fraction')\n",
    "    # ax6.legend()\n",
    "    \n",
    "    ax7.errorbar(betas,S2_SF_n_max, yerr=S2Err_SF_n_max, fmt='.', capsize=5,\n",
    "                label=r'$U/t=10.0$',color=colors[2],mfc=colors_light[2],marker='s',zorder=2)\n",
    "    ax7.axhline(S2_SF_exact_n_max,color=colors[2])\n",
    "    ax7.tick_params(direction='in',which='both')\n",
    "    ax7.set_xlabel(r'$\\beta$')\n",
    "    ax7.set_xlim(betas[0]-betas[-1]*.05,betas[-1]+betas[-1]*.05)\n",
    "    ax7.set_xticks([betas[0],3.0,6.0])\n",
    "    ax7.annotate(r\"$n_{\\rm{max}}$\",(0.40,0.30),xycoords='axes fraction')\n",
    "    \n",
    "    ax8.errorbar(betas,S2_SF_n_max_plus_one, yerr=S2Err_SF_n_max_plus_one, fmt='.', capsize=5,\n",
    "                label=r'$U/t=10.0$',color=colors[2],mfc=colors_light[2],marker='s',zorder=2)\n",
    "    ax8.axhline(S2_SF_exact_n_max_plus_one,color=colors[2])\n",
    "    ax8.tick_params(direction='in',which='both')\n",
    "    ax8.set_xlabel(r'$\\beta$')\n",
    "    ax8.set_xlim(betas[0]-betas[-1]*.05,betas[-1]+betas[-1]*.05)\n",
    "    ax8.set_xticks([betas[0],3.0,6.0])\n",
    "    ax8.annotate(r\"$n_{\\rm{max}}+1$\",(0.40,0.30),xycoords='axes fraction')\n",
    "\n",
    "    # Plot probability distribution histograms\n",
    "    ax9.bar(bins,Pns_MOTT,color=colors[0],zorder=10)\n",
    "    ax9.set_ylabel(r\"$P_n$\")\n",
    "    ax9.set_xlabel(r\"$n$\");\n",
    "    ax9.tick_params(direction='in',which='both')\n",
    "    ax9.set_xticks([0,4,8])\n",
    "    ax9.xaxis.set_ticklabels([])\n",
    "    ax9.annotate(r\"$\\frac{U}{t}=10$\",(0.55,0.76),xycoords='axes fraction')\n",
    "    # ax9.yaxis.tick_right()\n",
    "\n",
    "    # ax9.set_xti\n",
    "    \n",
    "    ax10.bar(bins,Pns_PT,color=colors[1],zorder=10)\n",
    "    ax10.set_ylabel(r\"$P_n$\")\n",
    "    ax10.set_xlabel(r\"$n$\");\n",
    "    ax10.tick_params(direction='in',which='both')\n",
    "    ax10.set_xticks([0,4,8])\n",
    "    ax10.xaxis.set_ticklabels([])\n",
    "    ax10.annotate(r\"$\\frac{U}{t}=3.3$\",(0.55,0.76),xycoords='axes fraction')\n",
    "\n",
    "    ax11.bar(bins,Pns_SF,color=colors[2],zorder=10)\n",
    "    ax11.set_ylabel(r\"$P_n$\")\n",
    "    ax11.set_xlabel(r\"$n$\");\n",
    "    ax11.tick_params(direction='in',which='both')\n",
    "    ax11.set_xticks([0,4,8])\n",
    "    ax11.annotate(r\"$\\frac{U}{t}=0.5$\",(0.55,0.76),xycoords='axes fraction')\n",
    "\n",
    "    \n",
    "    # Adjust vertical space between subplots\n",
    "    fig.subplots_adjust(hspace=0.023)\n",
    "    fig.subplots_adjust(wspace=0.42)\n",
    "\n",
    "    # Save figure\n",
    "    plt.savefig(\"../figures/symmetry_resolved_s2_vs_beta.pdf\",dpi=400)\n",
    "    plt.savefig(\"../figures/symmetry_resolved_s2_vs_beta.svg\",dpi=400)\n",
    "    \n",
    "    # Save to paper repo\n",
    "    plt.savefig(\"/Users/ecasiano/Desktop/papers-latticepigs/figures/symmetry_resolved_s2_vs_beta.pdf\",dpi=400)\n",
    "    plt.savefig(\"/Users/ecasiano/Desktop/papers-latticepigs/figures/symmetry_resolved_s2_vs_beta.svg\",dpi=400)"
   ]
  }
 ],
 "metadata": {
  "kernelspec": {
   "display_name": "Python 3",
   "language": "python",
   "name": "python3"
  },
  "language_info": {
   "codemirror_mode": {
    "name": "ipython",
    "version": 3
   },
   "file_extension": ".py",
   "mimetype": "text/x-python",
   "name": "python",
   "nbconvert_exporter": "python",
   "pygments_lexer": "ipython3",
   "version": "3.8.5"
  }
 },
 "nbformat": 4,
 "nbformat_minor": 4
}
