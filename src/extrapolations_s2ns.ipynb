{
 "cells": [
  {
   "cell_type": "markdown",
   "metadata": {},
   "source": [
    "### 3-parameter exponential fitted $\\beta$-scaling"
   ]
  },
  {
   "cell_type": "markdown",
   "metadata": {},
   "source": [
    "Want to fit observable data as a function of $\\beta$ to the form:\n",
    "$$\n",
    "\\mathcal{O}(\\beta) = \\mathcal{O}_{\\beta\\to\\infty} + C_1 e^{-C_2 \\beta}\n",
    "$$"
   ]
  },
  {
   "cell_type": "markdown",
   "metadata": {},
   "source": [
    "where $\\mathcal{O}_{\\beta\\to\\infty}$,$C_1$, and $C_2$ are fitting parameters. The $\\mathcal{O}_{\\beta\\to\\infty}$ parameter will give a large $\\beta$ extrapolation of the observable in question. Here, we will focus on the second Rényi entanglement entropy $S_2$."
   ]
  },
  {
   "cell_type": "code",
   "execution_count": 101,
   "metadata": {},
   "outputs": [],
   "source": [
    "import numpy as np\n",
    "import matplotlib.pyplot as plt\n",
    "import scipy \n",
    "from scipy import optimize\n",
    "from IPython import display"
   ]
  },
  {
   "cell_type": "markdown",
   "metadata": {},
   "source": [
    "Define the exponential model"
   ]
  },
  {
   "cell_type": "code",
   "execution_count": 102,
   "metadata": {},
   "outputs": [],
   "source": [
    "def exponential(x, c1, c2, c3):\n",
    "    return c1*np.exp(-x*c2) + c3"
   ]
  },
  {
   "cell_type": "markdown",
   "metadata": {},
   "source": [
    "Feed data points (obtained from a separate script)"
   ]
  },
  {
   "cell_type": "code",
   "execution_count": 103,
   "metadata": {},
   "outputs": [],
   "source": [
    "# Us = np.array([3.300000])"
   ]
  },
  {
   "cell_type": "code",
   "execution_count": 104,
   "metadata": {},
   "outputs": [],
   "source": [
    "# Define data points\n",
    "betas = np.array([4,6,8,12,16,24,32])\n",
    "# betas = np.array([4,6,8,12,24])\n",
    "num_betas = betas.size"
   ]
  },
  {
   "cell_type": "code",
   "execution_count": 105,
   "metadata": {},
   "outputs": [],
   "source": [
    "# Array where extrapolated S2s will be saved to\n",
    "extrapolated_S2s = np.zeros(num_betas)\n",
    "extrapolated_S2s_err = np.zeros(num_betas)"
   ]
  },
  {
   "cell_type": "code",
   "execution_count": 106,
   "metadata": {},
   "outputs": [],
   "source": [
    "L = 64\n",
    "N = 64\n",
    "D = 1\n",
    "bin_size = 10000\n",
    "U = 3.3"
   ]
  },
  {
   "cell_type": "code",
   "execution_count": 107,
   "metadata": {},
   "outputs": [],
   "source": [
    "ℓs = np.arange(1,L//2+1)"
   ]
  },
  {
   "cell_type": "code",
   "execution_count": 108,
   "metadata": {},
   "outputs": [],
   "source": [
    "s2ns = np.zeros((L//2,num_betas,N+1))\n",
    "s2nsErr = np.zeros((L//2,num_betas,N+1))"
   ]
  },
  {
   "cell_type": "code",
   "execution_count": 109,
   "metadata": {},
   "outputs": [],
   "source": [
    "# Initialize arrays that will store n-resolved s2s for every β and ℓ\n",
    "s2ns_max = np.zeros((L//2,num_betas,N+1))\n",
    "s2ns_max_minus_one = np.zeros((L//2,num_betas,N+1))\n",
    "s2ns_max_plus_one = np.zeros((L//2,num_betas,N+1))\n",
    "\n",
    "s2nsErr_max = np.zeros((L//2,num_betas,N+1))\n",
    "s2nsErr_max_minus_one = np.zeros((L//2,num_betas,N+1))\n",
    "s2nsErr_max_plus_one = np.zeros((L//2,num_betas,N+1))"
   ]
  },
  {
   "cell_type": "code",
   "execution_count": 110,
   "metadata": {},
   "outputs": [],
   "source": [
    "n_maxs = np.zeros_like(ℓs,dtype=int) # n_max for each partition size. "
   ]
  },
  {
   "cell_type": "code",
   "execution_count": null,
   "metadata": {},
   "outputs": [],
   "source": []
  },
  {
   "cell_type": "code",
   "execution_count": 111,
   "metadata": {},
   "outputs": [],
   "source": [
    "for ℓ in ℓs:\n",
    "\n",
    "    # Find local particle number sector with maximum probability\n",
    "    Pn = np.loadtxt(\"../ProcessedData/1D_\"+str(L)+\"_\"+str(N)+\"_\"+str(ℓ)+\"_3.300000_1.000000_betas_\"+str(bin_size)+\"_Pn.dat\")[:,1:] # first column is β\n",
    "    n_max = np.argmax(Pn[-1]) # Pn has same shape for all β. Can compute argmax for a fixed β values.\n",
    "    n_maxs[ℓ-1] = n_max\n",
    "\n",
    "    # Load s2n data for ℓ at various β values\n",
    "    s2n = np.loadtxt(\"../ProcessedData/1D_\"+str(L)+\"_\"+str(N)+\"_\"+str(ℓ)+\"_3.300000_1.000000_betas_\"+str(bin_size)+\"_s2n.dat\")[:,1:]\n",
    "    s2nErr = np.loadtxt(\"../ProcessedData/1D_\"+str(L)+\"_\"+str(N)+\"_\"+str(ℓ)+\"_3.300000_1.000000_betas_\"+str(bin_size)+\"_s2nErr.dat\")[:,1:]\n",
    "\n",
    "    s2ns[ℓ-1] = s2n[:,:]\n",
    "    s2nsErr[ℓ-1] = s2nErr[:,:]"
   ]
  },
  {
   "cell_type": "code",
   "execution_count": 112,
   "metadata": {},
   "outputs": [
    {
     "data": {
      "image/png": "[encoded data removed]",
      "text/plain": [
       "<Figure size 432x288 with 1 Axes>"
      ]
     },
     "metadata": {
      "needs_background": "light"
     },
     "output_type": "display_data"
    }
   ],
   "source": [
    "plt.bar(np.arange(N+1),Pn[-1],fc='lightblue',ec='dodgerblue')\n",
    "plt.ylabel(r\"$P_n$\")\n",
    "plt.xlabel(r\"$n$\")\n",
    "plt.savefig(\"/Users/ecasiano/Desktop/Pn_ugly.pdf\",dpi=300)"
   ]
  },
  {
   "cell_type": "code",
   "execution_count": 113,
   "metadata": {},
   "outputs": [],
   "source": [
    "ℓ = L//2"
   ]
  },
  {
   "cell_type": "code",
   "execution_count": 114,
   "metadata": {},
   "outputs": [],
   "source": [
    "s2nSecs_extrapolations = np.zeros(7,dtype=np.float64)\n",
    "s2nSecsErr_extrapolations = np.zeros(7,dtype=np.float64)"
   ]
  },
  {
   "cell_type": "code",
   "execution_count": 115,
   "metadata": {},
   "outputs": [
    {
     "name": "stdout",
     "output_type": "stream",
     "text": [
      "0.2880+/-0.0351\n"
     ]
    },
    {
     "data": {
      "image/png": "[encoded data removed]",
      "text/plain": [
       "<Figure size 432x288 with 1 Axes>"
      ]
     },
     "metadata": {
      "needs_background": "light"
     },
     "output_type": "display_data"
    }
   ],
   "source": [
    "# n_max-3\n",
    "U = 3.3\n",
    "y_array_exp = s2ns[ℓ-1,:,n_maxs[ℓ-1]-3]\n",
    "sigmas = s2nsErr[ℓ-1,:,n_maxs[ℓ-1]-3]\n",
    "fit_start = 0\n",
    "fit_stop = num_betas\n",
    "\n",
    "# Perform 3-parameter exponential fit\n",
    "popt_exponential, pcov_exponential = scipy.optimize.curve_fit(exponential, betas[fit_start:fit_stop], y_array_exp[fit_start:fit_stop],sigma=sigmas[fit_start:fit_stop],\n",
    "                                                             p0=[0.0,0.5,y_array_exp[-1]])\n",
    "\n",
    "\n",
    "# Extract fit parameters\n",
    "c1,c2,c3 = popt_exponential\n",
    "c1_err,c2_err,c3_err = np.sqrt(np.diag(pcov_exponential))\n",
    "\n",
    "# extrapolated_S2s[0] = c3\n",
    "# extrapolated_S2s_err[0] = c3_err\n",
    "\n",
    "# Perform the fit\n",
    "betas_fit = np.linspace(betas[fit_start],betas[fit_stop-1],1000)\n",
    "y_fit = exponential(betas_fit,c1,c2,c3)\n",
    "\n",
    "plt.plot(betas_fit,y_fit,label='fit',lw=2)\n",
    "plt.errorbar(betas,y_array_exp, yerr=sigmas,color='firebrick',marker='o',label='data',fmt='.',\n",
    "            capsize=5)\n",
    "plt.ylabel(r\"$S_2$\")\n",
    "plt.xlabel(r\"$\\beta$\")\n",
    "\n",
    "# plt.annotate(r\"$\\ell=%d$\"%(ℓ),(0.75,0.12),xycoords=\"axes fraction\")\n",
    "\n",
    "# plt.show()\n",
    "\n",
    "print(\"%.4f+/-%.4f\"%(c3,c3_err))\n",
    "\n",
    "s2nSecs_extrapolations[0] = c3\n",
    "s2nSecsErr_extrapolations[0] = c3_err"
   ]
  },
  {
   "cell_type": "code",
   "execution_count": 116,
   "metadata": {},
   "outputs": [
    {
     "name": "stdout",
     "output_type": "stream",
     "text": [
      "0.3328+/-0.0056\n"
     ]
    },
    {
     "data": {
      "image/png": "[encoded data removed]",
      "text/plain": [
       "<Figure size 432x288 with 1 Axes>"
      ]
     },
     "metadata": {
      "needs_background": "light"
     },
     "output_type": "display_data"
    }
   ],
   "source": [
    "# n_max-2\n",
    "U = 3.3\n",
    "y_array_exp = s2ns[ℓ-1,:,n_maxs[ℓ-1]-2]\n",
    "sigmas = s2nsErr[ℓ-1,:,n_maxs[ℓ-1]-2]\n",
    "fit_start = 0\n",
    "fit_stop = num_betas\n",
    "\n",
    "# Perform 3-parameter exponential fit\n",
    "popt_exponential, pcov_exponential = scipy.optimize.curve_fit(exponential, betas[fit_start:fit_stop], y_array_exp[fit_start:fit_stop],sigma=sigmas[fit_start:fit_stop],\n",
    "                                                             p0=[0.0,0.5,y_array_exp[-1]])\n",
    "\n",
    "\n",
    "# Extract fit parameters\n",
    "c1,c2,c3 = popt_exponential\n",
    "c1_err,c2_err,c3_err = np.sqrt(np.diag(pcov_exponential))\n",
    "\n",
    "# extrapolated_S2s[0] = c3\n",
    "# extrapolated_S2s_err[0] = c3_err\n",
    "\n",
    "# Perform the fit\n",
    "betas_fit = np.linspace(betas[fit_start],betas[fit_stop-1],1000)\n",
    "y_fit = exponential(betas_fit,c1,c2,c3)\n",
    "\n",
    "plt.plot(betas_fit,y_fit,label='fit',lw=2)\n",
    "plt.errorbar(betas,y_array_exp, yerr=sigmas,color='firebrick',marker='o',label='data',fmt='.',\n",
    "            capsize=5)\n",
    "plt.ylabel(r\"$S_2$\")\n",
    "plt.xlabel(r\"$\\beta$\")\n",
    "\n",
    "# plt.annotate(r\"$\\ell=%d$\"%(ℓ),(0.75,0.12),xycoords=\"axes fraction\")\n",
    "\n",
    "# plt.show()\n",
    "\n",
    "print(\"%.4f+/-%.4f\"%(c3,c3_err))\n",
    "\n",
    "s2nSecs_extrapolations[1] = c3\n",
    "s2nSecsErr_extrapolations[1] = c3_err"
   ]
  },
  {
   "cell_type": "code",
   "execution_count": 117,
   "metadata": {},
   "outputs": [
    {
     "name": "stdout",
     "output_type": "stream",
     "text": [
      "0.3177+/-0.0011\n"
     ]
    },
    {
     "data": {
      "image/png": "[encoded data removed]",
      "text/plain": [
       "<Figure size 432x288 with 1 Axes>"
      ]
     },
     "metadata": {
      "needs_background": "light"
     },
     "output_type": "display_data"
    }
   ],
   "source": [
    "# n_max-1\n",
    "U = 3.3\n",
    "y_array_exp = s2ns[ℓ-1,:,n_maxs[ℓ-1]-1]\n",
    "sigmas = s2nsErr[ℓ-1,:,n_maxs[ℓ-1]-1]\n",
    "fit_start = 0\n",
    "fit_stop = num_betas\n",
    "\n",
    "# Perform 3-parameter exponential fit\n",
    "popt_exponential, pcov_exponential = scipy.optimize.curve_fit(exponential, betas[fit_start:fit_stop], y_array_exp[fit_start:fit_stop],sigma=sigmas[fit_start:fit_stop],\n",
    "                                                             p0=[0.0,0.5,y_array_exp[-1]])\n",
    "\n",
    "\n",
    "# Extract fit parameters\n",
    "c1,c2,c3 = popt_exponential\n",
    "c1_err,c2_err,c3_err = np.sqrt(np.diag(pcov_exponential))\n",
    "\n",
    "# extrapolated_S2s[0] = c3\n",
    "# extrapolated_S2s_err[0] = c3_err\n",
    "\n",
    "# Perform the fit\n",
    "betas_fit = np.linspace(betas[fit_start],betas[fit_stop-1],1000)\n",
    "y_fit = exponential(betas_fit,c1,c2,c3)\n",
    "\n",
    "plt.plot(betas_fit,y_fit,label='fit',lw=2)\n",
    "plt.errorbar(betas,y_array_exp, yerr=sigmas,color='firebrick',marker='o',label='data',fmt='.',\n",
    "            capsize=5)\n",
    "plt.ylabel(r\"$S_2$\")\n",
    "plt.xlabel(r\"$\\beta$\")\n",
    "\n",
    "# plt.annotate(r\"$\\ell=%d$\"%(ℓ),(0.75,0.12),xycoords=\"axes fraction\")\n",
    "\n",
    "# plt.show()\n",
    "\n",
    "print(\"%.4f+/-%.4f\"%(c3,c3_err))\n",
    "\n",
    "s2nSecs_extrapolations[2] = c3\n",
    "s2nSecsErr_extrapolations[2] = c3_err"
   ]
  },
  {
   "cell_type": "code",
   "execution_count": 118,
   "metadata": {},
   "outputs": [
    {
     "name": "stdout",
     "output_type": "stream",
     "text": [
      "0.2534+/-0.0015\n"
     ]
    },
    {
     "data": {
      "image/png": "[encoded data removed]",
      "text/plain": [
       "<Figure size 432x288 with 1 Axes>"
      ]
     },
     "metadata": {
      "needs_background": "light"
     },
     "output_type": "display_data"
    }
   ],
   "source": [
    "# n_max\n",
    "U = 3.3\n",
    "y_array_exp = s2ns[ℓ-1,:,n_maxs[ℓ-1]]\n",
    "sigmas = s2nsErr[ℓ-1,:,n_maxs[ℓ-1]]\n",
    "fit_start = 1\n",
    "fit_stop = num_betas\n",
    "\n",
    "# Perform 3-parameter exponential fit\n",
    "popt_exponential, pcov_exponential = scipy.optimize.curve_fit(exponential, betas[fit_start:fit_stop], y_array_exp[fit_start:fit_stop],sigma=sigmas[fit_start:fit_stop],\n",
    "                                                             p0=[0.0,0.5,y_array_exp[-1]])\n",
    "\n",
    "\n",
    "# Extract fit parameters\n",
    "c1,c2,c3 = popt_exponential\n",
    "c1_err,c2_err,c3_err = np.sqrt(np.diag(pcov_exponential))\n",
    "\n",
    "# extrapolated_S2s[0] = c3\n",
    "# extrapolated_S2s_err[0] = c3_err\n",
    "\n",
    "# Perform the fit\n",
    "betas_fit = np.linspace(betas[fit_start],betas[fit_stop-1],1000)\n",
    "y_fit = exponential(betas_fit,c1,c2,c3)\n",
    "\n",
    "plt.plot(betas_fit,y_fit,label='fit',lw=2)\n",
    "plt.errorbar(betas,y_array_exp, yerr=sigmas,color='firebrick',marker='o',label='data',fmt='.',\n",
    "            capsize=5)\n",
    "plt.ylabel(r\"$S_2$\")\n",
    "plt.xlabel(r\"$\\beta$\")\n",
    "\n",
    "# plt.annotate(r\"$\\ell=%d$\"%(ℓ),(0.75,0.12),xycoords=\"axes fraction\")\n",
    "\n",
    "# plt.show()\n",
    "\n",
    "print(\"%.4f+/-%.4f\"%(c3,c3_err))\n",
    "\n",
    "s2nSecs_extrapolations[3] = c3\n",
    "s2nSecsErr_extrapolations[3] = c3_err"
   ]
  },
  {
   "cell_type": "code",
   "execution_count": 119,
   "metadata": {},
   "outputs": [
    {
     "name": "stdout",
     "output_type": "stream",
     "text": [
      "0.3167+/-0.0023\n"
     ]
    },
    {
     "data": {
      "image/png": "[encoded data removed]",
      "text/plain": [
       "<Figure size 432x288 with 1 Axes>"
      ]
     },
     "metadata": {
      "needs_background": "light"
     },
     "output_type": "display_data"
    }
   ],
   "source": [
    "# n_max+1\n",
    "U = 3.3\n",
    "y_array_exp = s2ns[ℓ-1,:,n_maxs[ℓ-1]+1]\n",
    "sigmas = s2nsErr[ℓ-1,:,n_maxs[ℓ-1]+1]\n",
    "fit_start = 0\n",
    "fit_stop = num_betas\n",
    "\n",
    "# Perform 3-parameter exponential fit\n",
    "popt_exponential, pcov_exponential = scipy.optimize.curve_fit(exponential, betas[fit_start:fit_stop], y_array_exp[fit_start:fit_stop],sigma=sigmas[fit_start:fit_stop],\n",
    "                                                             p0=[0.0,0.5,y_array_exp[-1]])\n",
    "\n",
    "\n",
    "# Extract fit parameters\n",
    "c1,c2,c3 = popt_exponential\n",
    "c1_err,c2_err,c3_err = np.sqrt(np.diag(pcov_exponential))\n",
    "\n",
    "# extrapolated_S2s[0] = c3\n",
    "# extrapolated_S2s_err[0] = c3_err\n",
    "\n",
    "# Perform the fit\n",
    "betas_fit = np.linspace(betas[fit_start],betas[fit_stop-1],1000)\n",
    "y_fit = exponential(betas_fit,c1,c2,c3)\n",
    "\n",
    "plt.plot(betas_fit,y_fit,label='fit',lw=2)\n",
    "plt.errorbar(betas,y_array_exp, yerr=sigmas,color='firebrick',marker='o',label='data',fmt='.',\n",
    "            capsize=5)\n",
    "plt.ylabel(r\"$S_2$\")\n",
    "plt.xlabel(r\"$\\beta$\")\n",
    "\n",
    "# plt.annotate(r\"$\\ell=%d$\"%(ℓ),(0.75,0.12),xycoords=\"axes fraction\")\n",
    "\n",
    "# plt.show()\n",
    "\n",
    "print(\"%.4f+/-%.4f\"%(c3,c3_err))\n",
    "\n",
    "s2nSecs_extrapolations[4] = c3\n",
    "s2nSecsErr_extrapolations[4] = c3_err"
   ]
  },
  {
   "cell_type": "code",
   "execution_count": 120,
   "metadata": {},
   "outputs": [
    {
     "name": "stdout",
     "output_type": "stream",
     "text": [
      "0.3557+/-0.0170\n"
     ]
    },
    {
     "data": {
      "image/png": "[encoded data removed]",
      "text/plain": [
       "<Figure size 432x288 with 1 Axes>"
      ]
     },
     "metadata": {
      "needs_background": "light"
     },
     "output_type": "display_data"
    }
   ],
   "source": [
    "# n_max+2\n",
    "U = 3.3\n",
    "y_array_exp = s2ns[ℓ-1,:,n_maxs[ℓ-1]+2]\n",
    "sigmas = s2nsErr[ℓ-1,:,n_maxs[ℓ-1]+2]\n",
    "fit_start = 2\n",
    "fit_stop = num_betas\n",
    "\n",
    "# Perform 3-parameter exponential fit\n",
    "popt_exponential, pcov_exponential = scipy.optimize.curve_fit(exponential, betas[fit_start:fit_stop], y_array_exp[fit_start:fit_stop],sigma=sigmas[fit_start:fit_stop],\n",
    "                                                             p0=[0.0,0.5,y_array_exp[-1]])\n",
    "\n",
    "\n",
    "# Extract fit parameters\n",
    "c1,c2,c3 = popt_exponential\n",
    "c1_err,c2_err,c3_err = np.sqrt(np.diag(pcov_exponential))\n",
    "\n",
    "# extrapolated_S2s[0] = c3\n",
    "# extrapolated_S2s_err[0] = c3_err\n",
    "\n",
    "# Perform the fit\n",
    "betas_fit = np.linspace(betas[fit_start],betas[fit_stop-1],1000)\n",
    "y_fit = exponential(betas_fit,c1,c2,c3)\n",
    "\n",
    "plt.plot(betas_fit,y_fit,label='fit',lw=2)\n",
    "plt.errorbar(betas,y_array_exp, yerr=sigmas,color='firebrick',marker='o',label='data',fmt='.',\n",
    "            capsize=5)\n",
    "plt.ylabel(r\"$S_2$\")\n",
    "plt.xlabel(r\"$\\beta$\")\n",
    "\n",
    "# plt.annotate(r\"$\\ell=%d$\"%(ℓ),(0.75,0.12),xycoords=\"axes fraction\")\n",
    "\n",
    "# plt.show()\n",
    "\n",
    "print(\"%.4f+/-%.4f\"%(c3,c3_err))\n",
    "\n",
    "s2nSecs_extrapolations[5] = c3\n",
    "s2nSecsErr_extrapolations[5] = c3_err"
   ]
  },
  {
   "cell_type": "code",
   "execution_count": 121,
   "metadata": {},
   "outputs": [
    {
     "name": "stdout",
     "output_type": "stream",
     "text": [
      "0.3217+/-0.0242\n"
     ]
    },
    {
     "data": {
      "image/png": "[encoded data removed]",
      "text/plain": [
       "<Figure size 432x288 with 1 Axes>"
      ]
     },
     "metadata": {
      "needs_background": "light"
     },
     "output_type": "display_data"
    }
   ],
   "source": [
    "# n_max+3\n",
    "U = 3.3\n",
    "y_array_exp = s2ns[ℓ-1,:,n_maxs[ℓ-1]+3]\n",
    "sigmas = s2nsErr[ℓ-1,:,n_maxs[ℓ-1]+3]\n",
    "fit_start = 0\n",
    "fit_stop = num_betas\n",
    "\n",
    "# Perform 3-parameter exponential fit\n",
    "popt_exponential, pcov_exponential = scipy.optimize.curve_fit(exponential, betas[fit_start:fit_stop], y_array_exp[fit_start:fit_stop],sigma=sigmas[fit_start:fit_stop],\n",
    "                                                             p0=[0.0,0.5,y_array_exp[-1]])\n",
    "\n",
    "\n",
    "# Extract fit parameters\n",
    "c1,c2,c3 = popt_exponential\n",
    "c1_err,c2_err,c3_err = np.sqrt(np.diag(pcov_exponential))\n",
    "\n",
    "# extrapolated_S2s[0] = c3\n",
    "# extrapolated_S2s_err[0] = c3_err\n",
    "\n",
    "# Perform the fit\n",
    "betas_fit = np.linspace(betas[fit_start],betas[fit_stop-1],1000)\n",
    "y_fit = exponential(betas_fit,c1,c2,c3)\n",
    "\n",
    "plt.plot(betas_fit,y_fit,label='fit',lw=2)\n",
    "plt.errorbar(betas,y_array_exp, yerr=sigmas,color='firebrick',marker='o',label='data',fmt='.',\n",
    "            capsize=5)\n",
    "plt.ylabel(r\"$S_2$\")\n",
    "plt.xlabel(r\"$\\beta$\")\n",
    "\n",
    "# plt.annotate(r\"$\\ell=%d$\"%(ℓ),(0.75,0.12),xycoords=\"axes fraction\")\n",
    "\n",
    "# plt.show()\n",
    "\n",
    "print(\"%.4f+/-%.4f\"%(c3,c3_err))\n",
    "\n",
    "s2nSecs_extrapolations[6] = c3\n",
    "s2nSecsErr_extrapolations[6] = c3_err"
   ]
  },
  {
   "cell_type": "code",
   "execution_count": 122,
   "metadata": {},
   "outputs": [],
   "source": [
    "ns = np.arange(n_max-3,n_max+4)"
   ]
  },
  {
   "cell_type": "code",
   "execution_count": 123,
   "metadata": {},
   "outputs": [],
   "source": [
    "# Save the extrapolations to file here\n",
    "D=1\n",
    "l_max=L//2\n",
    "t=1.000000\n",
    "beta_list = np.array(betas)\n",
    "#Format the data file\n",
    "with open(\"../ProcessedData/\"+str(D)+\"D_%d_%d_%d_%.6f_%.6f_extrapolations_%d_s2nSecs.dat\"%(L,N,l_max,U,t,bin_size),\"wb\") as processed_data:\n",
    "    np.savetxt(processed_data,np.c_[ns,s2nSecs_extrapolations,s2nSecsErr_extrapolations],delimiter=\" \",fmt=\"%.16f\",header=\"BH Parameters: L=%d,N=%d,D=%d,l=%d,t=%.6f,beta=extrapolations,bin_size=%d \\n n               s2n               StdErr.\"%(L,N,D,l_max,t,bin_size))"
   ]
  },
  {
   "cell_type": "code",
   "execution_count": 124,
   "metadata": {},
   "outputs": [],
   "source": [
    "# Plot\n",
    "sectors_data = np.loadtxt(\"../ProcessedData/1D_\"+str(L)+\"_\"+str(N)+\"_\"+str(l_max)+\"_3.300000_1.000000_extrapolations_\"+str(bin_size)+\"_s2nSecs.dat\")\n",
    "ns = sectors_data[:,0]\n",
    "s2n = sectors_data[:,1]\n",
    "s2n_err = sectors_data[:,2]"
   ]
  },
  {
   "cell_type": "code",
   "execution_count": 125,
   "metadata": {},
   "outputs": [
    {
     "data": {
      "image/png": "[encoded data removed]",
      "text/plain": [
       "<Figure size 432x288 with 1 Axes>"
      ]
     },
     "metadata": {
      "needs_background": "light"
     },
     "output_type": "display_data"
    }
   ],
   "source": [
    "plt.errorbar(ns[0:],s2n[0:],yerr=s2n_err[0:],fmt='.')\n",
    "plt.xlabel(r'$n$')\n",
    "plt.ylabel(r'$s_2(\\ell;n)$')\n",
    "plt.annotate(r\"$U=3.300000$\",(0.17,0.8+0.08),xycoords='figure fraction',fontsize=10)\n",
    "plt.annotate(r\"$D=1$\",(0.17,0.7+0.08),xycoords='figure fraction',fontsize=10)\n",
    "plt.annotate(r\"$L=N=%d$\"%L,(0.37,0.8+0.08),xycoords='figure fraction',fontsize=10)\n",
    "plt.annotate(r\"$\\ell=%d$\"%l_max,(0.37,0.7+0.08),xycoords='figure fraction',fontsize=10)\n",
    "\n",
    "# plt.annotate(r\"$\\ell=L/2$\",(0.20,0.5),xycoords='figure fraction',fontsize=10);\n",
    "# plt.savefig(r\"s2acc_scaling.pdf\",dpi=300)\n",
    "\n",
    "plt.savefig(\"/Users/ecasiano/Desktop/s2n_vs_sectors_ugly.pdf\",dpi=300)"
   ]
  },
  {
   "cell_type": "code",
   "execution_count": null,
   "metadata": {},
   "outputs": [],
   "source": []
  },
  {
   "cell_type": "code",
   "execution_count": null,
   "metadata": {},
   "outputs": [],
   "source": []
  },
  {
   "cell_type": "code",
   "execution_count": null,
   "metadata": {},
   "outputs": [],
   "source": []
  },
  {
   "cell_type": "code",
   "execution_count": null,
   "metadata": {},
   "outputs": [],
   "source": []
  },
  {
   "cell_type": "code",
   "execution_count": null,
   "metadata": {},
   "outputs": [],
   "source": []
  }
 ],
 "metadata": {
  "kernelspec": {
   "display_name": "Python 3",
   "language": "python",
   "name": "python3"
  },
  "language_info": {
   "codemirror_mode": {
    "name": "ipython",
    "version": 3
   },
   "file_extension": ".py",
   "mimetype": "text/x-python",
   "name": "python",
   "nbconvert_exporter": "python",
   "pygments_lexer": "ipython3",
   "version": "3.8.5"
  }
 },
 "nbformat": 4,
 "nbformat_minor": 4
}
